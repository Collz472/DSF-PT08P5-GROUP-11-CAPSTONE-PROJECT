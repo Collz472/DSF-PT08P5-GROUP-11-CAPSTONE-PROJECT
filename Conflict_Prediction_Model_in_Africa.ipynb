{
 "cells": [
  {
   "cell_type": "markdown",
   "metadata": {},
   "source": [
    "# **ANALYZING AFRICA'S CONFLICT LANDSCAPE TO INFORM BUISNESS INVESTMENTS**"
   ]
  },
  {
   "cell_type": "markdown",
   "metadata": {},
   "source": [
    "![Sample Image](RTX1DRV2.jpg)"
   ]
  },
  {
   "cell_type": "markdown",
   "metadata": {},
   "source": [
    "## **BUSINESS UNDERSTANDING**\n",
    "<p style=\"text-align: justify; font-size:16px; color:rgb(1, 1, 1);line-height: 1.8;\">\n",
    "Africa is highly marketable to multinationals due to its vast natural resources, growing consumer market, and expanding economic opportunities. However conflict and Political instability can lead to supply chain disruptions, regulatory hurdles, and heightened security expenses, making it difficult for businesses to operate efficiently. Additionally, conflicts often result in workforce displacement, financial volatility, and reputational risks.  Key Risk Factors regarding the conflict such as  event forecasting, conflict risk Score, conflict risk classification are key considerations that multinational organizations are going to be interested in when deciding which country to invest in and also when crafting their risk management strategies. This project examines these factors using a structured data driven approach. We used a data set from https://acleddata.com/about-acled/  to;<br>\n",
    "        1. Investigate insights on key risk factors causing the conflict, event forecasting, conflict risk score, and risk classification.<br>\n",
    "        2. Analyze the data set to identify conflict prone areas, forecast conflict areas, establish conflict score for countries, risk classification for different countries.<br>\n",
    "        3. Perform statistical tests to understand which areas are prone to conflict, their risk scores, forecast areas in future likely to experience conflict and classify different types of conflict.<br>\n",
    "        4. Provide actionable recommendations to multinationals on conflicts in Africa in terms of areas prone to conflicts and types of conflict so they can formulate good risk management strategies.</p>\n",
    "\n",
    "## **PROBLEM STATEMENT**\n",
    "<p style=\"text-align: justify; font-size:16px; color:rgb(1, 1, 1);line-height: 1.8;\">\n",
    "Our data science consulting firm has been hired by a UK based multinational organization (VMagic Leather Processing Factory) that is interested in investing in Africa. The mission of the firm is to establish a manufacturing plant in a location that is less prone to conflict and political instability. The company has tasked us to analyze data for different countries in Africa and come up with a model that is going to help them decide which country to invest in. Our goal is to formulate a model that can accurately determine conflict hot spots, come up with a risk score, and forecast conflict events.</p>\n",
    " \n",
    "## **OBJECTIVES**\n",
    "<p style=\"text-align: justify; font-size:16px; color:rgb(1, 1, 1);line-height: 1.8;\">\n",
    "1. Conflict Analysis in Africa: Establish a foundational understanding of conflict types, high-risk regions, and underlying causes by analyzing relevant data.<br>\n",
    "2. Dataset Exploration: Gain familiarity with the dataset’s structure, terminology, and quality by examining key variables, including numerical and categorical data.<br>\n",
    "3. Business Insights for Site Selection: Assist a multinational client in identifying conflict-free locations for a manufacturing facility by:<br>\n",
    "- Developing a predictive model to forecast conflict occurrences based on historical data and socio-political factors.<br>\n",
    "- Identifying key conflict drivers through correlation analysis of variables such as fatalities, disorder types, and actor involvement.<br>\n",
    "- Assessing spatial and temporal trends to understand conflict variations across regions and time periods.<br>\n",
    "- Evaluating conflict severity by predicting the likelihood of high-fatality events.<br>\n",
    "- Enhancing early warning systems through geographic risk assessments.<br>\n",
    "4. Statistical and Predictive Analysis<br>\n",
    "- Conduct descriptive and exploratory analysis using measures such as mean, median, variance, and frequency distribution.<br>\n",
    "- Perform correlation analysis to examine relationships between key variables.<br>\n",
    "- Apply hypothesis testing, including ANOVA, to compare disorder types across locations.<br>\n",
    "- Use predictive modeling techniques like logistic regression to assess conflict probabilities.<br>\n",
    "-Conduct trend analysis to visualize conflict patterns over time.</p>\n",
    "\n",
    "### **Summary and Recommendations**\n",
    "\n",
    "<p style=\"text-align: justify; font-size:16px; color:rgb(1, 1, 1);line-height: 1.8;\">\n",
    "Synthesize findings and provide strategic recommendations, including identifying the most suitable country for investment and highlighting conflict-driving factors.</p>\n",
    "\n",
    "## **DATA UNDERSTANDING**\n",
    "<p style=\"text-align: justify; font-size:16px; color:rgb(1, 1, 1);line-height: 1.8;\">\n",
    "In this project, we worked with the ACLED dataset—a comprehensive repository of real-time data on political violence, protests, and other politically relevant events from around the world. The dataset captures a wide array of details, including unique event identifiers, precise dates, event types and sub-types, information about the actors involved, geographic coordinates, and additional contextual attributes such as reported fatalities, tags, and sources. The raw data is collected via a global network that aggregates reports from local, regional, and national media, government publications, and over 50 local data collection partners, covering more than 100 languages and updated on a weekly basis. Data can be accessed through ACLED’s export tools, curated downloads, or an API, and is accompanied by comprehensive documentation that clearly defines each feature, ensuring analytical clarity\n",
    "The dataset is extensive with 413,948 rows and 31 features.<br>\n",
    "Below is a table summarizing the key features of the ACLED dataset along with their meanings:</p>\n",
    "\n",
    "| Feature           | Description |\n",
    "|-------------------|------------|\n",
    "| event_id_cnty     | A unique alphanumeric identifier combining a numeric ID with a country code (e.g., ETH9766). |\n",
    "| event_date        | The date on which the event occurred, recorded in YYYY-MM-DD format. |\n",
    "| year              | The year during which the event took place. |\n",
    "| time_precision    | A numeric code (1–3) indicating the precision of the event date, with 1 being the most precise. |\n",
    "| disorder_type     | The overarching category of the event, such as Political violence, Demonstrations, or Strategic developments. |\n",
    "| event_type        | The general classification of the event (e.g., Battles, Protests, Explosions/Remote violence). |\n",
    "| sub_event_type    | A more specific classification within the event type (e.g., Armed clash, Peaceful protest). |\n",
    "| actor1            | The primary actor involved in the event. |\n",
    "| assoc_actor_1     | Additional or supporting actor(s) associated with actor1. |\n",
    "| inter1            | A categorical code describing actor1’s type (e.g., Rebel group, State forces). |\n",
    "| actor2            | The secondary actor involved in the event (which may represent a target or another involved party). |\n",
    "| assoc_actor_2     | Additional or supporting actor(s) associated with actor2. |\n",
    "| inter2            | A categorical code describing actor2’s type. |\n",
    "| interaction       | A combined description derived from inter1 and inter2, indicating the nature of the interaction between the actors. |\n",
    "| civilian_targeting| An indicator specifying whether civilians were the primary target (e.g., “Civilians targeted”). |\n",
    "| iso               | A three-digit ISO numeric code representing the country where the event occurred. |\n",
    "| region            | The geographic region in which the event took place (e.g., Eastern Africa). |\n",
    "| country           | The country in which the event occurred. |\n",
    "| admin1            | The primary sub-national administrative region (e.g., state or province). |\n",
    "| admin2            | The secondary sub-national administrative region (if applicable). |\n",
    "| admin3            | The tertiary sub-national administrative region (if available). |\n",
    "| location          | The specific name of the place where the event occurred. |\n",
    "| latitude          | The latitude coordinate of the event location in decimal degrees. |\n",
    "| longitude         | The longitude coordinate of the event location in decimal degrees. |\n",
    "| geo_precision     | A numeric code (1–3) indicating the precision of the geographic data, with 1 being the most precise. |\n",
    "| source            | The source(s) used to report the event, which may include multiple sources separated by semicolons. |\n",
    "| source_scale      | Indicates the geographic closeness of the source to the event (e.g., Local partner, National). |\n",
    "| notes             | Additional descriptive information about the event. |\n",
    "| fatalities        | The number of reported fatalities resulting from the event (0 if none are reported). |\n",
    "| tags              | Keywords or structured tags that provide additional context to the event (e.g., “women targeted: politicians”). |\n",
    "| timestamp         | A Unix timestamp representing when the event was uploaded to the ACLED API, capturing the exact date and time of data entry. |\n",
    "\n",
    "<p style=\"text-align: justify; font-size:16px; color:rgb(1, 1, 1);line-height: 1.8;\">\n",
    "Furthermore, ACLED categorizes its events using a detailed classification system outlined in Table 2. This table presents the different event types, their associated sub-event types, and the overarching disorder categories. The event type provides a broad categorization—such as Battles or Protests—while the sub-event types offer more granular details (for example, distinguishing between an “Armed clash” and a “Government regains territory” within Battles). The disorder type further contextualizes the event by indicating whether it falls under political violence, demonstrations, or strategic developments. This structured taxonomy is essential for accurately analyzing conflict dynamics and understanding the nuanced nature of political violence.</p>\n",
    "\n",
    "| Event Type                 | Sub-Event Types                                                                                                                                   | Disorder Type                    |\n",
    "|---------------------------|----------------------------------------------------------------------------------------------------------------------------------------------------|----------------------------------|\n",
    "| Battles                   | Government regains territory, Non-state actor overtakes territory, Armed clash                                                                      | Political violence               |\n",
    "| Protests                  | Excessive force against protesters, Protest with intervention, Peaceful protest                                                                    | Political violence; Demonstrations |\n",
    "| Riots                     | Violent demonstration, Mob violence                                                                                                                | Political violence; Demonstrations |\n",
    "| Explosions/Remote violence| Chemical weapon, Air/drone strike, Suicide bomb, Shelling/artillery/missile attack, Remote explosive/landmine/IED, Grenade                         | Political violence               |\n",
    "| Violence against civilians| Sexual violence, Attack, Abduction/forced disappearance                                                                                            | Political violence               |\n",
    "| Strategic developments    | Agreement, Arrests, Change to group/activity, Disrupted weapons use, Headquarters or base established, Looting/property destruction, Non-violent transfer of territory, Other | Strategic developments           |\n",
    "\n",
    "\n",
    "\n",
    "\n"
   ]
  },
  {
   "cell_type": "markdown",
   "metadata": {},
   "source": [
    "### **Importing Libraries**"
   ]
  },
  {
   "cell_type": "code",
   "execution_count": 403,
   "metadata": {},
   "outputs": [],
   "source": [
    "# Importing necessary libraries\n",
    "import pandas as pd\n",
    "import numpy as np\n",
    "import zipfile\n",
    "import csv\n",
    "\n",
    "# Data visualization\n",
    "import seaborn as sns\n",
    "import matplotlib.pyplot as plt\n",
    "%matplotlib inline\n",
    "\n",
    "# Machine learning utilities\n",
    "from sklearn.model_selection import train_test_split, cross_val_score, GridSearchCV, RandomizedSearchCV\n",
    "from sklearn.pipeline import Pipeline\n",
    "import sklearn\n",
    "from imblearn.over_sampling import SMOTE, SMOTENC\n",
    "from sklearn.metrics import accuracy_score,f1_score,recall_score,precision_score,confusion_matrix,roc_curve,roc_auc_score,classification_report \n",
    "\n",
    "# performance metrics\n",
    "from scipy import stats\n",
    "import statsmodels.api as sm\n",
    "from statsmodels.stats.outliers_influence import variance_inflation_factor\n",
    "from sklearn.preprocessing import StandardScaler\n",
    "\n",
    "# Algorithms for supervised learning methods\n",
    "from sklearn.tree import DecisionTreeClassifier\n",
    "from sklearn.ensemble import RandomForestClassifier\n",
    "from sklearn.linear_model import LogisticRegression\n",
    "import xgboost as xgb\n",
    "\n",
    "# Filtering future warnings\n",
    "import warnings\n",
    "warnings.filterwarnings('ignore')"
   ]
  },
  {
   "cell_type": "markdown",
   "metadata": {},
   "source": [
    "### **Loading the Dataset**"
   ]
  },
  {
   "cell_type": "code",
   "execution_count": 374,
   "metadata": {},
   "outputs": [],
   "source": [
    "# Load the dataset\n",
    "df = pd.read_csv('../Africa_1997-2025_Feb28.csv')"
   ]
  },
  {
   "cell_type": "markdown",
   "metadata": {},
   "source": [
    "### **Exploring the structure of the Dataset**"
   ]
  },
  {
   "cell_type": "code",
   "execution_count": 375,
   "metadata": {},
   "outputs": [
    {
     "name": "stdout",
     "output_type": "stream",
     "text": [
      "Dataset Overview:\n",
      "This dataset contains 413947 rows and 31 columns\n",
      "\n",
      "This are the columns available in the dataset Index(['event_id_cnty', 'event_date', 'year', 'time_precision',\n",
      "       'disorder_type', 'event_type', 'sub_event_type', 'actor1',\n",
      "       'assoc_actor_1', 'inter1', 'actor2', 'assoc_actor_2', 'inter2',\n",
      "       'interaction', 'civilian_targeting', 'iso', 'region', 'country',\n",
      "       'admin1', 'admin2', 'admin3', 'location', 'latitude', 'longitude',\n",
      "       'geo_precision', 'source', 'source_scale', 'notes', 'fatalities',\n",
      "       'tags', 'timestamp'],\n",
      "      dtype='object') columns\n",
      "The shows more information about the dataset, that is the entries and data type per column\n",
      "\n",
      "<class 'pandas.core.frame.DataFrame'>\n",
      "RangeIndex: 413947 entries, 0 to 413946\n",
      "Data columns (total 31 columns):\n",
      " #   Column              Non-Null Count   Dtype  \n",
      "---  ------              --------------   -----  \n",
      " 0   event_id_cnty       413947 non-null  object \n",
      " 1   event_date          413947 non-null  object \n",
      " 2   year                413947 non-null  int64  \n",
      " 3   time_precision      413947 non-null  int64  \n",
      " 4   disorder_type       413947 non-null  object \n",
      " 5   event_type          413947 non-null  object \n",
      " 6   sub_event_type      413947 non-null  object \n",
      " 7   actor1              413947 non-null  object \n",
      " 8   assoc_actor_1       114747 non-null  object \n",
      " 9   inter1              413947 non-null  object \n",
      " 10  actor2              301956 non-null  object \n",
      " 11  assoc_actor_2       85527 non-null   object \n",
      " 12  inter2              301956 non-null  object \n",
      " 13  interaction         413947 non-null  object \n",
      " 14  civilian_targeting  123147 non-null  object \n",
      " 15  iso                 413947 non-null  int64  \n",
      " 16  region              413947 non-null  object \n",
      " 17  country             413947 non-null  object \n",
      " 18  admin1              413930 non-null  object \n",
      " 19  admin2              410127 non-null  object \n",
      " 20  admin3              209892 non-null  object \n",
      " 21  location            413947 non-null  object \n",
      " 22  latitude            413947 non-null  float64\n",
      " 23  longitude           413947 non-null  float64\n",
      " 24  geo_precision       413947 non-null  int64  \n",
      " 25  source              413947 non-null  object \n",
      " 26  source_scale        413947 non-null  object \n",
      " 27  notes               413947 non-null  object \n",
      " 28  fatalities          413947 non-null  int64  \n",
      " 29  tags                94466 non-null   object \n",
      " 30  timestamp           413947 non-null  int64  \n",
      "dtypes: float64(2), int64(6), object(23)\n",
      "memory usage: 97.9+ MB\n",
      "None\n",
      "\n",
      "First 5 Rows:\n"
     ]
    },
    {
     "data": {
      "text/html": [
       "<div>\n",
       "<style scoped>\n",
       "    .dataframe tbody tr th:only-of-type {\n",
       "        vertical-align: middle;\n",
       "    }\n",
       "\n",
       "    .dataframe tbody tr th {\n",
       "        vertical-align: top;\n",
       "    }\n",
       "\n",
       "    .dataframe thead th {\n",
       "        text-align: right;\n",
       "    }\n",
       "</style>\n",
       "<table border=\"1\" class=\"dataframe\">\n",
       "  <thead>\n",
       "    <tr style=\"text-align: right;\">\n",
       "      <th></th>\n",
       "      <th>event_id_cnty</th>\n",
       "      <th>event_date</th>\n",
       "      <th>year</th>\n",
       "      <th>time_precision</th>\n",
       "      <th>disorder_type</th>\n",
       "      <th>event_type</th>\n",
       "      <th>sub_event_type</th>\n",
       "      <th>actor1</th>\n",
       "      <th>assoc_actor_1</th>\n",
       "      <th>inter1</th>\n",
       "      <th>...</th>\n",
       "      <th>location</th>\n",
       "      <th>latitude</th>\n",
       "      <th>longitude</th>\n",
       "      <th>geo_precision</th>\n",
       "      <th>source</th>\n",
       "      <th>source_scale</th>\n",
       "      <th>notes</th>\n",
       "      <th>fatalities</th>\n",
       "      <th>tags</th>\n",
       "      <th>timestamp</th>\n",
       "    </tr>\n",
       "  </thead>\n",
       "  <tbody>\n",
       "    <tr>\n",
       "      <th>0</th>\n",
       "      <td>MLI33921</td>\n",
       "      <td>2025-02-28</td>\n",
       "      <td>2025</td>\n",
       "      <td>1</td>\n",
       "      <td>Political violence</td>\n",
       "      <td>Explosions/Remote violence</td>\n",
       "      <td>Remote explosive/landmine/IED</td>\n",
       "      <td>JNIM: Group for Support of Islam and Muslims</td>\n",
       "      <td>NaN</td>\n",
       "      <td>Rebel group</td>\n",
       "      <td>...</td>\n",
       "      <td>Ibdakan</td>\n",
       "      <td>18.9689</td>\n",
       "      <td>2.0041</td>\n",
       "      <td>2</td>\n",
       "      <td>Al Zallaqa</td>\n",
       "      <td>New media</td>\n",
       "      <td>On 28 February 2025, JNIM claimed to have targ...</td>\n",
       "      <td>0</td>\n",
       "      <td>NaN</td>\n",
       "      <td>1741039795</td>\n",
       "    </tr>\n",
       "    <tr>\n",
       "      <th>1</th>\n",
       "      <td>BFO13376</td>\n",
       "      <td>2025-02-28</td>\n",
       "      <td>2025</td>\n",
       "      <td>1</td>\n",
       "      <td>Political violence</td>\n",
       "      <td>Battles</td>\n",
       "      <td>Armed clash</td>\n",
       "      <td>JNIM: Group for Support of Islam and Muslims</td>\n",
       "      <td>NaN</td>\n",
       "      <td>Rebel group</td>\n",
       "      <td>...</td>\n",
       "      <td>Gnangdin</td>\n",
       "      <td>11.3693</td>\n",
       "      <td>-0.3600</td>\n",
       "      <td>1</td>\n",
       "      <td>Undisclosed Source</td>\n",
       "      <td>Local partner-Other</td>\n",
       "      <td>On 28 February 2025, an armed group (likely JN...</td>\n",
       "      <td>0</td>\n",
       "      <td>NaN</td>\n",
       "      <td>1741039795</td>\n",
       "    </tr>\n",
       "    <tr>\n",
       "      <th>2</th>\n",
       "      <td>MLI33922</td>\n",
       "      <td>2025-02-28</td>\n",
       "      <td>2025</td>\n",
       "      <td>1</td>\n",
       "      <td>Political violence</td>\n",
       "      <td>Violence against civilians</td>\n",
       "      <td>Attack</td>\n",
       "      <td>Military Forces of Mali (2021-)</td>\n",
       "      <td>Wagner Group</td>\n",
       "      <td>State forces</td>\n",
       "      <td>...</td>\n",
       "      <td>Eghacher-Sediden</td>\n",
       "      <td>18.5558</td>\n",
       "      <td>1.1113</td>\n",
       "      <td>1</td>\n",
       "      <td>Twitter</td>\n",
       "      <td>New media</td>\n",
       "      <td>On 28 February 2025, a FAMa and Wagner patrol ...</td>\n",
       "      <td>0</td>\n",
       "      <td>NaN</td>\n",
       "      <td>1741039795</td>\n",
       "    </tr>\n",
       "    <tr>\n",
       "      <th>3</th>\n",
       "      <td>GHA2795</td>\n",
       "      <td>2025-02-28</td>\n",
       "      <td>2025</td>\n",
       "      <td>1</td>\n",
       "      <td>Political violence</td>\n",
       "      <td>Violence against civilians</td>\n",
       "      <td>Attack</td>\n",
       "      <td>Land Guards</td>\n",
       "      <td>NaN</td>\n",
       "      <td>External/Other forces</td>\n",
       "      <td>...</td>\n",
       "      <td>Bibiani</td>\n",
       "      <td>6.4667</td>\n",
       "      <td>-2.3333</td>\n",
       "      <td>2</td>\n",
       "      <td>3 News</td>\n",
       "      <td>National</td>\n",
       "      <td>On 28 February 2025, a land guard shot a farme...</td>\n",
       "      <td>0</td>\n",
       "      <td>NaN</td>\n",
       "      <td>1741039795</td>\n",
       "    </tr>\n",
       "    <tr>\n",
       "      <th>4</th>\n",
       "      <td>GHA2800</td>\n",
       "      <td>2025-02-28</td>\n",
       "      <td>2025</td>\n",
       "      <td>1</td>\n",
       "      <td>Political violence</td>\n",
       "      <td>Riots</td>\n",
       "      <td>Mob violence</td>\n",
       "      <td>Rioters (Ghana)</td>\n",
       "      <td>NaN</td>\n",
       "      <td>Rioters</td>\n",
       "      <td>...</td>\n",
       "      <td>Accra</td>\n",
       "      <td>5.5560</td>\n",
       "      <td>-0.1969</td>\n",
       "      <td>3</td>\n",
       "      <td>Ghana Web</td>\n",
       "      <td>National</td>\n",
       "      <td>On 28 February 2025, citizens threw stones at ...</td>\n",
       "      <td>0</td>\n",
       "      <td>crowd size=no report</td>\n",
       "      <td>1741039795</td>\n",
       "    </tr>\n",
       "  </tbody>\n",
       "</table>\n",
       "<p>5 rows × 31 columns</p>\n",
       "</div>"
      ],
      "text/plain": [
       "  event_id_cnty  event_date  year  time_precision       disorder_type  \\\n",
       "0      MLI33921  2025-02-28  2025               1  Political violence   \n",
       "1      BFO13376  2025-02-28  2025               1  Political violence   \n",
       "2      MLI33922  2025-02-28  2025               1  Political violence   \n",
       "3       GHA2795  2025-02-28  2025               1  Political violence   \n",
       "4       GHA2800  2025-02-28  2025               1  Political violence   \n",
       "\n",
       "                   event_type                 sub_event_type  \\\n",
       "0  Explosions/Remote violence  Remote explosive/landmine/IED   \n",
       "1                     Battles                    Armed clash   \n",
       "2  Violence against civilians                         Attack   \n",
       "3  Violence against civilians                         Attack   \n",
       "4                       Riots                   Mob violence   \n",
       "\n",
       "                                         actor1 assoc_actor_1  \\\n",
       "0  JNIM: Group for Support of Islam and Muslims           NaN   \n",
       "1  JNIM: Group for Support of Islam and Muslims           NaN   \n",
       "2               Military Forces of Mali (2021-)  Wagner Group   \n",
       "3                                   Land Guards           NaN   \n",
       "4                               Rioters (Ghana)           NaN   \n",
       "\n",
       "                  inter1  ...          location latitude longitude  \\\n",
       "0            Rebel group  ...           Ibdakan  18.9689    2.0041   \n",
       "1            Rebel group  ...          Gnangdin  11.3693   -0.3600   \n",
       "2           State forces  ...  Eghacher-Sediden  18.5558    1.1113   \n",
       "3  External/Other forces  ...           Bibiani   6.4667   -2.3333   \n",
       "4                Rioters  ...             Accra   5.5560   -0.1969   \n",
       "\n",
       "  geo_precision              source         source_scale  \\\n",
       "0             2          Al Zallaqa            New media   \n",
       "1             1  Undisclosed Source  Local partner-Other   \n",
       "2             1             Twitter            New media   \n",
       "3             2              3 News             National   \n",
       "4             3           Ghana Web             National   \n",
       "\n",
       "                                               notes fatalities  \\\n",
       "0  On 28 February 2025, JNIM claimed to have targ...          0   \n",
       "1  On 28 February 2025, an armed group (likely JN...          0   \n",
       "2  On 28 February 2025, a FAMa and Wagner patrol ...          0   \n",
       "3  On 28 February 2025, a land guard shot a farme...          0   \n",
       "4  On 28 February 2025, citizens threw stones at ...          0   \n",
       "\n",
       "                   tags   timestamp  \n",
       "0                   NaN  1741039795  \n",
       "1                   NaN  1741039795  \n",
       "2                   NaN  1741039795  \n",
       "3                   NaN  1741039795  \n",
       "4  crowd size=no report  1741039795  \n",
       "\n",
       "[5 rows x 31 columns]"
      ]
     },
     "execution_count": 375,
     "metadata": {},
     "output_type": "execute_result"
    }
   ],
   "source": [
    "print(\"Dataset Overview:\")\n",
    "# checking the shape of the dataset\n",
    "print(f\"This dataset contains {df.shape[0]} rows and {df.shape[1]} columns\\n\")\n",
    "\n",
    "# Checking the Columns\n",
    "print(f\"This are the columns available in the dataset {df.columns} columns\")\n",
    "\n",
    "#Checking the Data Type\n",
    "print(f\"The shows more information about the dataset, that is the entries and data type per column\\n\")\n",
    "print(df.info())  # Column names, data types, and non-null counts\n",
    "\n",
    "# Preview the first few rows of data\n",
    "print(\"\\nFirst 5 Rows:\")\n",
    "df.head()\n",
    "\n"
   ]
  },
  {
   "cell_type": "code",
   "execution_count": 376,
   "metadata": {},
   "outputs": [
    {
     "name": "stdout",
     "output_type": "stream",
     "text": [
      "\n",
      "Value counts for 'region':\n"
     ]
    },
    {
     "data": {
      "text/plain": [
       "region\n",
       "Eastern Africa     129294\n",
       "Northern Africa     93960\n",
       "Western Africa      92353\n",
       "Middle Africa       65031\n",
       "Southern Africa     33309\n",
       "Name: count, dtype: int64"
      ]
     },
     "metadata": {},
     "output_type": "display_data"
    },
    {
     "name": "stdout",
     "output_type": "stream",
     "text": [
      "\n",
      "Value counts for 'country':\n"
     ]
    },
    {
     "data": {
      "text/plain": [
       "country\n",
       "Somalia                                         48651\n",
       "Nigeria                                         40480\n",
       "Democratic Republic of Congo                    33961\n",
       "Sudan                                           33287\n",
       "South Africa                                    22662\n",
       "Kenya                                           16693\n",
       "Cameroon                                        16248\n",
       "Ethiopia                                        14599\n",
       "South Sudan                                     14422\n",
       "Morocco                                         13059\n",
       "Algeria                                         12712\n",
       "Mali                                            12302\n",
       "Burkina Faso                                    12079\n",
       "Libya                                           11898\n",
       "Egypt                                           11801\n",
       "Tunisia                                         11203\n",
       "Burundi                                         10868\n",
       "Uganda                                           9183\n",
       "Central African Republic                         7638\n",
       "Zimbabwe                                         6710\n",
       "Sierra Leone                                     4982\n",
       "Mozambique                                       4761\n",
       "Niger                                            4703\n",
       "Madagascar                                       4110\n",
       "Angola                                           4043\n",
       "Ivory Coast                                      3086\n",
       "Guinea                                           2988\n",
       "Ghana                                            2675\n",
       "Senegal                                          2114\n",
       "Mauritania                                       2027\n",
       "Chad                                             1980\n",
       "Liberia                                          1725\n",
       "Benin                                            1648\n",
       "Malawi                                           1588\n",
       "Zambia                                           1544\n",
       "Namibia                                          1188\n",
       "Tanzania                                         1170\n",
       "Rwanda                                            853\n",
       "eSwatini                                          805\n",
       "Reunion                                           625\n",
       "Togo                                              597\n",
       "Mauritius                                         580\n",
       "Republic of Congo                                 534\n",
       "Gabon                                             508\n",
       "Eritrea                                           408\n",
       "Guinea-Bissau                                     375\n",
       "Mayotte                                           352\n",
       "Gambia                                            299\n",
       "Cape Verde                                        273\n",
       "Lesotho                                           249\n",
       "Djibouti                                          219\n",
       "Comoros                                           193\n",
       "Botswana                                          149\n",
       "Equatorial Guinea                                  77\n",
       "Sao Tome and Principe                              42\n",
       "Seychelles                                         19\n",
       "Saint Helena, Ascension and Tristan da Cunha        2\n",
       "Name: count, dtype: int64"
      ]
     },
     "metadata": {},
     "output_type": "display_data"
    },
    {
     "name": "stdout",
     "output_type": "stream",
     "text": [
      "\n",
      "Value counts for 'event_type':\n"
     ]
    },
    {
     "data": {
      "text/plain": [
       "event_type\n",
       "Battles                       105556\n",
       "Violence against civilians    100372\n",
       "Protests                       94993\n",
       "Riots                          42737\n",
       "Strategic developments         38984\n",
       "Explosions/Remote violence     31305\n",
       "Name: count, dtype: int64"
      ]
     },
     "metadata": {},
     "output_type": "display_data"
    },
    {
     "name": "stdout",
     "output_type": "stream",
     "text": [
      "\n",
      "Value counts for 'disorder_type':\n"
     ]
    },
    {
     "data": {
      "text/plain": [
       "disorder_type\n",
       "Political violence                    256514\n",
       "Demonstrations                        115877\n",
       "Strategic developments                 38984\n",
       "Political violence; Demonstrations      2572\n",
       "Name: count, dtype: int64"
      ]
     },
     "metadata": {},
     "output_type": "display_data"
    }
   ],
   "source": [
    "# Checking the Value counts for Categorical columns eg. 'region', 'country', 'event_type', 'disorder_type'\n",
    "print(\"\\nValue counts for 'region':\")\n",
    "display(df['region'].value_counts())\n",
    "\n",
    "print(\"\\nValue counts for 'country':\")\n",
    "display(df['country'].value_counts())\n",
    "\n",
    "print(\"\\nValue counts for 'event_type':\")\n",
    "display(df['event_type'].value_counts())\n",
    "\n",
    "print(\"\\nValue counts for 'disorder_type':\")\n",
    "display(df['disorder_type'].value_counts())"
   ]
  },
  {
   "cell_type": "code",
   "execution_count": 377,
   "metadata": {},
   "outputs": [
    {
     "name": "stdout",
     "output_type": "stream",
     "text": [
      "\n",
      "Summary Statistics:\n",
      "                year  time_precision            iso       latitude  \\\n",
      "count  413947.000000   413947.000000  413947.000000  413947.000000   \n",
      "mean     2017.527964        1.130737     510.399988       6.922263   \n",
      "std         6.608510        0.393477     250.075057      15.495063   \n",
      "min      1997.000000        1.000000      12.000000     -34.706800   \n",
      "25%      2015.000000        1.000000     231.000000       0.315600   \n",
      "50%      2020.000000        1.000000     566.000000       6.693600   \n",
      "75%      2022.000000        1.000000     710.000000      13.515700   \n",
      "max      2025.000000        3.000000     894.000000      37.281500   \n",
      "\n",
      "           longitude  geo_precision     fatalities     timestamp  \n",
      "count  413947.000000  413947.000000  413947.000000  4.139470e+05  \n",
      "mean       21.886800       1.279074       2.439153  1.676141e+09  \n",
      "std        16.776814       0.494604      24.320917  5.263689e+07  \n",
      "min       -25.163100       1.000000       0.000000  1.552576e+09  \n",
      "25%         8.155500       1.000000       0.000000  1.622068e+09  \n",
      "50%        28.043600       1.000000       0.000000  1.689711e+09  \n",
      "75%        33.483300       2.000000       1.000000  1.724714e+09  \n",
      "max        64.683200       3.000000    1350.000000  1.741072e+09  \n"
     ]
    }
   ],
   "source": [
    "# Summary statistics for numerical columns\n",
    "print(\"\\nSummary Statistics:\")\n",
    "print(df.describe())  # Mean, min, max, etc., for numerical columns"
   ]
  },
  {
   "cell_type": "markdown",
   "metadata": {},
   "source": [
    "### **Data Cleaning**\n",
    "#### **Data Cleaning Plan**\n",
    "> 1. Dropping irrelevant data i.e columns that do not add value to the analysis\n",
    "> 2. Handling Missing Data Fill or drop missing values based on relevance.\n",
    "> 3. Removing Duplicates if any exist.\n",
    "> 4. Detect and remove extreme values that could distort analysis that is remove outliers\n",
    "> 5. Cleaning Text Data that is renaming columns and correct of typos\n",
    "\n",
    "NB: for the missing values this is the criteria that will be used:\n",
    "> * If a column has 0% missing values, no cleaning is needed.\n",
    "> * If a column has less than 5% missing values, you can either drop the missing rows or fill them using mean/median/mode.\n",
    "> * If a column has more than 50% missing values, it may be better to drop the column entirely."
   ]
  },
  {
   "cell_type": "markdown",
   "metadata": {},
   "source": [
    "##### ***The following columns will be dropped as they are irrelevant to our anlaysis***\n",
    "\n",
    "> * event_id_cnty – Unique identifier for events (not useful for prediction).\n",
    "> * timestamp – A Unix timestamp; redundant with event_date.\n",
    "> * notes – Descriptive text that is difficult to quantify for modeling.\n",
    "> * source & source_scale – Identifies where the data was collected but may not contribute to predicting future conflict.\n",
    "> * tags – Sparse data and may not be structured enough for modeling.\n",
    "> * assoc_actor_1 & assoc_actor_2 – Frequently missing values; may not provide strong predictive power. yet it is backed up by actor\n",
    "> * iso - The iso column represents the ISO country code, which is a numeric identifier for each country.\n",
    "> * time_precision - The time_precision column indicates how precise the event date is, hence it less useful."
   ]
  },
  {
   "cell_type": "code",
   "execution_count": 378,
   "metadata": {},
   "outputs": [
    {
     "name": "stdout",
     "output_type": "stream",
     "text": [
      "\n",
      " The number of duplicates in the dataset is:\n",
      "0\n",
      "\n",
      "Missing Values:\n",
      "event_id_cnty              0\n",
      "event_date                 0\n",
      "year                       0\n",
      "time_precision             0\n",
      "disorder_type              0\n",
      "event_type                 0\n",
      "sub_event_type             0\n",
      "actor1                     0\n",
      "assoc_actor_1         299200\n",
      "inter1                     0\n",
      "actor2                111991\n",
      "assoc_actor_2         328420\n",
      "inter2                111991\n",
      "interaction                0\n",
      "civilian_targeting    290800\n",
      "iso                        0\n",
      "region                     0\n",
      "country                    0\n",
      "admin1                    17\n",
      "admin2                  3820\n",
      "admin3                204055\n",
      "location                   0\n",
      "latitude                   0\n",
      "longitude                  0\n",
      "geo_precision              0\n",
      "source                     0\n",
      "source_scale               0\n",
      "notes                      0\n",
      "fatalities                 0\n",
      "tags                  319481\n",
      "timestamp                  0\n",
      "dtype: int64\n"
     ]
    }
   ],
   "source": [
    "# Checking for duplicates\n",
    "# Checking for missing values\n",
    "print(\"\\n The number of duplicates in the dataset is:\")\n",
    "print(df.duplicated().sum())\n",
    "\n",
    "# Checking for missing values\n",
    "print(\"\\nMissing Values:\")\n",
    "print(df.isnull().sum())  # Count missing values in each column"
   ]
  },
  {
   "cell_type": "code",
   "execution_count": 379,
   "metadata": {},
   "outputs": [
    {
     "data": {
      "text/plain": [
       "Index(['year', 'disorder_type', 'event_type', 'sub_event_type', 'actor1',\n",
       "       'inter1', 'actor2', 'inter2', 'interaction', 'civilian_targeting',\n",
       "       'region', 'country', 'admin1', 'admin2', 'admin3', 'location',\n",
       "       'latitude', 'longitude', 'geo_precision', 'fatalities'],\n",
       "      dtype='object')"
      ]
     },
     "execution_count": 379,
     "metadata": {},
     "output_type": "execute_result"
    }
   ],
   "source": [
    "df.drop(columns=[\n",
    "    'event_id_cnty',\n",
    "    'event_date',\n",
    "    'time_precision',\n",
    "    'assoc_actor_1',\n",
    "    'assoc_actor_2',\n",
    "    'iso',\n",
    "    'source',\n",
    "    'source_scale',\n",
    "    'notes',\n",
    "    'tags',\n",
    "    'timestamp',\n",
    "], inplace=True)\n",
    "# preview the columns\n",
    "df.columns"
   ]
  },
  {
   "cell_type": "code",
   "execution_count": 380,
   "metadata": {},
   "outputs": [
    {
     "data": {
      "text/plain": [
       "year                       0\n",
       "disorder_type              0\n",
       "event_type                 0\n",
       "sub_event_type             0\n",
       "actor1                     0\n",
       "inter1                     0\n",
       "actor2                111991\n",
       "inter2                111991\n",
       "interaction                0\n",
       "civilian_targeting    290800\n",
       "region                     0\n",
       "country                    0\n",
       "admin1                    17\n",
       "admin2                  3820\n",
       "admin3                204055\n",
       "location                   0\n",
       "latitude                   0\n",
       "longitude                  0\n",
       "geo_precision              0\n",
       "fatalities                 0\n",
       "dtype: int64"
      ]
     },
     "execution_count": 380,
     "metadata": {},
     "output_type": "execute_result"
    }
   ],
   "source": [
    "# checking missing values\n",
    "df.isna().sum()"
   ]
  },
  {
   "cell_type": "markdown",
   "metadata": {},
   "source": [
    "##### ***Plan to handle missing values***\n",
    "\n",
    "| Column  | Missing values  | Solution and reason                                  |\n",
    "|---------|-----------------|------------------------------------------------------|\n",
    "| actor2           | 111,991   | Fill with ***Unknown*** Some events may involve only one actor (e.g., protests, riots)         |\n",
    "| inter2           | 111,991        | Fill with ***Unknown*** If actor2 is missing, inter2 (interaction type) is also unknown       |\n",
    "| civilian_targeting | 290,800      | Fill with ***No*** Missing values likely mean civilians were not targeted             |\n",
    "| admin1           | 17            | ***Drop rows*** only a few missing, so dropping won’t affect the dataset much      |\n",
    "| admin2           | 3,820         | Fill with ***Unknown*** or mode District info missing, but \"Unknown\" preserves all events |\n",
    "| admin3           | 204,055       | ***Drop column*** Too many missing values, making it unreliable for analysis                 |"
   ]
  },
  {
   "cell_type": "code",
   "execution_count": 381,
   "metadata": {},
   "outputs": [],
   "source": [
    "# fill the rows with missing values\n",
    "df[['actor2', 'inter2', 'admin2',]] = df[['actor2', 'inter2', 'admin2',]].fillna(\"Unknown\")\n",
    "df[['civilian_targeting']] = df[['civilian_targeting']].fillna(\"No\")"
   ]
  },
  {
   "cell_type": "code",
   "execution_count": 382,
   "metadata": {},
   "outputs": [
    {
     "data": {
      "text/plain": [
       "array(['No', 'Yes'], dtype=object)"
      ]
     },
     "execution_count": 382,
     "metadata": {},
     "output_type": "execute_result"
    }
   ],
   "source": [
    "\"\"\"\n",
    "The civilian_targeting has two entries NO and civilian_targeting, for a better readibility\n",
    "replacing civilian_targeting with yes will be the enhance the readability of this column\n",
    "\"\"\"\n",
    "# replace civilian_targeting with Yes\n",
    "df['civilian_targeting'] = df['civilian_targeting'].replace({'Civilian targeting': 'Yes'})\n",
    "# preview changes\n",
    "df['civilian_targeting'].unique()"
   ]
  },
  {
   "cell_type": "code",
   "execution_count": 383,
   "metadata": {},
   "outputs": [
    {
     "data": {
      "text/plain": [
       "array(['No', 'Yes'], dtype=object)"
      ]
     },
     "execution_count": 383,
     "metadata": {},
     "output_type": "execute_result"
    }
   ],
   "source": [
    "\"\"\"\n",
    "The civilian_targeting has two entries NO and civilian_targeting, for a better readibility\n",
    "replacing civilian_targeting with yes will be the enhance the readability of this column\n",
    "\"\"\"\n",
    "# replace civilian_targeting with Yes\n",
    "df['civilian_targeting'] = df['civilian_targeting'].replace({'Civilian targeting': 'Yes'})\n",
    "# preview changes\n",
    "df['civilian_targeting'].unique()"
   ]
  },
  {
   "cell_type": "code",
   "execution_count": 384,
   "metadata": {},
   "outputs": [],
   "source": [
    "# droping nan values and dropping column\n",
    "df.dropna(subset=['admin1'], inplace=True)\n",
    "# drop column\n",
    "#df.drop('assoc_actor_2', axis=1, inplace=True)"
   ]
  },
  {
   "cell_type": "code",
   "execution_count": 385,
   "metadata": {},
   "outputs": [
    {
     "name": "stdout",
     "output_type": "stream",
     "text": [
      "The dataset contains 204038 missing values\n"
     ]
    }
   ],
   "source": [
    "# preview the missing values\n",
    "print(f\"The dataset contains {df.isna().sum().sum()} missing values\")"
   ]
  },
  {
   "cell_type": "code",
   "execution_count": 386,
   "metadata": {},
   "outputs": [
    {
     "name": "stdout",
     "output_type": "stream",
     "text": [
      "year                       0\n",
      "disorder_type              0\n",
      "event_type                 0\n",
      "sub_event_type             0\n",
      "actor1                     0\n",
      "inter1                     0\n",
      "actor2                     0\n",
      "inter2                     0\n",
      "interaction                0\n",
      "civilian_targeting         0\n",
      "region                     0\n",
      "country                    0\n",
      "admin1                     0\n",
      "admin2                     0\n",
      "admin3                204038\n",
      "location                   0\n",
      "latitude                   0\n",
      "longitude                  0\n",
      "geo_precision              0\n",
      "fatalities                 0\n",
      "dtype: int64\n"
     ]
    }
   ],
   "source": [
    "print(df.isnull().sum()) "
   ]
  },
  {
   "cell_type": "code",
   "execution_count": 387,
   "metadata": {},
   "outputs": [
    {
     "name": "stdout",
     "output_type": "stream",
     "text": [
      "The dataset contains 120924 duplicated rows\n"
     ]
    }
   ],
   "source": [
    "# checking for duplicates\n",
    "print(f\"The dataset contains {df.duplicated().sum()} duplicated rows\")"
   ]
  },
  {
   "cell_type": "code",
   "execution_count": 388,
   "metadata": {},
   "outputs": [
    {
     "name": "stdout",
     "output_type": "stream",
     "text": [
      "The dataset contains 0 duplicated rows\n"
     ]
    }
   ],
   "source": [
    "\"\"\" \n",
    "The dataset contain 120924 duplicated rows, to maintain data consistency while avoiding redundancy, \n",
    "we will keep only the first occurrence of each duplicate row and remove the rest\n",
    "\"\"\"\n",
    "# dropping duplicates while keeping first occurrence\n",
    "df.drop_duplicates(keep=\"first\", inplace=True)\n",
    "# preview\n",
    "print(f\"The dataset contains {df.duplicated().sum()} duplicated rows\")"
   ]
  },
  {
   "cell_type": "markdown",
   "metadata": {},
   "source": [
    "#### ***Detecting and handling outliers***"
   ]
  },
  {
   "cell_type": "code",
   "execution_count": 389,
   "metadata": {},
   "outputs": [
    {
     "data": {
      "image/png": "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