{
 "cells": [
  {
   "cell_type": "markdown",
   "metadata": {},
   "source": [
    "****Analyzing Africa’s Conflict Landscape to Inform Buisness Investments****"
   ]
  },
  {
   "cell_type": "markdown",
   "metadata": {},
   "source": [
    "https://www.google.com/url?sa=i&url=https%3A%2F%2Fwww.amnesty.org%2Fen%2Flatest%2Fnews%2F2021%2F04%2Fsubsaharan-africa-the-devastating-impact-of-conflicts-compounded%2F&psig=AOvVaw3YN0Gscf_ZGPUFUQ6Vjhwq&ust=1742413099745000&source=images&cd=vfe&opi=89978449&ved=0CBQQjRxqFwoTCJjB1Y6xlIwDFQAAAAAdAAAAABAJ"
   ]
  },
  {
   "cell_type": "markdown",
   "metadata": {},
   "source": [
    "![Alt text](path/to/your/image.png)\n"
   ]
  },
  {
   "cell_type": "markdown",
   "metadata": {},
   "source": [
    "![Sample Image](images/sample.png)\n"
   ]
  },
  {
   "cell_type": "markdown",
   "metadata": {},
   "source": []
  }
 ],
 "metadata": {
  "language_info": {
   "name": "python"
  }
 },
 "nbformat": 4,
 "nbformat_minor": 2
}
