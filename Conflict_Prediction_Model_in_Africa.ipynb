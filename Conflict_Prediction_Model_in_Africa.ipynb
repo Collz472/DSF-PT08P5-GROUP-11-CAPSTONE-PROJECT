{
 "cells": [
  {
   "cell_type": "markdown",
   "metadata": {},
   "source": [
    "# **Analyzing Africa’s Conflict Landscape to Inform Buisness Investments**"
   ]
  },
  {
   "cell_type": "markdown",
   "metadata": {},
   "source": [
    "![Sample Image](RTX1