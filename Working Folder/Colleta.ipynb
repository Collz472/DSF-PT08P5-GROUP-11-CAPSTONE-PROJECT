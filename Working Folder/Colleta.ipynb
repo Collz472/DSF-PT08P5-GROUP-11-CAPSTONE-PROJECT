{
 "cells": [
  {
   "cell_type": "markdown",
   "metadata": {},
   "source": [
    "BUSINESS UNDERSTANDING\n",
    "\n",
    "Africa is highly marketable to multinationals due to its vast natural resources, growing consumer market, and expanding economic opportunities. However conflict and Political instability can lead to supply chain disruptions, regulatory hurdles, and heightened security expenses, making it difficult for businesses to operate efficiently\n",
    "\n",
    "This project will examine these factors using a structured data driven approach. We will use a data set from https://acleddata.com/about-acled/ . Using this data we shall;\n",
    "\n",
    "Investigate insights on key risk factors causing the conflict, event forecasting, conflict risk score, and risk classification.\n",
    "Analyze the data set to identify conflict prone areas, forecast conflict areas, establish conflict score for countries, risk classification for different countries.\n",
    "Perform statistical tests to understand which areas are prone to conflict, their risk scores, forecast areas in future likely to experience conflict and classify different types of conflict.\n",
    "Provide actionable recommendations to multinationals on conflicts in Africa in terms of areas prone to conflicts and types of conflict so they can formulate good risk management strategies."
   ]
  },
  {
   "cell_type": "markdown",
   "metadata": {},
   "source": [
    "OBJECTIVES\n",
    "\n",
    "Conflict Analysis in Africa Establish a foundational understanding of conflict types, high-risk regions, and underlying causes by analyzing relevant data.\n",
    "\n",
    "Dataset Exploration Gain familiarity with the dataset’s structure, terminology, and quality by examining key variables, including numerical and categorical data.\n",
    "\n",
    "Business Insights for Site Selection Assist a multinational client in identifying conflict-free locations for a manufacturing facility by: a. Developing a predictive model to forecast conflict occurrences based on historical data and socio-political factors. b. Identifying key conflict drivers through correlation analysis of variables such as fatalities, disorder types, and actor involvement. c. Assessing spatial and temporal trends to understand conflict variations across regions and time periods. d. Evaluating conflict severity by predicting the likelihood of high-fatality events. e. Enhancing early warning systems through geographic risk assessments.\n",
    "\n",
    "Statistical and Predictive Analysis\n",
    "\n",
    "a. Conduct descriptive and exploratory analysis using measures such as mean, median, variance, and frequency distribution. b. Perform correlation analysis to examine relationships between key variables. c. Apply hypothesis testing, including ANOVA, to compare disorder types across locations. d. Use predictive modeling techniques like logistic regression to assess conflict probabilities. e. Conduct trend analysis to visualize conflict patterns over time.\n",
    "\n",
    "Summary and Recommendations\n",
    "Synthesize findings and provide strategic recommendations, including identifying the most suitable country for investment and highlighting conflict-driving factors."
   ]
  },
  {
   "cell_type": "markdown",
   "metadata": {},
   "source": [
    "DATA UNDERSTANDING"
   ]
  },
  {
   "cell_type": "code",
   "execution_count": 21,
   "metadata": {},
   "outputs": [],
   "source": [
    "import numpy as np\n",
    "import seaborn as sns\n",
    "import pandas as pd\n",
    "import matplotlib.pyplot as plt\n",
    "\n",
    "import warnings\n",
    "warnings.filterwarnings('ignore')"
   ]
  },
  {
   "cell_type": "code",
   "execution_count": 22,
   "metadata": {},
   "outputs": [
    {
     "data": {
      "application/vnd.microsoft.datawrangler.viewer.v0+json": {
       "columns": [
        {
         "name": "index",
         "rawType": "int64",
         "type": "integer"
        },
        {
         "name": "event_id_cnty",
         "rawType": "object",
         "type": "string"
        },
        {
         "name": "event_date",
         "rawType": "object",
         "type": "string"
        },
        {
         "name": "year",
         "rawType": "int64",
         "type": "integer"
        },
        {
         "name": "time_precision",
         "rawType": "int64",
         "type": "integer"
        },
        {
         "name": "disorder_type",
         "rawType": "object",
         "type": "string"
        },
        {
         "name": "event_type",
         "rawType": "object",
         "type": "string"
        },
        {
         "name": "sub_event_type",
         "rawType": "object",
         "type": "string"
        },
        {
         "name": "actor1",
         "rawType": "object",
         "type": "string"
        },
        {
         "name": "assoc_actor_1",
         "rawType": "object",
         "type": "string"
        },
        {
         "name": "inter1",
         "rawType": "object",
         "type": "string"
        },
        {
         "name": "actor2",
         "rawType": "object",
         "type": "string"
        },
        {
         "name": "assoc_actor_2",
         "rawType": "object",
         "type": "string"
        },
        {
         "name": "inter2",
         "rawType": "object",
         "type": "string"
        },
        {
         "name": "interaction",
         "rawType": "object",
         "type": "string"
        },
        {
         "name": "civilian_targeting",
         "rawType": "object",
         "type": "string"
        },
        {
         "name": "iso",
         "rawType": "int64",
         "type": "integer"
        },
        {
         "name": "region",
         "rawType": "object",
         "type": "string"
        },
        {
         "name": "country",
         "rawType": "object",
         "type": "string"
        },
        {
         "name": "admin1",
         "rawType": "object",
         "type": "string"
        },
        {
         "name": "admin2",
         "rawType": "object",
         "type": "string"
        },
        {
         "name": "admin3",
         "rawType": "object",
         "type": "string"
        },
        {
         "name": "location",
         "rawType": "object",
         "type": "string"
        },
        {
         "name": "latitude",
         "rawType": "float64",
         "type": "float"
        },
        {
         "name": "longitude",
         "rawType": "float64",
         "type": "float"
        },
        {
         "name": "geo_precision",
         "rawType": "int64",
         "type": "integer"
        },
        {
         "name": "source",
         "rawType": "object",
         "type": "string"
        },
        {
         "name": "source_scale",
         "rawType": "object",
         "type": "string"
        },
        {
         "name": "notes",
         "rawType": "object",
         "type": "string"
        },
        {
         "name": "fatalities",
         "rawType": "int64",
         "type": "integer"
        },
        {
         "name": "tags",
         "rawType": "object",
         "type": "string"
        },
        {
         "name": "timestamp",
         "rawType": "int64",
         "type": "integer"
        }
       ],
       "conversionMethod": "pd.DataFrame",
       "ref": "94c16bcd-ab5b-46f2-b899-f54248f2bca5",
       "rows": [
        [
         "0",
         "MLI33921",
         "28/02/2025",
         "2025",
         "1",
         "Political violence",
         "Explosions/Remote violence",
         "Remote explosive/landmine/IED",
         "JNIM: Group for Support of Islam and Muslims",
         null,
         "Rebel group",
         "Military Forces of Mali (2021-)",
         "Wagner Group",
         "State forces",
         "State forces-Rebel group",
         null,
         "466",
         "Western Africa",
         "Mali",
         "Kidal",
         "Abeibara",
         "Abeibara",
         "Ibdakan",
         "18.9689",
         "2.0041",
         "2",
         "Al Zallaqa",
         "New media",
         "On 28 February 2025, JNIM claimed to have targeted a FAMa and Wagner convoy with an IED between Ibdakan (Abeibara, Kidal) and Eghacher-Sediden (Kidal, Kidal), coded to Ibdakan. Casualties unknown.",
         "0",
         null,
         "1741039795"
        ],
        [
         "1",
         "BFO13376",
         "28/02/2025",
         "2025",
         "1",
         "Political violence",
         "Battles",
         "Armed clash",
         "JNIM: Group for Support of Islam and Muslims",
         null,
         "Rebel group",
         "VDP: Volunteer for Defense of Homeland",
         null,
         "Identity militia",
         "Rebel group-Identity militia",
         null,
         "854",
         "Western Africa",
         "Burkina Faso",
         "Centre-Est",
         "Boulgou",
         "Bittou",
         "Gnangdin",
         "11.3693",
         "-0.36",
         "1",
         "Undisclosed Source",
         "Local partner-Other",
         "On 28 February 2025, an armed group (likely JNIM militants, based on location) attacked volunteer fighters (VDP) in the village of Gnangdin (Bittou, Boulgou). Casualties unknown.",
         "0",
         null,
         "1741039795"
        ],
        [
         "2",
         "MLI33922",
         "28/02/2025",
         "2025",
         "1",
         "Political violence",
         "Violence against civilians",
         "Attack",
         "Military Forces of Mali (2021-)",
         "Wagner Group",
         "State forces",
         "Civilians (Mali)",
         null,
         "Civilians",
         "State forces-Civilians",
         "Civilian targeting",
         "466",
         "Western Africa",
         "Mali",
         "Kidal",
         "Kidal",
         "Kidal",
         "Eghacher-Sediden",
         "18.5558",
         "1.1113",
         "1",
         "Twitter",
         "New media",
         "On 28 February 2025, a FAMa and Wagner patrol fired on an encampment in the village of Eghacher-Sediden (Kidal, Kidal). Two women were injured, one of them seriously.",
         "0",
         null,
         "1741039795"
        ],
        [
         "3",
         "GHA2795",
         "28/02/2025",
         "2025",
         "1",
         "Political violence",
         "Violence against civilians",
         "Attack",
         "Land Guards",
         null,
         "External/Other forces",
         "Civilians (Ghana)",
         "Farmers (Ghana)",
         "Civilians",
         "External/Other forces-Civilians",
         "Civilian targeting",
         "288",
         "Western Africa",
         "Ghana",
         "Western North",
         "Sefwi Bibiani-Ahwiaso Bekwai",
         null,
         "Bibiani",
         "6.4667",
         "-2.3333",
         "2",
         "3 News",
         "National",
         "On 28 February 2025, a land guard shot a farmer in Sefwi Nambro near Bibiani (Sefwi Bibiani-Ahwiaso Bekwai, Western North) after he refused him access through his farm to a galamsey site.",
         "0",
         null,
         "1741039795"
        ],
        [
         "4",
         "GHA2800",
         "28/02/2025",
         "2025",
         "1",
         "Political violence",
         "Riots",
         "Mob violence",
         "Rioters (Ghana)",
         null,
         "Rioters",
         "Civilians (Ghana)",
         "Labor Group (Ghana)",
         "Civilians",
         "Rioters-Civilians",
         "Civilian targeting",
         "288",
         "Western Africa",
         "Ghana",
         "Greater Accra",
         "Accra",
         null,
         "Accra",
         "5.556",
         "-0.1969",
         "3",
         "Ghana Web",
         "National",
         "On 28 February 2025, citizens threw stones at firefighters in an unspecified location (coded to Accra, Greater Accra) to denounce their delay in response.",
         "0",
         "crowd size=no report",
         "1741039795"
        ]
       ],
       "shape": {
        "columns": 31,
        "rows": 5
       }
      },
      "text/html": [
       "<div>\n",
       "<style scoped>\n",
       "    .dataframe tbody tr th:only-of-type {\n",
       "        vertical-align: middle;\n",
       "    }\n",
       "\n",
       "    .dataframe tbody tr th {\n",
       "        vertical-align: top;\n",
       "    }\n",
       "\n",
       "    .dataframe thead th {\n",
       "        text-align: right;\n",
       "    }\n",
       "</style>\n",
       "<table border=\"1\" class=\"dataframe\">\n",
       "  <thead>\n",
       "    <tr style=\"text-align: right;\">\n",
       "      <th></th>\n",
       "      <th>event_id_cnty</th>\n",
       "      <th>event_date</th>\n",
       "      <th>year</th>\n",
       "      <th>time_precision</th>\n",
       "      <th>disorder_type</th>\n",
       "      <th>event_type</th>\n",
       "      <th>sub_event_type</th>\n",
       "      <th>actor1</th>\n",
       "      <th>assoc_actor_1</th>\n",
       "      <th>inter1</th>\n",
       "      <th>...</th>\n",
       "      <th>location</th>\n",
       "      <th>latitude</th>\n",
       "      <th>longitude</th>\n",
       "      <th>geo_precision</th>\n",
       "      <th>source</th>\n",
       "      <th>source_scale</th>\n",
       "      <th>notes</th>\n",
       "      <th>fatalities</th>\n",
       "      <th>tags</th>\n",
       "      <th>timestamp</th>\n",
       "    </tr>\n",
       "  </thead>\n",
       "  <tbody>\n",
       "    <tr>\n",
       "      <th>0</th>\n",
       "      <td>MLI33921</td>\n",
       "      <td>28/02/2025</td>\n",
       "      <td>2025</td>\n",
       "      <td>1</td>\n",
       "      <td>Political violence</td>\n",
       "      <td>Explosions/Remote violence</td>\n",
       "      <td>Remote explosive/landmine/IED</td>\n",
       "      <td>JNIM: Group for Support of Islam and Muslims</td>\n",
       "      <td>NaN</td>\n",
       "      <td>Rebel group</td>\n",
       "      <td>...</td>\n",
       "      <td>Ibdakan</td>\n",
       "      <td>18.9689</td>\n",
       "      <td>2.0041</td>\n",
       "      <td>2</td>\n",
       "      <td>Al Zallaqa</td>\n",
       "      <td>New media</td>\n",
       "      <td>On 28 February 2025, JNIM claimed to have targ...</td>\n",
       "      <td>0</td>\n",
       "      <td>NaN</td>\n",
       "      <td>1741039795</td>\n",
       "    </tr>\n",
       "    <tr>\n",
       "      <th>1</th>\n",
       "      <td>BFO13376</td>\n",
       "      <td>28/02/2025</td>\n",
       "      <td>2025</td>\n",
       "      <td>1</td>\n",
       "      <td>Political violence</td>\n",
       "      <td>Battles</td>\n",
       "      <td>Armed clash</td>\n",
       "      <td>JNIM: Group for Support of Islam and Muslims</td>\n",
       "      <td>NaN</td>\n",
       "      <td>Rebel group</td>\n",
       "      <td>...</td>\n",
       "      <td>Gnangdin</td>\n",
       "      <td>11.3693</td>\n",
       "      <td>-0.3600</td>\n",
       "      <td>1</td>\n",
       "      <td>Undisclosed Source</td>\n",
       "      <td>Local partner-Other</td>\n",
       "      <td>On 28 February 2025, an armed group (likely JN...</td>\n",
       "      <td>0</td>\n",
       "      <td>NaN</td>\n",
       "      <td>1741039795</td>\n",
       "    </tr>\n",
       "    <tr>\n",
       "      <th>2</th>\n",
       "      <td>MLI33922</td>\n",
       "      <td>28/02/2025</td>\n",
       "      <td>2025</td>\n",
       "      <td>1</td>\n",
       "      <td>Political violence</td>\n",
       "      <td>Violence against civilians</td>\n",
       "      <td>Attack</td>\n",
       "      <td>Military Forces of Mali (2021-)</td>\n",
       "      <td>Wagner Group</td>\n",
       "      <td>State forces</td>\n",
       "      <td>...</td>\n",
       "      <td>Eghacher-Sediden</td>\n",
       "      <td>18.5558</td>\n",
       "      <td>1.1113</td>\n",
       "      <td>1</td>\n",
       "      <td>Twitter</td>\n",
       "      <td>New media</td>\n",
       "      <td>On 28 February 2025, a FAMa and Wagner patrol ...</td>\n",
       "      <td>0</td>\n",
       "      <td>NaN</td>\n",
       "      <td>1741039795</td>\n",
       "    </tr>\n",
       "    <tr>\n",
       "      <th>3</th>\n",
       "      <td>GHA2795</td>\n",
       "      <td>28/02/2025</td>\n",
       "      <td>2025</td>\n",
       "      <td>1</td>\n",
       "      <td>Political violence</td>\n",
       "      <td>Violence against civilians</td>\n",
       "      <td>Attack</td>\n",
       "      <td>Land Guards</td>\n",
       "      <td>NaN</td>\n",
       "      <td>External/Other forces</td>\n",
       "      <td>...</td>\n",
       "      <td>Bibiani</td>\n",
       "      <td>6.4667</td>\n",
       "      <td>-2.3333</td>\n",
       "      <td>2</td>\n",
       "      <td>3 News</td>\n",
       "      <td>National</td>\n",
       "      <td>On 28 February 2025, a land guard shot a farme...</td>\n",
       "      <td>0</td>\n",
       "      <td>NaN</td>\n",
       "      <td>1741039795</td>\n",
       "    </tr>\n",
       "    <tr>\n",
       "      <th>4</th>\n",
       "      <td>GHA2800</td>\n",
       "      <td>28/02/2025</td>\n",
       "      <td>2025</td>\n",
       "      <td>1</td>\n",
       "      <td>Political violence</td>\n",
       "      <td>Riots</td>\n",
       "      <td>Mob violence</td>\n",
       "      <td>Rioters (Ghana)</td>\n",
       "      <td>NaN</td>\n",
       "      <td>Rioters</td>\n",
       "      <td>...</td>\n",
       "      <td>Accra</td>\n",
       "      <td>5.5560</td>\n",
       "      <td>-0.1969</td>\n",
       "      <td>3</td>\n",
       "      <td>Ghana Web</td>\n",
       "      <td>National</td>\n",
       "      <td>On 28 February 2025, citizens threw stones at ...</td>\n",
       "      <td>0</td>\n",
       "      <td>crowd size=no report</td>\n",
       "      <td>1741039795</td>\n",
       "    </tr>\n",
       "  </tbody>\n",
       "</table>\n",
       "<p>5 rows × 31 columns</p>\n",
       "</div>"
      ],
      "text/plain": [
       "  event_id_cnty  event_date  year  time_precision       disorder_type  \\\n",
       "0      MLI33921  28/02/2025  2025               1  Political violence   \n",
       "1      BFO13376  28/02/2025  2025               1  Political violence   \n",
       "2      MLI33922  28/02/2025  2025               1  Political violence   \n",
       "3       GHA2795  28/02/2025  2025               1  Political violence   \n",
       "4       GHA2800  28/02/2025  2025               1  Political violence   \n",
       "\n",
       "                   event_type                 sub_event_type  \\\n",
       "0  Explosions/Remote violence  Remote explosive/landmine/IED   \n",
       "1                     Battles                    Armed clash   \n",
       "2  Violence against civilians                         Attack   \n",
       "3  Violence against civilians                         Attack   \n",
       "4                       Riots                   Mob violence   \n",
       "\n",
       "                                         actor1 assoc_actor_1  \\\n",
       "0  JNIM: Group for Support of Islam and Muslims           NaN   \n",
       "1  JNIM: Group for Support of Islam and Muslims           NaN   \n",
       "2               Military Forces of Mali (2021-)  Wagner Group   \n",
       "3                                   Land Guards           NaN   \n",
       "4                               Rioters (Ghana)           NaN   \n",
       "\n",
       "                  inter1  ...          location latitude longitude  \\\n",
       "0            Rebel group  ...           Ibdakan  18.9689    2.0041   \n",
       "1            Rebel group  ...          Gnangdin  11.3693   -0.3600   \n",
       "2           State forces  ...  Eghacher-Sediden  18.5558    1.1113   \n",
       "3  External/Other forces  ...           Bibiani   6.4667   -2.3333   \n",
       "4                Rioters  ...             Accra   5.5560   -0.1969   \n",
       "\n",
       "  geo_precision              source         source_scale  \\\n",
       "0             2          Al Zallaqa            New media   \n",
       "1             1  Undisclosed Source  Local partner-Other   \n",
       "2             1             Twitter            New media   \n",
       "3             2              3 News             National   \n",
       "4             3           Ghana Web             National   \n",
       "\n",
       "                                               notes fatalities  \\\n",
       "0  On 28 February 2025, JNIM claimed to have targ...          0   \n",
       "1  On 28 February 2025, an armed group (likely JN...          0   \n",
       "2  On 28 February 2025, a FAMa and Wagner patrol ...          0   \n",
       "3  On 28 February 2025, a land guard shot a farme...          0   \n",
       "4  On 28 February 2025, citizens threw stones at ...          0   \n",
       "\n",
       "                   tags   timestamp  \n",
       "0                   NaN  1741039795  \n",
       "1                   NaN  1741039795  \n",
       "2                   NaN  1741039795  \n",
       "3                   NaN  1741039795  \n",
       "4  crowd size=no report  1741039795  \n",
       "\n",
       "[5 rows x 31 columns]"
      ]
     },
     "execution_count": 22,
     "metadata": {},
     "output_type": "execute_result"
    }
   ],
   "source": [
    "# import data and create df\n",
    "# df = pd.read_csv(\"Revised Dataset Africa_1997-2025_Feb28.csv\") # encoding issues\n",
    "df = pd.read_csv(\"Revised Dataset Africa_1997-2025_Feb28.csv\", encoding=\"latin-1\")\n",
    "\n",
    "#checking the first 5 columns\n",
    "df.head()"
   ]
  },
  {
   "cell_type": "code",
   "execution_count": 23,
   "metadata": {},
   "outputs": [
    {
     "data": {
      "application/vnd.microsoft.datawrangler.viewer.v0+json": {
       "columns": [
        {
         "name": "index",
         "rawType": "int64",
         "type": "integer"
        },
        {
         "name": "event_id_cnty",
         "rawType": "object",
         "type": "string"
        },
        {
         "name": "event_date",
         "rawType": "object",
         "type": "string"
        },
        {
         "name": "year",
         "rawType": "int64",
         "type": "integer"
        },
        {
         "name": "time_precision",
         "rawType": "int64",
         "type": "integer"
        },
        {
         "name": "disorder_type",
         "rawType": "object",
         "type": "string"
        },
        {
         "name": "event_type",
         "rawType": "object",
         "type": "string"
        },
        {
         "name": "sub_event_type",
         "rawType": "object",
         "type": "string"
        },
        {
         "name": "actor1",
         "rawType": "object",
         "type": "string"
        },
        {
         "name": "assoc_actor_1",
         "rawType": "object",
         "type": "string"
        },
        {
         "name": "inter1",
         "rawType": "object",
         "type": "string"
        },
        {
         "name": "actor2",
         "rawType": "object",
         "type": "string"
        },
        {
         "name": "assoc_actor_2",
         "rawType": "object",
         "type": "string"
        },
        {
         "name": "inter2",
         "rawType": "object",
         "type": "string"
        },
        {
         "name": "interaction",
         "rawType": "object",
         "type": "string"
        },
        {
         "name": "civilian_targeting",
         "rawType": "object",
         "type": "string"
        },
        {
         "name": "iso",
         "rawType": "int64",
         "type": "integer"
        },
        {
         "name": "region",
         "rawType": "object",
         "type": "string"
        },
        {
         "name": "country",
         "rawType": "object",
         "type": "string"
        },
        {
         "name": "admin1",
         "rawType": "object",
         "type": "string"
        },
        {
         "name": "admin2",
         "rawType": "object",
         "type": "string"
        },
        {
         "name": "admin3",
         "rawType": "object",
         "type": "string"
        },
        {
         "name": "location",
         "rawType": "object",
         "type": "string"
        },
        {
         "name": "latitude",
         "rawType": "float64",
         "type": "float"
        },
        {
         "name": "longitude",
         "rawType": "float64",
         "type": "float"
        },
        {
         "name": "geo_precision",
         "rawType": "int64",
         "type": "integer"
        },
        {
         "name": "source",
         "rawType": "object",
         "type": "string"
        },
        {
         "name": "source_scale",
         "rawType": "object",
         "type": "string"
        },
        {
         "name": "notes",
         "rawType": "object",
         "type": "string"
        },
        {
         "name": "fatalities",
         "rawType": "int64",
         "type": "integer"
        },
        {
         "name": "tags",
         "rawType": "object",
         "type": "string"
        },
        {
         "name": "timestamp",
         "rawType": "int64",
         "type": "integer"
        }
       ],
       "conversionMethod": "pd.DataFrame",
       "ref": "77a5ecf2-5523-498c-a03f-6b9705c2c077",
       "rows": [
        [
         "413942",
         "SIE6",
         "01/01/1997",
         "1997",
         "3",
         "Political violence",
         "Violence against civilians",
         "Attack",
         "Military Forces of Sierra Leone (1996-1997)",
         null,
         "State forces",
         "Civilians (Sierra Leone)",
         null,
         "Civilians",
         "State forces-Civilians",
         "Civilian targeting",
         "694",
         "Western Africa",
         "Sierra Leone",
         "Southern",
         "Bonthe",
         "Imperi",
         "York Island",
         "7.5317",
         "-12.4694",
         "2",
         "No Peace Without Justice; SL-LED",
         "Local partner-New media",
         "Around 1 January 1997 (month of), Military Forces of Sierra Leone (1996-1997) engaged in violence against civilians in York Island (Southern, Bonthe). No fatalities.",
         "0",
         null,
         "1670286851"
        ],
        [
         "413943",
         "SIE7",
         "01/01/1997",
         "1997",
         "3",
         "Political violence",
         "Battles",
         "Armed clash",
         "Kamajor Militia",
         null,
         "Political militia",
         "Military Forces of Sierra Leone (1996-1997)",
         null,
         "State forces",
         "State forces-Political militia",
         null,
         "694",
         "Western Africa",
         "Sierra Leone",
         "Southern",
         "Moyamba",
         "Fakunya",
         "Fakunya",
         "8.231",
         "-12.338",
         "2",
         "SL-LED; No Peace Without Justice",
         "Local partner-New media",
         "Around 1 January 1997 (month of), Kamajor Militia and Military Forces of Sierra Leone (1996-1997) engaged in battles in Fakunya (Southern, Moyamba). No fatalities.",
         "0",
         null,
         "1670286851"
        ],
        [
         "413944",
         "ANG2",
         "01/01/1997",
         "1997",
         "3",
         "Political violence",
         "Violence against civilians",
         "Attack",
         "UNITA: National Union for the Total Independence of Angola",
         null,
         "Rebel group",
         "Civilians (Angola)",
         null,
         "Civilians",
         "Rebel group-Civilians",
         "Civilian targeting",
         "24",
         "Middle Africa",
         "Angola",
         "Bie",
         "Cuito",
         "Trumba",
         "Cuito",
         "-12.3833",
         "16.9333",
         "3",
         "Diario de Noticias (Angola)",
         "National",
         "The total number of chiefs in the past 6 months assassinated in this province=10",
         "10",
         null,
         "1673316822"
        ],
        [
         "413945",
         "SIE8",
         "01/01/1997",
         "1997",
         "3",
         "Strategic developments",
         "Strategic developments",
         "Headquarters or base established",
         "Military Forces of Sierra Leone (1996-1997)",
         null,
         "State forces",
         null,
         null,
         null,
         "State forces only",
         null,
         "694",
         "Western Africa",
         "Sierra Leone",
         "Southern",
         "Moyamba",
         "Kori",
         "Taiama",
         "8.2013",
         "-12.06",
         "2",
         "No Peace Without Justice; SL-LED",
         "Local partner-New media",
         "base",
         "0",
         null,
         "1678830926"
        ],
        [
         "413946",
         "CEN1",
         "01/01/1997",
         "1997",
         "1",
         "Political violence",
         "Battles",
         "Armed clash",
         "Military Forces of the Central African Republic (1993-2003) Yakoma Faction",
         "Mutiny of Military Forces of the Central African Republic (1993-2003)",
         "State forces",
         "Military Forces of the Central African Republic (1993-2003) Gbaya Faction",
         null,
         "State forces",
         "State forces-State forces",
         null,
         "140",
         "Middle Africa",
         "Central African Republic",
         "Bangui",
         "Bangui",
         "Arrondissement 2",
         "Bangui",
         "4.3612",
         "18.5549",
         "1",
         "All Africa",
         "Regional",
         "4 deaths reported, denied by both sides, anti-patasse side supported by moise kette of chad",
         "2",
         null,
         "1714437981"
        ]
       ],
       "shape": {
        "columns": 31,
        "rows": 5
       }
      },
      "text/html": [
       "<div>\n",
       "<style scoped>\n",
       "    .dataframe tbody tr th:only-of-type {\n",
       "        vertical-align: middle;\n",
       "    }\n",
       "\n",
       "    .dataframe tbody tr th {\n",
       "        vertical-align: top;\n",
       "    }\n",
       "\n",
       "    .dataframe thead th {\n",
       "        text-align: right;\n",
       "    }\n",
       "</style>\n",
       "<table border=\"1\" class=\"dataframe\">\n",
       "  <thead>\n",
       "    <tr style=\"text-align: right;\">\n",
       "      <th></th>\n",
       "      <th>event_id_cnty</th>\n",
       "      <th>event_date</th>\n",
       "      <th>year</th>\n",
       "      <th>time_precision</th>\n",
       "      <th>disorder_type</th>\n",
       "      <th>event_type</th>\n",
       "      <th>sub_event_type</th>\n",
       "      <th>actor1</th>\n",
       "      <th>assoc_actor_1</th>\n",
       "      <th>inter1</th>\n",
       "      <th>...</th>\n",
       "      <th>location</th>\n",
       "      <th>latitude</th>\n",
       "      <th>longitude</th>\n",
       "      <th>geo_precision</th>\n",
       "      <th>source</th>\n",
       "      <th>source_scale</th>\n",
       "      <th>notes</th>\n",
       "      <th>fatalities</th>\n",
       "      <th>tags</th>\n",
       "      <th>timestamp</th>\n",
       "    </tr>\n",
       "  </thead>\n",
       "  <tbody>\n",
       "    <tr>\n",
       "      <th>413942</th>\n",
       "      <td>SIE6</td>\n",
       "      <td>01/01/1997</td>\n",
       "      <td>1997</td>\n",
       "      <td>3</td>\n",
       "      <td>Political violence</td>\n",
       "      <td>Violence against civilians</td>\n",
       "      <td>Attack</td>\n",
       "      <td>Military Forces of Sierra Leone (1996-1997)</td>\n",
       "      <td>NaN</td>\n",
       "      <td>State forces</td>\n",
       "      <td>...</td>\n",
       "      <td>York Island</td>\n",
       "      <td>7.5317</td>\n",
       "      <td>-12.4694</td>\n",
       "      <td>2</td>\n",
       "      <td>No Peace Without Justice; SL-LED</td>\n",
       "      <td>Local partner-New media</td>\n",
       "      <td>Around 1 January 1997 (month of), Military For...</td>\n",
       "      <td>0</td>\n",
       "      <td>NaN</td>\n",
       "      <td>1670286851</td>\n",
       "    </tr>\n",
       "    <tr>\n",
       "      <th>413943</th>\n",
       "      <td>SIE7</td>\n",
       "      <td>01/01/1997</td>\n",
       "      <td>1997</td>\n",
       "      <td>3</td>\n",
       "      <td>Political violence</td>\n",
       "      <td>Battles</td>\n",
       "      <td>Armed clash</td>\n",
       "      <td>Kamajor Militia</td>\n",
       "      <td>NaN</td>\n",
       "      <td>Political militia</td>\n",
       "      <td>...</td>\n",
       "      <td>Fakunya</td>\n",
       "      <td>8.2310</td>\n",
       "      <td>-12.3380</td>\n",
       "      <td>2</td>\n",
       "      <td>SL-LED; No Peace Without Justice</td>\n",
       "      <td>Local partner-New media</td>\n",
       "      <td>Around 1 January 1997 (month of), Kamajor Mili...</td>\n",
       "      <td>0</td>\n",
       "      <td>NaN</td>\n",
       "      <td>1670286851</td>\n",
       "    </tr>\n",
       "    <tr>\n",
       "      <th>413944</th>\n",
       "      <td>ANG2</td>\n",
       "      <td>01/01/1997</td>\n",
       "      <td>1997</td>\n",
       "      <td>3</td>\n",
       "      <td>Political violence</td>\n",
       "      <td>Violence against civilians</td>\n",
       "      <td>Attack</td>\n",
       "      <td>UNITA: National Union for the Total Independen...</td>\n",
       "      <td>NaN</td>\n",
       "      <td>Rebel group</td>\n",
       "      <td>...</td>\n",
       "      <td>Cuito</td>\n",
       "      <td>-12.3833</td>\n",
       "      <td>16.9333</td>\n",
       "      <td>3</td>\n",
       "      <td>Diario de Noticias (Angola)</td>\n",
       "      <td>National</td>\n",
       "      <td>The total number of chiefs in the past 6 month...</td>\n",
       "      <td>10</td>\n",
       "      <td>NaN</td>\n",
       "      <td>1673316822</td>\n",
       "    </tr>\n",
       "    <tr>\n",
       "      <th>413945</th>\n",
       "      <td>SIE8</td>\n",
       "      <td>01/01/1997</td>\n",
       "      <td>1997</td>\n",
       "      <td>3</td>\n",
       "      <td>Strategic developments</td>\n",
       "      <td>Strategic developments</td>\n",
       "      <td>Headquarters or base established</td>\n",
       "      <td>Military Forces of Sierra Leone (1996-1997)</td>\n",
       "      <td>NaN</td>\n",
       "      <td>State forces</td>\n",
       "      <td>...</td>\n",
       "      <td>Taiama</td>\n",
       "      <td>8.2013</td>\n",
       "      <td>-12.0600</td>\n",
       "      <td>2</td>\n",
       "      <td>No Peace Without Justice; SL-LED</td>\n",
       "      <td>Local partner-New media</td>\n",
       "      <td>base</td>\n",
       "      <td>0</td>\n",
       "      <td>NaN</td>\n",
       "      <td>1678830926</td>\n",
       "    </tr>\n",
       "    <tr>\n",
       "      <th>413946</th>\n",
       "      <td>CEN1</td>\n",
       "      <td>01/01/1997</td>\n",
       "      <td>1997</td>\n",
       "      <td>1</td>\n",
       "      <td>Political violence</td>\n",
       "      <td>Battles</td>\n",
       "      <td>Armed clash</td>\n",
       "      <td>Military Forces of the Central African Republi...</td>\n",
       "      <td>Mutiny of Military Forces of the Central Afric...</td>\n",
       "      <td>State forces</td>\n",
       "      <td>...</td>\n",
       "      <td>Bangui</td>\n",
       "      <td>4.3612</td>\n",
       "      <td>18.5549</td>\n",
       "      <td>1</td>\n",
       "      <td>All Africa</td>\n",
       "      <td>Regional</td>\n",
       "      <td>4 deaths reported, denied by both sides, anti-...</td>\n",
       "      <td>2</td>\n",
       "      <td>NaN</td>\n",
       "      <td>1714437981</td>\n",
       "    </tr>\n",
       "  </tbody>\n",
       "</table>\n",
       "<p>5 rows × 31 columns</p>\n",
       "</div>"
      ],
      "text/plain": [
       "       event_id_cnty  event_date  year  time_precision  \\\n",
       "413942          SIE6  01/01/1997  1997               3   \n",
       "413943          SIE7  01/01/1997  1997               3   \n",
       "413944          ANG2  01/01/1997  1997               3   \n",
       "413945          SIE8  01/01/1997  1997               3   \n",
       "413946          CEN1  01/01/1997  1997               1   \n",
       "\n",
       "                 disorder_type                  event_type  \\\n",
       "413942      Political violence  Violence against civilians   \n",
       "413943      Political violence                     Battles   \n",
       "413944      Political violence  Violence against civilians   \n",
       "413945  Strategic developments      Strategic developments   \n",
       "413946      Political violence                     Battles   \n",
       "\n",
       "                          sub_event_type  \\\n",
       "413942                            Attack   \n",
       "413943                       Armed clash   \n",
       "413944                            Attack   \n",
       "413945  Headquarters or base established   \n",
       "413946                       Armed clash   \n",
       "\n",
       "                                                   actor1  \\\n",
       "413942        Military Forces of Sierra Leone (1996-1997)   \n",
       "413943                                    Kamajor Militia   \n",
       "413944  UNITA: National Union for the Total Independen...   \n",
       "413945        Military Forces of Sierra Leone (1996-1997)   \n",
       "413946  Military Forces of the Central African Republi...   \n",
       "\n",
       "                                            assoc_actor_1             inter1  \\\n",
       "413942                                                NaN       State forces   \n",
       "413943                                                NaN  Political militia   \n",
       "413944                                                NaN        Rebel group   \n",
       "413945                                                NaN       State forces   \n",
       "413946  Mutiny of Military Forces of the Central Afric...       State forces   \n",
       "\n",
       "        ...     location latitude longitude geo_precision  \\\n",
       "413942  ...  York Island   7.5317  -12.4694             2   \n",
       "413943  ...      Fakunya   8.2310  -12.3380             2   \n",
       "413944  ...        Cuito -12.3833   16.9333             3   \n",
       "413945  ...       Taiama   8.2013  -12.0600             2   \n",
       "413946  ...       Bangui   4.3612   18.5549             1   \n",
       "\n",
       "                                  source             source_scale  \\\n",
       "413942  No Peace Without Justice; SL-LED  Local partner-New media   \n",
       "413943  SL-LED; No Peace Without Justice  Local partner-New media   \n",
       "413944       Diario de Noticias (Angola)                 National   \n",
       "413945  No Peace Without Justice; SL-LED  Local partner-New media   \n",
       "413946                        All Africa                 Regional   \n",
       "\n",
       "                                                    notes fatalities tags  \\\n",
       "413942  Around 1 January 1997 (month of), Military For...          0  NaN   \n",
       "413943  Around 1 January 1997 (month of), Kamajor Mili...          0  NaN   \n",
       "413944  The total number of chiefs in the past 6 month...         10  NaN   \n",
       "413945                                               base          0  NaN   \n",
       "413946  4 deaths reported, denied by both sides, anti-...          2  NaN   \n",
       "\n",
       "         timestamp  \n",
       "413942  1670286851  \n",
       "413943  1670286851  \n",
       "413944  1673316822  \n",
       "413945  1678830926  \n",
       "413946  1714437981  \n",
       "\n",
       "[5 rows x 31 columns]"
      ]
     },
     "execution_count": 23,
     "metadata": {},
     "output_type": "execute_result"
    }
   ],
   "source": [
    "#checking the last 5 columns\n",
    "df.tail()"
   ]
  },
  {
   "cell_type": "code",
   "execution_count": 24,
   "metadata": {},
   "outputs": [
    {
     "name": "stdout",
     "output_type": "stream",
     "text": [
      "<class 'pandas.core.frame.DataFrame'>\n",
      "RangeIndex: 413947 entries, 0 to 413946\n",
      "Data columns (total 31 columns):\n",
      " #   Column              Non-Null Count   Dtype  \n",
      "---  ------              --------------   -----  \n",
      " 0   event_id_cnty       413947 non-null  object \n",
      " 1   event_date          413947 non-null  object \n",
      " 2   year                413947 non-null  int64  \n",
      " 3   time_precision      413947 non-null  int64  \n",
      " 4   disorder_type       413947 non-null  object \n",
      " 5   event_type          413947 non-null  object \n",
      " 6   sub_event_type      413947 non-null  object \n",
      " 7   actor1              413947 non-null  object \n",
      " 8   assoc_actor_1       114747 non-null  object \n",
      " 9   inter1              413947 non-null  object \n",
      " 10  actor2              301956 non-null  object \n",
      " 11  assoc_actor_2       85527 non-null   object \n",
      " 12  inter2              301956 non-null  object \n",
      " 13  interaction         413947 non-null  object \n",
      " 14  civilian_targeting  123147 non-null  object \n",
      " 15  iso                 413947 non-null  int64  \n",
      " 16  region              413947 non-null  object \n",
      " 17  country             413947 non-null  object \n",
      " 18  admin1              413930 non-null  object \n",
      " 19  admin2              410127 non-null  object \n",
      " 20  admin3              209892 non-null  object \n",
      " 21  location            413947 non-null  object \n",
      " 22  latitude            413947 non-null  float64\n",
      " 23  longitude           413947 non-null  float64\n",
      " 24  geo_precision       413947 non-null  int64  \n",
      " 25  source              413947 non-null  object \n",
      " 26  source_scale        413947 non-null  object \n",
      " 27  notes               413947 non-null  object \n",
      " 28  fatalities          413947 non-null  int64  \n",
      " 29  tags                94466 non-null   object \n",
      " 30  timestamp           413947 non-null  int64  \n",
      "dtypes: float64(2), int64(6), object(23)\n",
      "memory usage: 97.9+ MB\n"
     ]
    }
   ],
   "source": [
    "# checking the dataset information\n",
    "df.info()"
   ]
  },
  {
   "cell_type": "code",
   "execution_count": 25,
   "metadata": {},
   "outputs": [
    {
     "data": {
      "application/vnd.microsoft.datawrangler.viewer.v0+json": {
       "columns": [
        {
         "name": "index",
         "rawType": "object",
         "type": "string"
        },
        {
         "name": "year",
         "rawType": "float64",
         "type": "float"
        },
        {
         "name": "time_precision",
         "rawType": "float64",
         "type": "float"
        },
        {
         "name": "iso",
         "rawType": "float64",
         "type": "float"
        },
        {
         "name": "latitude",
         "rawType": "float64",
         "type": "float"
        },
        {
         "name": "longitude",
         "rawType": "float64",
         "type": "float"
        },
        {
         "name": "geo_precision",
         "rawType": "float64",
         "type": "float"
        },
        {
         "name": "fatalities",
         "rawType": "float64",
         "type": "float"
        },
        {
         "name": "timestamp",
         "rawType": "float64",
         "type": "float"
        }
       ],
       "conversionMethod": "pd.DataFrame",
       "ref": "ff1c144a-4b6f-4cd3-8d71-4c52d41eeca5",
       "rows": [
        [
         "count",
         "413947.0",
         "413947.0",
         "413947.0",
         "413947.0",
         "413947.0",
         "413947.0",
         "413947.0",
         "413947.0"
        ],
        [
         "mean",
         "2017.5279637248248",
         "1.1307365435671717",
         "510.39998840431264",
         "6.922263134410928",
         "21.886800388455523",
         "1.2790743742556414",
         "2.4391528384068493",
         "1676140701.387528"
        ],
        [
         "std",
         "6.608509988269445",
         "0.3934768843746487",
         "250.07505675787738",
         "15.495063262386413",
         "16.776813807572513",
         "0.494603682434472",
         "24.320916503348204",
         "52636886.17027292"
        ],
        [
         "min",
         "1997.0",
         "1.0",
         "12.0",
         "-34.7068",
         "-25.1631",
         "1.0",
         "0.0",
         "1552576401.0"
        ],
        [
         "25%",
         "2015.0",
         "1.0",
         "231.0",
         "0.3156",
         "8.1555",
         "1.0",
         "0.0",
         "1622068203.0"
        ],
        [
         "50%",
         "2020.0",
         "1.0",
         "566.0",
         "6.6936",
         "28.0436",
         "1.0",
         "0.0",
         "1689711032.0"
        ],
        [
         "75%",
         "2022.0",
         "1.0",
         "710.0",
         "13.5157",
         "33.4833",
         "2.0",
         "1.0",
         "1724714032.0"
        ],
        [
         "max",
         "2025.0",
         "3.0",
         "894.0",
         "37.2815",
         "64.6832",
         "3.0",
         "1350.0",
         "1741071798.0"
        ]
       ],
       "shape": {
        "columns": 8,
        "rows": 8
       }
      },
      "text/html": [
       "<div>\n",
       "<style scoped>\n",
       "    .dataframe tbody tr th:only-of-type {\n",
       "        vertical-align: middle;\n",
       "    }\n",
       "\n",
       "    .dataframe tbody tr th {\n",
       "        vertical-align: top;\n",
       "    }\n",
       "\n",
       "    .dataframe thead th {\n",
       "        text-align: right;\n",
       "    }\n",
       "</style>\n",
       "<table border=\"1\" class=\"dataframe\">\n",
       "  <thead>\n",
       "    <tr style=\"text-align: right;\">\n",
       "      <th></th>\n",
       "      <th>year</th>\n",
       "      <th>time_precision</th>\n",
       "      <th>iso</th>\n",
       "      <th>latitude</th>\n",
       "      <th>longitude</th>\n",
       "      <th>geo_precision</th>\n",
       "      <th>fatalities</th>\n",
       "      <th>timestamp</th>\n",
       "    </tr>\n",
       "  </thead>\n",
       "  <tbody>\n",
       "    <tr>\n",
       "      <th>count</th>\n",
       "      <td>413947.000000</td>\n",
       "      <td>413947.000000</td>\n",
       "      <td>413947.000000</td>\n",
       "      <td>413947.000000</td>\n",
       "      <td>413947.000000</td>\n",
       "      <td>413947.000000</td>\n",
       "      <td>413947.000000</td>\n",
       "      <td>4.139470e+05</td>\n",
       "    </tr>\n",
       "    <tr>\n",
       "      <th>mean</th>\n",
       "      <td>2017.527964</td>\n",
       "      <td>1.130737</td>\n",
       "      <td>510.399988</td>\n",
       "      <td>6.922263</td>\n",
       "      <td>21.886800</td>\n",
       "      <td>1.279074</td>\n",
       "      <td>2.439153</td>\n",
       "      <td>1.676141e+09</td>\n",
       "    </tr>\n",
       "    <tr>\n",
       "      <th>std</th>\n",
       "      <td>6.608510</td>\n",
       "      <td>0.393477</td>\n",
       "      <td>250.075057</td>\n",
       "      <td>15.495063</td>\n",
       "      <td>16.776814</td>\n",
       "      <td>0.494604</td>\n",
       "      <td>24.320917</td>\n",
       "      <td>5.263689e+07</td>\n",
       "    </tr>\n",
       "    <tr>\n",
       "      <th>min</th>\n",
       "      <td>1997.000000</td>\n",
       "      <td>1.000000</td>\n",
       "      <td>12.000000</td>\n",
       "      <td>-34.706800</td>\n",
       "      <td>-25.163100</td>\n",
       "      <td>1.000000</td>\n",
       "      <td>0.000000</td>\n",
       "      <td>1.552576e+09</td>\n",
       "    </tr>\n",
       "    <tr>\n",
       "      <th>25%</th>\n",
       "      <td>2015.000000</td>\n",
       "      <td>1.000000</td>\n",
       "      <td>231.000000</td>\n",
       "      <td>0.315600</td>\n",
       "      <td>8.155500</td>\n",
       "      <td>1.000000</td>\n",
       "      <td>0.000000</td>\n",
       "      <td>1.622068e+09</td>\n",
       "    </tr>\n",
       "    <tr>\n",
       "      <th>50%</th>\n",
       "      <td>2020.000000</td>\n",
       "      <td>1.000000</td>\n",
       "      <td>566.000000</td>\n",
       "      <td>6.693600</td>\n",
       "      <td>28.043600</td>\n",
       "      <td>1.000000</td>\n",
       "      <td>0.000000</td>\n",
       "      <td>1.689711e+09</td>\n",
       "    </tr>\n",
       "    <tr>\n",
       "      <th>75%</th>\n",
       "      <td>2022.000000</td>\n",
       "      <td>1.000000</td>\n",
       "      <td>710.000000</td>\n",
       "      <td>13.515700</td>\n",
       "      <td>33.483300</td>\n",
       "      <td>2.000000</td>\n",
       "      <td>1.000000</td>\n",
       "      <td>1.724714e+09</td>\n",
       "    </tr>\n",
       "    <tr>\n",
       "      <th>max</th>\n",
       "      <td>2025.000000</td>\n",
       "      <td>3.000000</td>\n",
       "      <td>894.000000</td>\n",
       "      <td>37.281500</td>\n",
       "      <td>64.683200</td>\n",
       "      <td>3.000000</td>\n",
       "      <td>1350.000000</td>\n",
       "      <td>1.741072e+09</td>\n",
       "    </tr>\n",
       "  </tbody>\n",
       "</table>\n",
       "</div>"
      ],
      "text/plain": [
       "                year  time_precision            iso       latitude  \\\n",
       "count  413947.000000   413947.000000  413947.000000  413947.000000   \n",
       "mean     2017.527964        1.130737     510.399988       6.922263   \n",
       "std         6.608510        0.393477     250.075057      15.495063   \n",
       "min      1997.000000        1.000000      12.000000     -34.706800   \n",
       "25%      2015.000000        1.000000     231.000000       0.315600   \n",
       "50%      2020.000000        1.000000     566.000000       6.693600   \n",
       "75%      2022.000000        1.000000     710.000000      13.515700   \n",
       "max      2025.000000        3.000000     894.000000      37.281500   \n",
       "\n",
       "           longitude  geo_precision     fatalities     timestamp  \n",
       "count  413947.000000  413947.000000  413947.000000  4.139470e+05  \n",
       "mean       21.886800       1.279074       2.439153  1.676141e+09  \n",
       "std        16.776814       0.494604      24.320917  5.263689e+07  \n",
       "min       -25.163100       1.000000       0.000000  1.552576e+09  \n",
       "25%         8.155500       1.000000       0.000000  1.622068e+09  \n",
       "50%        28.043600       1.000000       0.000000  1.689711e+09  \n",
       "75%        33.483300       2.000000       1.000000  1.724714e+09  \n",
       "max        64.683200       3.000000    1350.000000  1.741072e+09  "
      ]
     },
     "execution_count": 25,
     "metadata": {},
     "output_type": "execute_result"
    }
   ],
   "source": [
    "df.describe()"
   ]
  },
  {
   "cell_type": "code",
   "execution_count": 26,
   "metadata": {},
   "outputs": [
    {
     "data": {
      "text/plain": [
       "(413947, 31)"
      ]
     },
     "execution_count": 26,
     "metadata": {},
     "output_type": "execute_result"
    }
   ],
   "source": [
    "#checking the dataset shape\n",
    "df.shape\n",
    "\n",
    "#The dataset has 413947 rows and 31 columns"
   ]
  },
  {
   "cell_type": "code",
   "execution_count": 27,
   "metadata": {},
   "outputs": [
    {
     "data": {
      "text/plain": [
       "Index(['event_id_cnty', 'event_date', 'year', 'time_precision',\n",
       "       'disorder_type', 'event_type', 'sub_event_type', 'actor1',\n",
       "       'assoc_actor_1', 'inter1', 'actor2', 'assoc_actor_2', 'inter2',\n",
       "       'interaction', 'civilian_targeting', 'iso', 'region', 'country',\n",
       "       'admin1', 'admin2', 'admin3', 'location', 'latitude', 'longitude',\n",
       "       'geo_precision', 'source', 'source_scale', 'notes', 'fatalities',\n",
       "       'tags', 'timestamp'],\n",
       "      dtype='object')"
      ]
     },
     "execution_count": 27,
     "metadata": {},
     "output_type": "execute_result"
    }
   ],
   "source": [
    "# Listing the columns in the dataset\n",
    "df.columns"
   ]
  },
  {
   "cell_type": "markdown",
   "metadata": {},
   "source": [
    "DATA CLEANING"
   ]
  },
  {
   "cell_type": "code",
   "execution_count": 28,
   "metadata": {},
   "outputs": [
    {
     "data": {
      "text/plain": [
       "0"
      ]
     },
     "execution_count": 28,
     "metadata": {},
     "output_type": "execute_result"
    }
   ],
   "source": [
    "df.duplicated().sum()\n",
    "\n",
    "# The data set has no duplicates"
   ]
  },
  {
   "cell_type": "code",
   "execution_count": 29,
   "metadata": {},
   "outputs": [],
   "source": [
    "# make df copy to be used in data cleaning\n",
    "\n",
    "data = df.copy()"
   ]
  },
  {
   "cell_type": "code",
   "execution_count": 30,
   "metadata": {},
   "outputs": [
    {
     "data": {
      "text/plain": [
       "assoc_actor_2         79.338659\n",
       "tags                  77.179204\n",
       "assoc_actor_1         72.279785\n",
       "civilian_targeting    70.250539\n",
       "admin3                49.294958\n",
       "inter2                27.054430\n",
       "actor2                27.054430\n",
       "admin2                 0.922823\n",
       "admin1                 0.004107\n",
       "year                   0.000000\n",
       "time_precision         0.000000\n",
       "disorder_type          0.000000\n",
       "event_type             0.000000\n",
       "sub_event_type         0.000000\n",
       "actor1                 0.000000\n",
       "inter1                 0.000000\n",
       "event_date             0.000000\n",
       "timestamp              0.000000\n",
       "iso                    0.000000\n",
       "interaction            0.000000\n",
       "region                 0.000000\n",
       "country                0.000000\n",
       "location               0.000000\n",
       "latitude               0.000000\n",
       "longitude              0.000000\n",
       "geo_precision          0.000000\n",
       "source                 0.000000\n",
       "source_scale           0.000000\n",
       "notes                  0.000000\n",
       "fatalities             0.000000\n",
       "event_id_cnty          0.000000\n",
       "dtype: float64"
      ]
     },
     "execution_count": 30,
     "metadata": {},
     "output_type": "execute_result"
    }
   ],
   "source": [
    "# percentage of missing values per column\n",
    "# sorted in descending order\n",
    "\n",
    "data.isna().sum().sort_values(ascending=False)/len(data)*100"
   ]
  },
  {
   "cell_type": "code",
   "execution_count": 31,
   "metadata": {},
   "outputs": [
    {
     "name": "stdout",
     "output_type": "stream",
     "text": [
      "{'event_id_cnty'}\n",
      "['MLI33921' 'BFO13376' 'MLI33922' ... 'ANG2' 'SIE8' 'CEN1']\n",
      "\n",
      "{'event_date'}\n",
      "['28/02/2025' '27/02/2025' '26/02/2025' ... '03/01/1997' '02/01/1997'\n",
      " '01/01/1997']\n",
      "\n",
      "{'year'}\n",
      "[2025 2024 2023 2022 2021 2020 2019 2018 2017 2016 2015 2014 2013 2012\n",
      " 2011 2010 2009 2008 2007 2006 2005 2004 2003 2002 2001 2000 1999 1998\n",
      " 1997]\n",
      "\n",
      "{'time_precision'}\n",
      "[1 2 3]\n",
      "\n",
      "{'disorder_type'}\n",
      "['Political violence' 'Demonstrations' 'Strategic developments'\n",
      " 'Political violence; Demonstrations']\n",
      "\n",
      "{'event_type'}\n",
      "['Explosions/Remote violence' 'Battles' 'Violence against civilians'\n",
      " 'Riots' 'Protests' 'Strategic developments']\n",
      "\n",
      "{'sub_event_type'}\n",
      "['Remote explosive/landmine/IED' 'Armed clash' 'Attack' 'Mob violence'\n",
      " 'Peaceful protest' 'Other' 'Agreement' 'Government regains territory'\n",
      " 'Looting/property destruction' 'Non-violent transfer of territory'\n",
      " 'Violent demonstration' 'Change to group/activity'\n",
      " 'Non-state actor overtakes territory' 'Disrupted weapons use'\n",
      " 'Protest with intervention' 'Arrests' 'Abduction/forced disappearance'\n",
      " 'Shelling/artillery/missile attack' 'Air/drone strike' 'Grenade'\n",
      " 'Sexual violence' 'Headquarters or base established'\n",
      " 'Excessive force against protesters' 'Suicide bomb' 'Chemical weapon']\n",
      "\n",
      "{'actor1'}\n",
      "['JNIM: Group for Support of Islam and Muslims'\n",
      " 'Military Forces of Mali (2021-)' 'Land Guards' ...\n",
      " 'Ekori Ethnic Militia (Nigeria)' 'Police Forces of Algeria (1994-1999)'\n",
      " 'BAT: Boere Attack Troop']\n",
      "\n",
      "{'assoc_actor_1'}\n",
      "[nan 'Wagner Group'\n",
      " 'Al Adl Wa Al Ihssane; Labor Group (Morocco); LMDDH: Moroccan League for the Defense of Human Rights'\n",
      " ... 'San Ethnic Group (Namibia)'\n",
      " 'Military Forces of Ethiopia (1991-2018); NDA: National Democratic Alliance (Sudan)'\n",
      " 'Military Forces of the Central African Republic (1993-2003) Yakoma Faction']\n",
      "\n",
      "{'inter1'}\n",
      "['Rebel group' 'State forces' 'External/Other forces' 'Rioters'\n",
      " 'Identity militia' 'Protesters' 'Political militia' 'Civilians']\n",
      "\n",
      "{'actor2'}\n",
      "['Military Forces of Mali (2021-)'\n",
      " 'VDP: Volunteer for Defense of Homeland' 'Civilians (Mali)' ...\n",
      " 'Police Forces of Algeria (1994-1999)' 'Ekori Ethnic Militia (Nigeria)'\n",
      " 'UFDF: Uganda Federal Democratic Front']\n",
      "\n",
      "{'assoc_actor_2'}\n",
      "['Wagner Group' nan 'Farmers (Ghana)' ...\n",
      " 'Aid Workers (Spain); Women (Spain); Aid Workers (United States)'\n",
      " 'NADECO: National Democratic Coalition Militia'\n",
      " 'Government of the United States (1993-2001)']\n",
      "\n",
      "{'inter2'}\n",
      "['State forces' 'Identity militia' 'Civilians' nan 'Political militia'\n",
      " 'Rebel group' 'Rioters' 'External/Other forces' 'Protesters']\n",
      "\n",
      "{'interaction'}\n",
      "['State forces-Rebel group' 'Rebel group-Identity militia'\n",
      " 'State forces-Civilians' 'External/Other forces-Civilians'\n",
      " 'Rioters-Civilians' 'Identity militia-Civilians' 'Protesters only'\n",
      " 'Rebel group only' 'Rebel group-Political militia'\n",
      " 'State forces-Political militia' 'Rebel group-Civilians'\n",
      " 'State forces-Rioters' 'State forces only' 'Political militia-Civilians'\n",
      " 'Political militia-Protesters' 'State forces-Identity militia'\n",
      " 'State forces-Protesters' 'Rebel group-Rebel group' 'Rioters-Rioters'\n",
      " 'State forces-State forces' 'Political militia-Political militia'\n",
      " 'Identity militia-Rioters' 'Identity militia-Identity militia'\n",
      " 'Rebel group-External/Other forces' 'Civilians only' 'Rioters only'\n",
      " 'State forces-External/Other forces' 'External/Other forces only'\n",
      " 'Identity militia-External/Other forces' 'Political militia-Rioters'\n",
      " 'Rioters-External/Other forces' 'Protesters-Protesters'\n",
      " 'Political militia only' 'Political militia-Identity militia'\n",
      " 'Identity militia only' 'Rebel group-Rioters'\n",
      " 'Political militia-External/Other forces'\n",
      " 'Protesters-External/Other forces' 'Civilians-Civilians'\n",
      " 'Rioters-Protesters' 'External/Other forces-External/Other forces'\n",
      " 'Rebel group-Protesters' 'Identity militia-Protesters']\n",
      "\n",
      "{'civilian_targeting'}\n",
      "[nan 'Civilian targeting']\n",
      "\n",
      "{'iso'}\n",
      "[466 854 288 504 180 404 706 231 454  24 729 434 788 478 686 120 566 646\n",
      " 710 818 384 562  12 430 800 174 450 324 108 140 728  72 508 148 266 270\n",
      " 894 204 624 232 480 175 638 694 748 768 132 834 716 262 516 178 690 678\n",
      " 426 226 654]\n",
      "\n",
      "{'region'}\n",
      "['Western Africa' 'Northern Africa' 'Middle Africa' 'Eastern Africa'\n",
      " 'Southern Africa']\n",
      "\n",
      "{'country'}\n",
      "['Mali' 'Burkina Faso' 'Ghana' 'Morocco' 'Democratic Republic of Congo'\n",
      " 'Kenya' 'Somalia' 'Ethiopia' 'Malawi' 'Angola' 'Sudan' 'Libya' 'Tunisia'\n",
      " 'Mauritania' 'Senegal' 'Cameroon' 'Nigeria' 'Rwanda' 'South Africa'\n",
      " 'Egypt' 'Ivory Coast' 'Niger' 'Algeria' 'Liberia' 'Uganda' 'Comoros'\n",
      " 'Madagascar' 'Guinea' 'Burundi' 'Central African Republic' 'South Sudan'\n",
      " 'Botswana' 'Mozambique' 'Chad' 'Gabon' 'Gambia' 'Zambia' 'Benin'\n",
      " 'Guinea-Bissau' 'Eritrea' 'Mauritius' 'Mayotte' 'Reunion' 'Sierra Leone'\n",
      " 'eSwatini' 'Togo' 'Cape Verde' 'Tanzania' 'Zimbabwe' 'Djibouti' 'Namibia'\n",
      " 'Republic of Congo' 'Seychelles' 'Sao Tome and Principe' 'Lesotho'\n",
      " 'Equatorial Guinea' 'Saint Helena, Ascension and Tristan da Cunha']\n",
      "\n",
      "{'admin1'}\n",
      "['Kidal' 'Centre-Est' 'Western North' 'Greater Accra' 'North East'\n",
      " 'Rabat-Sale-Kenitra' 'Sud-Kivu' 'Turkana' 'Middle Shabelle' 'Amhara'\n",
      " 'Mudug' 'Bari' 'Southern' 'Cabinda' 'Khartoum' 'Northern' 'White Nile'\n",
      " 'River Nile' 'North Kordofan' 'West Kordofan' 'Kassala' 'East' 'Kayes'\n",
      " 'Koulikoro' 'Centre-Nord' 'Tombouctou' 'Segou' 'Sidi Bouzid'\n",
      " 'Tanger-Tetouan-Al Hoceima' 'Marrakech-Safi' 'Oriental' 'Nouakchott'\n",
      " 'Matam' 'Extreme-Nord' 'Kinshasa' 'Maniema' 'Nord-Kivu' 'Edo' 'Kaduna'\n",
      " 'Lagos' 'Zamfara' 'Kigali City' 'Garissa' 'Tharaka-Nithi'\n",
      " 'Elgeyo Marakwet' 'Kisii' 'Kajiado' 'Makueni' 'Nyamira' 'Uasin Gishu'\n",
      " 'Kwale' 'Machakos' 'Samburu' 'Kakamega' 'Gedo' 'Bakool' 'Bay'\n",
      " 'Lower Shabelle' 'Banadir' 'North Darfur' 'Red Sea' 'Gedaref'\n",
      " 'Eastern Cape' 'Gauteng' 'Western Cape' 'South Darfur' 'West' 'Qalyubia'\n",
      " 'Abidjan' 'Agadez' 'Boucle du Mouhoun' 'Bamako' 'Est' 'Ashanti' 'El Tarf'\n",
      " 'Centre' 'Sud' 'Ituri' 'Montserrado' 'Adamawa' 'Bayelsa' 'Borno'\n",
      " 'Cross River' 'Katsina' 'Niger' 'Yobe' 'Arua' 'Kampala' 'Nakapiripirit'\n",
      " 'Rukungiri' 'Galgaduud' 'Nairobi' 'Meru' 'Kericho' 'Hiraan' 'Lower Juba'\n",
      " 'Mandera' 'Nakuru' 'Addis Ababa' 'Sanaag' 'KwaZulu-Natal'\n",
      " 'South Kordofan' 'Blue Nile' 'Mwali ou Moheli' 'Betsiboka' 'North West'\n",
      " 'Al Jazirah' 'West Darfur' 'Tillaberi' 'Dosso' 'Zanzan' 'Nord' 'Mopti'\n",
      " 'Upper East' 'Central' 'Gafsa' 'Manubah' 'Conakry' 'Casablanca-Settat'\n",
      " 'Kankan' 'Relizane' 'Bujumbura Mairie' 'Cibitoke' 'Ruyigi' 'Bangui'\n",
      " 'Ouaka' 'Ouham-Pende' 'Akwa Ibom' 'Anambra' 'Benue' 'Delta'\n",
      " 'Federal Capital Territory' 'Gombe' 'Ondo' 'Oyo' 'Plateau' 'Taraba'\n",
      " 'Upper Nile' 'Siaya' 'Baringo' 'Nyeri' 'Mombasa' 'Jonglei' 'Middle Juba'\n",
      " 'Isiolo' 'Haute Matsiatra' 'Mpumalanga' 'Ngwaketsi' 'Tete' 'Limpopo'\n",
      " 'East Darfur' 'Giza' 'Sahel' 'Dakar' 'Ndjamena' 'Ogooue-Maritime'\n",
      " 'Kindia' 'Msila' 'Gorgol' 'Nord-Ouest' 'Haut-Uele' 'Kasai-Oriental'\n",
      " 'Kongo-Central' 'Brikama' 'Abia' 'Isingiro' 'Narok' 'Busia' 'Laikipia'\n",
      " 'South Ethiopia Region' 'Woqooyi Galbeed' 'Western Equatoria' 'Sofala'\n",
      " 'Eastern' 'Androy' 'Gaza' 'Inhambane' 'Maputo City' 'Maputo'\n",
      " 'Cabo Delgado' 'South' 'Tahoua' 'Diffa' 'Centre-Sud' 'Cascades' 'Western'\n",
      " 'Volta' 'Borgou' 'Fes-Meknes' 'Mai-Ndombe' 'Mbale' 'Lakes' 'Embu'\n",
      " 'Bungoma' 'Kitui' 'Bissau' 'Lagunes' 'Gao' 'Nzerekore' 'Hadjer-Lamis'\n",
      " 'Beni Mellal-Khenifra' 'Haut-Ogooue' 'Kogi' 'Osun' 'Nandi' 'Oromia'\n",
      " 'Warrap' 'Boeny' 'Moheli' 'Atsimo Atsinanana' 'Bongolava' 'Maekel'\n",
      " 'Kiambu' 'Souss-Massa' 'Niassa' 'Manica' 'Jendouba' 'Kabale' 'Niamey'\n",
      " 'Agago' 'Northern Bahr el Ghazal' 'Bomet' 'Tigray' 'Amoron I Mania'\n",
      " 'Alaotra Mangoro' 'Medea' 'Draa-Tafilalet' 'Djanet' 'Atlantique'\n",
      " 'Bono East' 'Trans Nzoia' 'Kirinyaga' 'Port Louis' 'Free State'\n",
      " 'Saint Louis' 'Eastern Equatoria' 'Central Darfur' 'Kairouan' 'Sfax'\n",
      " 'Hoima' 'Lira' 'Mamoudzou' 'Saint-Pierre' 'Rumonge' 'Haut-Katanga' 'Imo'\n",
      " 'Ogun' 'Western Bahr el Ghazal' 'Tiaret' 'Cankuzo' 'Savanes'\n",
      " 'Nana-Mambere' 'Ngazidja ou Grande Comore' 'Lomami' 'Tanganyika'\n",
      " 'Port Said' 'Estuaire' 'Taita Taveta' 'Rodriguez' 'Ebonyi' 'Sool'\n",
      " 'Central Equatoria' 'Abyei' 'Tunis' 'Mbarara' 'Bandraboua' 'Constantine'\n",
      " 'Laghouat' 'Alger' 'Oran' 'Tizi Ouzou' 'Makamba' 'Bujumbura Rural'\n",
      " 'Atsinanana' 'Sikasso' 'Hhohho' 'Bizerte' 'Abim' 'Assiut' 'Ogooue-Lolo'\n",
      " 'Adrar' 'Atsimo Andrefana' 'Itasy' 'Zambezia' 'Jigawa' 'Kebbi' 'Sokoto'\n",
      " 'Madi Okollo' 'Kamuli' 'Bushenyi' 'Nyanga' 'Cuanza Norte'\n",
      " 'Vallee du Bandama' 'Moyen-Chari' 'Grande Comore' 'Tshopo' 'Nord-Ubangi'\n",
      " 'Kilifi' 'Analamanga' 'Moka' 'Sousse' 'Nabilatuk' 'Kasese' 'Luanda'\n",
      " 'Alibori' 'Haute-Kotto' 'Haut-Mbomou' 'Plaines Wilhems' 'Maritime'\n",
      " 'Wakiso' 'Bukomansimbi' 'Bukedea' 'Lunda Sul' 'Praia' 'Migori'\n",
      " 'Boumerdes' 'Flacq' 'Nampula' 'Sidi Bel Abbes' 'Skikda' 'Kasai-Central'\n",
      " 'Homa Bay' 'Marsabit' 'Rivers' 'Kaolack' 'Tororo' 'Togdheer' 'Acoua'\n",
      " 'Benshangul/Gumuz' nan 'Annaba' 'Woleu-Ntem' 'Muranga' 'Vakinankaratra'\n",
      " 'Laayoune-Sakia El Hamra' 'Northern Cape' 'Muchinga' 'Dembeni'\n",
      " 'West Pokot' 'Sofia' 'Thies' 'Kasserine' 'Bamingui-Bangoran' 'Pamandzi'\n",
      " 'Sal' 'Ziguinchor' 'Nabeul' 'Saint-Benoit' 'Nassarawa' 'Muyinga' 'Gitega'\n",
      " 'Basse-Kotto' 'Kwilu' 'Vatovavy Fitovinany' 'Luwero' 'Menaka'\n",
      " 'Saint-Denis' 'Ennedi Est' 'Kween' 'Savannah' 'Ndzuwani ou Anjouan'\n",
      " 'Analanjirofo' 'Atacora' 'Bejaia' 'Vakaga' 'North Sinai' 'Suez' 'Bauchi'\n",
      " 'Medenine' 'Mityana' 'Ngozi' 'Sassandra-Marahoue' 'Ouham' 'Moyen-Ogooue'\n",
      " 'Tindouf' 'Sud-Ubangi' 'Serere' 'Kisoro' 'Kanem' 'Kasai'\n",
      " 'Dakhlet Nouadhibou' 'Unity' 'Tataouine' 'Setif' 'Zou' 'Kano' 'Maradi'\n",
      " 'Fatick' 'Bunyangabu' 'Sud-Ouest' 'Kwara' 'Zaire' 'Beheira' 'Arusha'\n",
      " 'Bubanza' 'Haut-Lomami' 'Kisumu' 'Afar' 'Bas-Uele' 'Guelmim-Oued Noun'\n",
      " 'Boueni' 'Kayanza' 'Rutana' 'Mongala' 'Mashonaland West' 'Tadjourah'\n",
      " 'Mbomou' 'Sharqia' 'Margibi' 'Kitgum' 'Hauts-Bassins' 'Centre-Ouest'\n",
      " 'Sila' 'Logone Oriental' 'Sidama' 'Banjul' 'Hodh Ech Chargi' 'Ekiti'\n",
      " 'Lamwo' 'Batna' 'Masaka' 'Ouaddai' 'Lualaba' 'Khomas' 'Nugaal' 'Moroto'\n",
      " 'Brazzaville' 'Fayoum' 'Nakaseke' 'Mambere-Kadei' 'Nyandarua' 'Iganga'\n",
      " 'Batha' 'Goh-Djiboua' 'Cacheu' 'Siliana' 'Enugu' 'Namibe' 'Kwango'\n",
      " 'Comoe' 'Biskra' 'Bordj Bou Arreridj' 'Tlemcen' 'Lamu' 'Tiris Zemmour'\n",
      " 'Sava' 'Ihorombe' 'Zinder' 'Louga' 'South East' 'Maryland' 'Mandoul'\n",
      " 'Wajir' 'Anosy' 'Sennar' 'Shiselweni' 'Amudat' 'Dar es Salaam' 'Couffo'\n",
      " 'Bururi' 'Buikwe' 'Littoral' 'Vihiga' 'Lobaye' 'Kemo' 'Butaleja' 'Mukono'\n",
      " 'Lacs' 'Diana' 'Manicaland' 'Tamanrasset' 'Boke' 'Dzaoudzi' 'Lubombo'\n",
      " 'Zombo' 'Alexandria' 'Aswan' 'Manzini' 'Malanje' 'Diourbel' 'Jijel'\n",
      " 'Harare' \"Ombella-M'Poko\" 'Sedhiou' 'Buliisa' 'Kakumiro' 'Lofa'\n",
      " 'Monastir' 'Bugweri' 'Mila' 'Kirundo' 'Mamou' 'Tana River' 'Kabarole'\n",
      " 'Sironko' 'Pallisa' 'Labe' 'Central Ethiopia' 'Mono' 'Karuzi' 'Nimba'\n",
      " 'Montagnes' 'Harari' 'Melaky' 'Apac' 'Yamoussoukro' 'Equateur' 'Menia'\n",
      " 'Bugiri' 'Lunda Norte' 'Ribeira Grande' 'Sao Vicente' 'Copperbelt'\n",
      " 'Kedougou' 'Plateau-Central' 'Somali' 'Borkou' 'Kotido' 'Kumi' 'Bouira'\n",
      " 'Savanne' 'Ssembabule' 'Bulawayo' 'Grand Port' 'Gambela' 'Donga'\n",
      " 'Pamplemousses' 'Kef' 'Zaghouan' 'Masvingo' 'Bas-Sassandra' 'Djibouti'\n",
      " 'Kibuku' 'Kikuube' 'Gomba' 'Mayuge' 'Nakasongola' 'Brakna' 'Muramvya'\n",
      " 'South West' 'Kiryandongo' 'Mashonaland East' 'Chobe' 'Oti' 'Kaliro'\n",
      " 'Bono' 'Tipaza' 'Ahafo' 'Lusaka' 'Trarza' 'Jinja' 'Gulu' 'Au Cap'\n",
      " 'Djelfa' 'Hodh El Gharbi' 'Saint-Paul' 'Assaba' 'Mbeya' 'Soroti'\n",
      " 'Kanifing' 'Mahdia' 'Agua Grande' 'Ariana' 'Lac' 'Mashonaland Central'\n",
      " 'Namisindwa' 'Manafwa' 'Bong' 'Black River' 'Dodoma' 'Singida' 'Amuru'\n",
      " 'Songwe' 'Khenchela' 'Buvuma' 'Upper West' 'Bafata' 'Dire Dawa' 'Anjouan'\n",
      " 'Tshuapa' 'Amolatar' 'Dakahlia' 'Guidimakha' 'Denguele' 'Tagant' 'Iringa'\n",
      " 'Wadi Fira' 'Kibaale' 'Riviere du Rempart' 'Mayo Kebbi Ouest'\n",
      " 'Eddakhla-Oued Eddahab' 'Moyo' 'Debubawi Keih Bahri' 'Mtwara' 'Awdal'\n",
      " 'Kwania' 'Matrouh' 'Menabe' 'Cairo' 'Ismailia' 'Karas' 'Kagadi'\n",
      " 'Kaffrine' 'Ouest' 'Kolda' 'Adamaoua' 'Kayunga' 'Kigoma' 'Morogoro'\n",
      " 'Gabes' 'Kalungu' 'Boa Vista' 'Kafr el-Sheikh' 'Oum El Bouaghi' 'Qena'\n",
      " 'Tambacounda' 'Tsingoni' 'Chari Baguirmi' 'Pwani' 'Beja' 'Blida'\n",
      " 'Ogooue-Ivindo' 'Mayo Kebbi Est' 'Tozeur' 'Kebili' 'Mosteiros' 'Njombe'\n",
      " 'Logone Occidental' 'Alebtong' 'Budaka' 'Cunene' 'Masindi' 'Dokolo'\n",
      " 'Obock' 'Koungou' 'Erongo' 'Nwoya' 'Chiconi' 'Karenga' 'Ain Defla'\n",
      " 'Mjini Magharibi' 'Mara' 'Tanga' 'Matabeleland South' 'Tebessa'\n",
      " 'Cuanza Sul' 'Faranah' 'Berea' 'Sao Lourenco dos Orgaos' 'Maseru' 'Huila'\n",
      " 'Geita' 'Bie' 'Bandrele' 'Bududa' 'Kaabong' 'Ohangwena' 'Chirongui'\n",
      " 'Kani Keli' 'Sangha-Mbaere' 'Mwaro' 'Omaheke' 'Butebo' 'Kole' 'Mubende'\n",
      " 'Gharbia' 'Simiyu' 'Guelma' 'Buyende' 'Midlands' 'Semienawi Keih Bahri'\n",
      " 'Otjozondjupa' 'Bel Air' 'Santa Catarina' 'Kavango East' 'Oshana'\n",
      " 'Obongi' 'Buhweju' 'Kanungu' 'Huambo' 'Sao Filipe' 'Woroba' 'Ibanda'\n",
      " 'Ntungamo' 'Rukwa' 'Adjumani' 'Matabeleland North' 'Kara' 'Kilimanjaro'\n",
      " 'Kapchorwa' 'Sankuru' 'Oueme' 'Rubanda' 'Maracha' 'Leribe' 'Napak'\n",
      " 'Manyara' 'Uige' 'Tandjile' 'Moxico' 'Katavi' 'Ouangani' 'Benguela'\n",
      " 'Omusati' 'Kerewan' 'Cuando Cubango' 'Oyam' 'Ngora' 'Yumbe' 'Salamat'\n",
      " 'Ben Arous' 'Brava' 'Ngounie' 'Oshikoto' 'Kagera' 'Chlef' 'Nana-Grebizi'\n",
      " 'Gabu' 'Quinara' 'Lwengo' 'Collines' 'Sohag' 'Gash Barka' 'Sangha'\n",
      " 'Mafeteng' 'Tibesti' 'Thaba-Tseka' 'Amuria' 'Luapula' 'Mokhotlong'\n",
      " 'Guera' 'Grand Cape Mount' 'Mwanza' 'Mtsangamouji' 'Centrale' 'Sada'\n",
      " 'Zambezi' 'Oio' 'Mitooma' 'Kamwenge' 'South Sinai' 'Bundibugyo' 'Quthing'\n",
      " 'Bengo' 'Porto Novo' 'Kweneng' 'Port Glaud' 'Nebbi' 'River Gee'\n",
      " 'Kgatleng' 'Mpigi' 'Northwestern' 'Bechar' 'Mostaganem' 'Beni Suef'\n",
      " 'Damietta' 'Luxor' 'Menoufia' 'Illizi' 'New Valley' 'Ghardaia' 'Naama'\n",
      " 'Ouargla' 'Ain Temouchent' 'El Bayadh' 'Saida' 'Tissemsilt'\n",
      " 'Ribeira Brava' 'Butambala' 'Mascara' 'Sheema' 'Kassanda' 'Me-Zochi'\n",
      " 'Otuke' 'Bukwo' 'Tabora' 'Bouenza' 'North-Western' 'Maio' 'Pader' 'Lindi'\n",
      " 'Sinoe' 'Sao Domingos' 'Tombali' 'Pakwach' 'El Oued' 'Hardap' 'Ntoroko'\n",
      " \"Qacha's Nek\" 'Namayingo' 'Kiboga' 'Kyotera' 'Biombo' 'Kavango West'\n",
      " 'Koboko' 'Pointe-Noire' 'Grand Bassa' 'Kitagwenda' 'Lemba' 'Kyenjojo'\n",
      " 'Baie Sainte-Anne' 'Grand Gedeh' 'Pool' 'Anseba' 'Agalega' 'Bioko Norte'\n",
      " 'Dikhil' 'Souk Ahras' 'Kyegegwa' 'Kalangala' 'North' 'Inchiri'\n",
      " 'Bulambuli' 'Lobata' 'Rukiga' 'Katakwi' 'Kyankwanzi' 'Kazo' 'Kaberamaido'\n",
      " 'Plateaux' 'Omoro' 'Kouilou' 'Likouala' 'Barh El Gazel' 'Luuka' 'Ruvuma'\n",
      " 'Debub' 'Rakai' 'Lyantonde' 'Niari' 'Tarrafal de Sao Nicolau'\n",
      " 'Kusini Unguja' 'Mtsamboro' 'Ennedi Ouest' 'Shinyanga' 'Ain Salah'\n",
      " 'Kiruhura' 'Kapelebyong' 'Basse' 'Rivercess' 'Butha-Buthe' 'Kunene'\n",
      " 'Litoral' 'Ngamiland' 'Namutumba' 'Principe' \"Mohale's Hoek\" 'Sao Miguel'\n",
      " 'Ali Sabieh' 'Janjanbureh' 'Grand Kru' 'Baie Lazare' 'Mont Fleuri'\n",
      " 'Gbarpolu' 'Saint Helena' 'Rubirizi' 'Bomi' 'Kaskazini Unguja'\n",
      " 'Kaskazini Pemba' 'Tarrafal' 'Santa Cruz' 'Kalaki'\n",
      " 'Santa Catarina do Fogo' 'Centro Sur' 'Kie-Ntem' 'Wele-Nzas'\n",
      " 'Central River' 'Lekoumou' 'Rwampara' 'Kusini Pemba' 'Mansakonko'\n",
      " 'Cuvette' 'Bolama' 'Equatoria' 'Bahr el Ghazal' 'Bioko Sur']\n",
      "\n",
      "{'admin2'}\n",
      "['Abeibara' 'Boulgou' 'Kidal' ... 'Saoula' 'Omuthiyagwiipundi'\n",
      " 'Ouled Chebel']\n",
      "\n",
      "{'admin3'}\n",
      "['Abeibara' 'Bittou' 'Kidal' ... 'Rubengera' 'Kinoni' 'Mumbue']\n",
      "\n",
      "{'location'}\n",
      "['Ibdakan' 'Gnangdin' 'Eghacher-Sediden' ... 'Colline Kinoni'\n",
      " 'Hassi El Abed' 'Mumbue']\n",
      "\n",
      "{'latitude'}\n",
      "[ 18.9689  11.3693  18.5558 ...  30.9833  34.9664 -13.9   ]\n",
      "\n",
      "{'longitude'}\n",
      "[ 2.0041 -0.36    1.1113 ...  2.9944 29.7267 -0.2903]\n",
      "\n",
      "{'geo_precision'}\n",
      "[2 1 3]\n",
      "\n",
      "{'source'}\n",
      "['Al Zallaqa' 'Undisclosed Source' 'Twitter' ...\n",
      " 'Africa Research Bulletin; Dow Jones International; Reuters'\n",
      " 'Reuters; Sudan Catholic Information Office' 'Register-Guard']\n",
      "\n",
      "{'source_scale'}\n",
      "['New media' 'Local partner-Other' 'National' 'Subnational'\n",
      " 'New media-National' 'Subnational-National' 'National-Regional' 'Other'\n",
      " 'New media-Subnational' 'Regional' 'Other-International'\n",
      " 'National-International' 'Regional-International' 'Other-National'\n",
      " 'International' 'New media-International' 'Other-New media'\n",
      " 'Subnational-International' 'Other-Regional' 'New media-Regional'\n",
      " 'Other-Subnational' 'Local partner-International'\n",
      " 'Local partner-National' 'Subnational-Regional' 'Local partner-New media']\n",
      "\n",
      "{'notes'}\n",
      "['On 28 February 2025, JNIM claimed to have targeted a FAMa and Wagner convoy with an IED between Ibdakan (Abeibara, Kidal) and Eghacher-Sediden (Kidal, Kidal), coded to Ibdakan. Casualties unknown.'\n",
      " 'On 28 February 2025, an armed group (likely JNIM militants, based on location) attacked volunteer fighters (VDP) in the village of Gnangdin (Bittou, Boulgou). Casualties unknown.'\n",
      " 'On 28 February 2025, a FAMa and Wagner patrol fired on an encampment in the village of Eghacher-Sediden (Kidal, Kidal). Two women were injured, one of them seriously.'\n",
      " ...\n",
      " 'Around 1 January 1997 (month of), Military Forces of Sierra Leone (1996-1997) engaged in violence against civilians in York Island (Southern, Bonthe). No fatalities.'\n",
      " 'Around 1 January 1997 (month of), Kamajor Militia and Military Forces of Sierra Leone (1996-1997) engaged in battles in Fakunya (Southern, Moyamba). No fatalities.'\n",
      " 'The total number of chiefs in the past 6 months assassinated in this province=10']\n",
      "\n",
      "{'fatalities'}\n",
      "[   0    3   10    6    1    5    2    4   17   23    7    8   11    9\n",
      "   20   15   34   19   25   50   18   48   16   12   13   14   28   22\n",
      "   21   38   37   29   47   41   33   94   44   40   53   60   31   46\n",
      "   30   58   56   70   52   59   67   27   49   26   61   80   35   39\n",
      "   65  100   43   55  120   32   62   51   42   93   89   36  280   54\n",
      "  200   24  111   45   74  150  520  205   73  110  163  112  113   90\n",
      "   97   57   69  310  143  210   86  114  119   63   66  146   84   79\n",
      "   64   75  179   72   87   85   68 1000  167  118  141  281  300   71\n",
      "  159  178  312   82   81   92   76  296  295  149  103  204  201  136\n",
      "   96   91  105  130  137  127  139  102  173  131  104  180  121   78\n",
      "  192  129  232  338  101  225   77   83  135  170  107  125  160   88\n",
      "  320  106  305  165  126  207  164  600  195  152  109  166  128  140\n",
      "  157  270  348  311  350  587   95  117   99  115  181  116   98  234\n",
      "  248  172  275  174  124  208  224  176  230  420  148  319  500  400\n",
      "  144  370  162  211  183  108  333  250  132  142  408  409  411  260\n",
      "  153  185  598  597  267  151  354  650  750  190  718  326  286  226\n",
      "  123 1037  244  247  631  220  189  187  161  122  168  700  285  257\n",
      "  525  530  325  251  145  212  175  215  227  213  240  446  330  334\n",
      "  318  543 1350  272  963  237  315  155  156  138  197  216  475  202\n",
      "  158  259  450  322 1172  923  922  194  134  209  188  147  266  264\n",
      "  236  321  231  186  404]\n",
      "\n",
      "{'tags'}\n",
      "[nan 'crowd size=no report' 'crowd size=scores' ...\n",
      " 'crowd size=at least 35; sexual violence'\n",
      " 'crowd size=3; women targeted: candidates for office'\n",
      " 'crowd size=no report; sexual violence; women targeted: protesters']\n",
      "\n",
      "{'timestamp'}\n",
      "[1741039795 1741039797 1741039798 ... 1582579226 1618527011 1618568847]\n",
      "\n"
     ]
    }
   ],
   "source": [
    "# check for unique values in each column\n",
    "\n",
    "for col in data.columns:\n",
    "    print({col})\n",
    "    print(data[col].unique())\n",
    "    print()"
   ]
  },
  {
   "cell_type": "code",
   "execution_count": 32,
   "metadata": {},
   "outputs": [],
   "source": [
    "#Drop irrelevant columns with a high percentage of missing values and also those that will not add any value in our analysis\n",
    "\n",
    "data.drop(['year', 'civilian_targeting', 'iso', 'admin1', 'admin2', 'admin3','latitude', 'longitude', 'notes', 'tags', 'timestamp'],\n",
    "          axis=1, inplace=True)"
   ]
  },
  {
   "cell_type": "code",
   "execution_count": 33,
   "metadata": {},
   "outputs": [
    {
     "data": {
      "text/plain": [
       "assoc_actor_2     79.338659\n",
       "assoc_actor_1     72.279785\n",
       "actor2            27.054430\n",
       "inter2            27.054430\n",
       "inter1             0.000000\n",
       "event_date         0.000000\n",
       "time_precision     0.000000\n",
       "disorder_type      0.000000\n",
       "event_type         0.000000\n",
       "sub_event_type     0.000000\n",
       "actor1             0.000000\n",
       "fatalities         0.000000\n",
       "source_scale       0.000000\n",
       "interaction        0.000000\n",
       "region             0.000000\n",
       "country            0.000000\n",
       "location           0.000000\n",
       "geo_precision      0.000000\n",
       "source             0.000000\n",
       "event_id_cnty      0.000000\n",
       "dtype: float64"
      ]
     },
     "execution_count": 33,
     "metadata": {},
     "output_type": "execute_result"
    }
   ],
   "source": [
    "# percentage of missing values per column\n",
    "# sorted in descending order\n",
    "\n",
    "data.isna().sum().sort_values(ascending=False)/len(data)*100"
   ]
  },
  {
   "cell_type": "code",
   "execution_count": 34,
   "metadata": {},
   "outputs": [],
   "source": [
    "#Drop irrelevant columns with a high percentage of missing values and also those that will not add any value in our analysis\n",
    "\n",
    "# Drop additional columns with the highets missing values\n",
    "# 1. \"assoc_actor_2\" -  represents additional or supporting actor(s) associated with actor2.\n",
    "# 2. \"assoc_actor_1\" - represents additional or supporting actor(s) associated with actor1\n",
    "# 3. \"actor2\" - The secondary actor involved in the event (which may represent a target or another involved party).\n",
    "# 4. \"inter2\"  - A categorical code describing actor2’s type\n",
    "\n",
    "data.drop(['assoc_actor_2', 'assoc_actor_1', 'actor2', 'inter2'],\n",
    "          axis=1, inplace=True)"
   ]
  },
  {
   "cell_type": "code",
   "execution_count": 36,
   "metadata": {},
   "outputs": [
    {
     "data": {
      "text/plain": [
       "fatalities        0.0\n",
       "source_scale      0.0\n",
       "source            0.0\n",
       "geo_precision     0.0\n",
       "location          0.0\n",
       "country           0.0\n",
       "region            0.0\n",
       "interaction       0.0\n",
       "inter1            0.0\n",
       "actor1            0.0\n",
       "sub_event_type    0.0\n",
       "event_type        0.0\n",
       "disorder_type     0.0\n",
       "time_precision    0.0\n",
       "event_date        0.0\n",
       "event_id_cnty     0.0\n",
       "dtype: float64"
      ]
     },
     "execution_count": 36,
     "metadata": {},
     "output_type": "execute_result"
    }
   ],
   "source": [
    "# percentage of missing values per column\n",
    "# sorted in descending order\n",
    "\n",
    "data.isna().sum().sort_values(ascending=False)/len(data)*100\n",
    "\n",
    "#The data now has no missing Values"
   ]
  },
  {
   "cell_type": "markdown",
   "metadata": {},
   "source": [
    "COnvert event_date column to datetime"
   ]
  },
  {
   "cell_type": "code",
   "execution_count": 37,
   "metadata": {},
   "outputs": [
    {
     "data": {
      "text/plain": [
       "dtype('<M8[ns]')"
      ]
     },
     "execution_count": 37,
     "metadata": {},
     "output_type": "execute_result"
    }
   ],
   "source": [
    "data['event_date'] = pd.to_datetime(data['event_date'])\n",
    "data['event_date'].dtype # confirm datatype"
   ]
  },
  {
   "cell_type": "code",
   "execution_count": 38,
   "metadata": {},
   "outputs": [
    {
     "data": {
      "application/vnd.microsoft.datawrangler.viewer.v0+json": {
       "columns": [
        {
         "name": "index",
         "rawType": "int64",
         "type": "integer"
        },
        {
         "name": "event_id_cnty",
         "rawType": "object",
         "type": "string"
        },
        {
         "name": "event_date",
         "rawType": "datetime64[ns]",
         "type": "datetime"
        },
        {
         "name": "time_precision",
         "rawType": "int64",
         "type": "integer"
        },
        {
         "name": "disorder_type",
         "rawType": "object",
         "type": "string"
        },
        {
         "name": "event_type",
         "rawType": "object",
         "type": "string"
        },
        {
         "name": "sub_event_type",
         "rawType": "object",
         "type": "string"
        },
        {
         "name": "actor1",
         "rawType": "object",
         "type": "string"
        },
        {
         "name": "inter1",
         "rawType": "object",
         "type": "string"
        },
        {
         "name": "interaction",
         "rawType": "object",
         "type": "string"
        },
        {
         "name": "region",
         "rawType": "object",
         "type": "string"
        },
        {
         "name": "country",
         "rawType": "object",
         "type": "string"
        },
        {
         "name": "location",
         "rawType": "object",
         "type": "string"
        },
        {
         "name": "geo_precision",
         "rawType": "int64",
         "type": "integer"
        },
        {
         "name": "source",
         "rawType": "object",
         "type": "string"
        },
        {
         "name": "source_scale",
         "rawType": "object",
         "type": "string"
        },
        {
         "name": "fatalities",
         "rawType": "int64",
         "type": "integer"
        },
        {
         "name": "event_Year",
         "rawType": "int64",
         "type": "integer"
        },
        {
         "name": "event_Month",
         "rawType": "object",
         "type": "string"
        }
       ],
       "conversionMethod": "pd.DataFrame",
       "ref": "01c38365-ab79-45fe-9ee7-0972f3ce569b",
       "rows": [
        [
         "0",
         "MLI33921",
         "2025-02-28 00:00:00",
         "1",
         "Political violence",
         "Explosions/Remote violence",
         "Remote explosive/landmine/IED",
         "JNIM: Group for Support of Islam and Muslims",
         "Rebel group",
         "State forces-Rebel group",
         "Western Africa",
         "Mali",
         "Ibdakan",
         "2",
         "Al Zallaqa",
         "New media",
         "0",
         "2025",
         "February"
        ],
        [
         "1",
         "BFO13376",
         "2025-02-28 00:00:00",
         "1",
         "Political violence",
         "Battles",
         "Armed clash",
         "JNIM: Group for Support of Islam and Muslims",
         "Rebel group",
         "Rebel group-Identity militia",
         "Western Africa",
         "Burkina Faso",
         "Gnangdin",
         "1",
         "Undisclosed Source",
         "Local partner-Other",
         "0",
         "2025",
         "February"
        ],
        [
         "2",
         "MLI33922",
         "2025-02-28 00:00:00",
         "1",
         "Political violence",
         "Violence against civilians",
         "Attack",
         "Military Forces of Mali (2021-)",
         "State forces",
         "State forces-Civilians",
         "Western Africa",
         "Mali",
         "Eghacher-Sediden",
         "1",
         "Twitter",
         "New media",
         "0",
         "2025",
         "February"
        ],
        [
         "3",
         "GHA2795",
         "2025-02-28 00:00:00",
         "1",
         "Political violence",
         "Violence against civilians",
         "Attack",
         "Land Guards",
         "External/Other forces",
         "External/Other forces-Civilians",
         "Western Africa",
         "Ghana",
         "Bibiani",
         "2",
         "3 News",
         "National",
         "0",
         "2025",
         "February"
        ],
        [
         "4",
         "GHA2800",
         "2025-02-28 00:00:00",
         "1",
         "Political violence",
         "Riots",
         "Mob violence",
         "Rioters (Ghana)",
         "Rioters",
         "Rioters-Civilians",
         "Western Africa",
         "Ghana",
         "Accra",
         "3",
         "Ghana Web",
         "National",
         "0",
         "2025",
         "February"
        ]
       ],
       "shape": {
        "columns": 18,
        "rows": 5
       }
      },
      "text/html": [
       "<div>\n",
       "<style scoped>\n",
       "    .dataframe tbody tr th:only-of-type {\n",
       "        vertical-align: middle;\n",
       "    }\n",
       "\n",
       "    .dataframe tbody tr th {\n",
       "        vertical-align: top;\n",
       "    }\n",
       "\n",
       "    .dataframe thead th {\n",
       "        text-align: right;\n",
       "    }\n",
       "</style>\n",
       "<table border=\"1\" class=\"dataframe\">\n",
       "  <thead>\n",
       "    <tr style=\"text-align: right;\">\n",
       "      <th></th>\n",
       "      <th>event_id_cnty</th>\n",
       "      <th>event_date</th>\n",
       "      <th>time_precision</th>\n",
       "      <th>disorder_type</th>\n",
       "      <th>event_type</th>\n",
       "      <th>sub_event_type</th>\n",
       "      <th>actor1</th>\n",
       "      <th>inter1</th>\n",
       "      <th>interaction</th>\n",
       "      <th>region</th>\n",
       "      <th>country</th>\n",
       "      <th>location</th>\n",
       "      <th>geo_precision</th>\n",
       "      <th>source</th>\n",
       "      <th>source_scale</th>\n",
       "      <th>fatalities</th>\n",
       "      <th>event_Year</th>\n",
       "      <th>event_Month</th>\n",
       "    </tr>\n",
       "  </thead>\n",
       "  <tbody>\n",
       "    <tr>\n",
       "      <th>0</th>\n",
       "      <td>MLI33921</td>\n",
       "      <td>2025-02-28</td>\n",
       "      <td>1</td>\n",
       "      <td>Political violence</td>\n",
       "      <td>Explosions/Remote violence</td>\n",
       "      <td>Remote explosive/landmine/IED</td>\n",
       "      <td>JNIM: Group for Support of Islam and Muslims</td>\n",
       "      <td>Rebel group</td>\n",
       "      <td>State forces-Rebel group</td>\n",
       "      <td>Western Africa</td>\n",
       "      <td>Mali</td>\n",
       "      <td>Ibdakan</td>\n",
       "      <td>2</td>\n",
       "      <td>Al Zallaqa</td>\n",
       "      <td>New media</td>\n",
       "      <td>0</td>\n",
       "      <td>2025</td>\n",
       "      <td>February</td>\n",
       "    </tr>\n",
       "    <tr>\n",
       "      <th>1</th>\n",
       "      <td>BFO13376</td>\n",
       "      <td>2025-02-28</td>\n",
       "      <td>1</td>\n",
       "      <td>Political violence</td>\n",
       "      <td>Battles</td>\n",
       "      <td>Armed clash</td>\n",
       "      <td>JNIM: Group for Support of Islam and Muslims</td>\n",
       "      <td>Rebel group</td>\n",
       "      <td>Rebel group-Identity militia</td>\n",
       "      <td>Western Africa</td>\n",
       "      <td>Burkina Faso</td>\n",
       "      <td>Gnangdin</td>\n",
       "      <td>1</td>\n",
       "      <td>Undisclosed Source</td>\n",
       "      <td>Local partner-Other</td>\n",
       "      <td>0</td>\n",
       "      <td>2025</td>\n",
       "      <td>February</td>\n",
       "    </tr>\n",
       "    <tr>\n",
       "      <th>2</th>\n",
       "      <td>MLI33922</td>\n",
       "      <td>2025-02-28</td>\n",
       "      <td>1</td>\n",
       "      <td>Political violence</td>\n",
       "      <td>Violence against civilians</td>\n",
       "      <td>Attack</td>\n",
       "      <td>Military Forces of Mali (2021-)</td>\n",
       "      <td>State forces</td>\n",
       "      <td>State forces-Civilians</td>\n",
       "      <td>Western Africa</td>\n",
       "      <td>Mali</td>\n",
       "      <td>Eghacher-Sediden</td>\n",
       "      <td>1</td>\n",
       "      <td>Twitter</td>\n",
       "      <td>New media</td>\n",
       "      <td>0</td>\n",
       "      <td>2025</td>\n",
       "      <td>February</td>\n",
       "    </tr>\n",
       "    <tr>\n",
       "      <th>3</th>\n",
       "      <td>GHA2795</td>\n",
       "      <td>2025-02-28</td>\n",
       "      <td>1</td>\n",
       "      <td>Political violence</td>\n",
       "      <td>Violence against civilians</td>\n",
       "      <td>Attack</td>\n",
       "      <td>Land Guards</td>\n",
       "      <td>External/Other forces</td>\n",
       "      <td>External/Other forces-Civilians</td>\n",
       "      <td>Western Africa</td>\n",
       "      <td>Ghana</td>\n",
       "      <td>Bibiani</td>\n",
       "      <td>2</td>\n",
       "      <td>3 News</td>\n",
       "      <td>National</td>\n",
       "      <td>0</td>\n",
       "      <td>2025</td>\n",
       "      <td>February</td>\n",
       "    </tr>\n",
       "    <tr>\n",
       "      <th>4</th>\n",
       "      <td>GHA2800</td>\n",
       "      <td>2025-02-28</td>\n",
       "      <td>1</td>\n",
       "      <td>Political violence</td>\n",
       "      <td>Riots</td>\n",
       "      <td>Mob violence</td>\n",
       "      <td>Rioters (Ghana)</td>\n",
       "      <td>Rioters</td>\n",
       "      <td>Rioters-Civilians</td>\n",
       "      <td>Western Africa</td>\n",
       "      <td>Ghana</td>\n",
       "      <td>Accra</td>\n",
       "      <td>3</td>\n",
       "      <td>Ghana Web</td>\n",
       "      <td>National</td>\n",
       "      <td>0</td>\n",
       "      <td>2025</td>\n",
       "      <td>February</td>\n",
       "    </tr>\n",
       "  </tbody>\n",
       "</table>\n",
       "</div>"
      ],
      "text/plain": [
       "  event_id_cnty event_date  time_precision       disorder_type  \\\n",
       "0      MLI33921 2025-02-28               1  Political violence   \n",
       "1      BFO13376 2025-02-28               1  Political violence   \n",
       "2      MLI33922 2025-02-28               1  Political violence   \n",
       "3       GHA2795 2025-02-28               1  Political violence   \n",
       "4       GHA2800 2025-02-28               1  Political violence   \n",
       "\n",
       "                   event_type                 sub_event_type  \\\n",
       "0  Explosions/Remote violence  Remote explosive/landmine/IED   \n",
       "1                     Battles                    Armed clash   \n",
       "2  Violence against civilians                         Attack   \n",
       "3  Violence against civilians                         Attack   \n",
       "4                       Riots                   Mob violence   \n",
       "\n",
       "                                         actor1                 inter1  \\\n",
       "0  JNIM: Group for Support of Islam and Muslims            Rebel group   \n",
       "1  JNIM: Group for Support of Islam and Muslims            Rebel group   \n",
       "2               Military Forces of Mali (2021-)           State forces   \n",
       "3                                   Land Guards  External/Other forces   \n",
       "4                               Rioters (Ghana)                Rioters   \n",
       "\n",
       "                       interaction          region       country  \\\n",
       "0         State forces-Rebel group  Western Africa          Mali   \n",
       "1     Rebel group-Identity militia  Western Africa  Burkina Faso   \n",
       "2           State forces-Civilians  Western Africa          Mali   \n",
       "3  External/Other forces-Civilians  Western Africa         Ghana   \n",
       "4                Rioters-Civilians  Western Africa         Ghana   \n",
       "\n",
       "           location  geo_precision              source         source_scale  \\\n",
       "0           Ibdakan              2          Al Zallaqa            New media   \n",
       "1          Gnangdin              1  Undisclosed Source  Local partner-Other   \n",
       "2  Eghacher-Sediden              1             Twitter            New media   \n",
       "3           Bibiani              2              3 News             National   \n",
       "4             Accra              3           Ghana Web             National   \n",
       "\n",
       "   fatalities  event_Year event_Month  \n",
       "0           0        2025    February  \n",
       "1           0        2025    February  \n",
       "2           0        2025    February  \n",
       "3           0        2025    February  \n",
       "4           0        2025    February  "
      ]
     },
     "execution_count": 38,
     "metadata": {},
     "output_type": "execute_result"
    }
   ],
   "source": [
    "# extract year and month and create event_Year and event_Month columns\n",
    "\n",
    "data[\"event_Year\"] = data[\"event_date\"].dt.year\n",
    "data[\"event_Month\"] = data[\"event_date\"].dt.month_name()\n",
    "data.head()"
   ]
  },
  {
   "cell_type": "code",
   "execution_count": 39,
   "metadata": {},
   "outputs": [
    {
     "name": "stdout",
     "output_type": "stream",
     "text": [
      "<class 'pandas.core.frame.DataFrame'>\n",
      "RangeIndex: 413947 entries, 0 to 413946\n",
      "Data columns (total 18 columns):\n",
      " #   Column          Non-Null Count   Dtype         \n",
      "---  ------          --------------   -----         \n",
      " 0   event_id_cnty   413947 non-null  object        \n",
      " 1   event_date      413947 non-null  datetime64[ns]\n",
      " 2   time_precision  413947 non-null  int64         \n",
      " 3   disorder_type   413947 non-null  object        \n",
      " 4   event_type      413947 non-null  object        \n",
      " 5   sub_event_type  413947 non-null  object        \n",
      " 6   actor1          413947 non-null  object        \n",
      " 7   inter1          413947 non-null  object        \n",
      " 8   interaction     413947 non-null  object        \n",
      " 9   region          413947 non-null  object        \n",
      " 10  country         413947 non-null  object        \n",
      " 11  location        413947 non-null  object        \n",
      " 12  geo_precision   413947 non-null  int64         \n",
      " 13  source          413947 non-null  object        \n",
      " 14  source_scale    413947 non-null  object        \n",
      " 15  fatalities      413947 non-null  int64         \n",
      " 16  event_Year      413947 non-null  int64         \n",
      " 17  event_Month     413947 non-null  object        \n",
      "dtypes: datetime64[ns](1), int64(4), object(13)\n",
      "memory usage: 56.8+ MB\n"
     ]
    }
   ],
   "source": [
    "# The data is now clean for Exploratory data analysis\n",
    "data.info()"
   ]
  },
  {
   "cell_type": "code",
   "execution_count": 40,
   "metadata": {},
   "outputs": [],
   "source": [
    "#save the new dataframe in csv format\n",
    "\n",
    "data.to_csv('cleaned_dataset_Africa_1997_2025.csv', index=False)"
   ]
  },
  {
   "cell_type": "markdown",
   "metadata": {},
   "source": [
    "EXPLORATORY DATA ANALYSIS (EDA)\n",
    "\n",
    "Questions\n",
    "Identifying Conflict-Prone Areas\n",
    "\n",
    "1. Which regions or countries have experienced the highest frequency of conflicts in the past decade?\n",
    "2. How do historical conflict trends vary across different regions in Africa?\n",
    "3. What spatial patterns can be observed in conflict-prone areas?\n",
    "4. Are urban areas more prone to conflict than rural areas?\n",
    "5. Do border regions experience more conflicts compared to inland areas?\n"
   ]
  },
  {
   "cell_type": "code",
   "execution_count": 41,
   "metadata": {},
   "outputs": [
    {
     "data": {
      "text/plain": [
       "Index(['event_id_cnty', 'event_date', 'year', 'time_precision',\n",
       "       'disorder_type', 'event_type', 'sub_event_type', 'actor1',\n",
       "       'assoc_actor_1', 'inter1', 'actor2', 'assoc_actor_2', 'inter2',\n",
       "       'interaction', 'civilian_targeting', 'iso', 'region', 'country',\n",
       "       'admin1', 'admin2', 'admin3', 'location', 'latitude', 'longitude',\n",
       "       'geo_precision', 'source', 'source_scale', 'notes', 'fatalities',\n",
       "       'tags', 'timestamp'],\n",
       "      dtype='object')"
      ]
     },
     "execution_count": 41,
     "metadata": {},
     "output_type": "execute_result"
    }
   ],
   "source": [
    "df.columns"
   ]
  },
  {
   "cell_type": "code",
   "execution_count": 49,
   "metadata": {},
   "outputs": [
    {
     "data": {
      "application/vnd.microsoft.datawrangler.viewer.v0+json": {
       "columns": [
        {
         "name": "index",
         "rawType": "int64",
         "type": "integer"
        },
        {
         "name": "event_id_cnty",
         "rawType": "object",
         "type": "string"
        },
        {
         "name": "event_date",
         "rawType": "object",
         "type": "string"
        },
        {
         "name": "time_precision",
         "rawType": "int64",
         "type": "integer"
        },
        {
         "name": "disorder_type",
         "rawType": "object",
         "type": "string"
        },
        {
         "name": "event_type",
         "rawType": "object",
         "type": "string"
        },
        {
         "name": "sub_event_type",
         "rawType": "object",
         "type": "string"
        },
        {
         "name": "actor1",
         "rawType": "object",
         "type": "string"
        },
        {
         "name": "inter1",
         "rawType": "object",
         "type": "string"
        },
        {
         "name": "interaction",
         "rawType": "object",
         "type": "string"
        },
        {
         "name": "region",
         "rawType": "object",
         "type": "string"
        },
        {
         "name": "country",
         "rawType": "object",
         "type": "string"
        },
        {
         "name": "location",
         "rawType": "object",
         "type": "string"
        },
        {
         "name": "geo_precision",
         "rawType": "int64",
         "type": "integer"
        },
        {
         "name": "source",
         "rawType": "object",
         "type": "string"
        },
        {
         "name": "source_scale",
         "rawType": "object",
         "type": "string"
        },
        {
         "name": "fatalities",
         "rawType": "int64",
         "type": "integer"
        },
        {
         "name": "event_Year",
         "rawType": "int64",
         "type": "integer"
        },
        {
         "name": "event_Month",
         "rawType": "object",
         "type": "string"
        }
       ],
       "conversionMethod": "pd.DataFrame",
       "ref": "768f0493-0282-43fd-a142-c7a91c49ed1b",
       "rows": [
        [
         "0",
         "MLI33921",
         "2025-02-28",
         "1",
         "Political violence",
         "Explosions/Remote violence",
         "Remote explosive/landmine/IED",
         "JNIM: Group for Support of Islam and Muslims",
         "Rebel group",
         "State forces-Rebel group",
         "Western Africa",
         "Mali",
         "Ibdakan",
         "2",
         "Al Zallaqa",
         "New media",
         "0",
         "2025",
         "February"
        ],
        [
         "1",
         "BFO13376",
         "2025-02-28",
         "1",
         "Political violence",
         "Battles",
         "Armed clash",
         "JNIM: Group for Support of Islam and Muslims",
         "Rebel group",
         "Rebel group-Identity militia",
         "Western Africa",
         "Burkina Faso",
         "Gnangdin",
         "1",
         "Undisclosed Source",
         "Local partner-Other",
         "0",
         "2025",
         "February"
        ],
        [
         "2",
         "MLI33922",
         "2025-02-28",
         "1",
         "Political violence",
         "Violence against civilians",
         "Attack",
         "Military Forces of Mali (2021-)",
         "State forces",
         "State forces-Civilians",
         "Western Africa",
         "Mali",
         "Eghacher-Sediden",
         "1",
         "Twitter",
         "New media",
         "0",
         "2025",
         "February"
        ],
        [
         "3",
         "GHA2795",
         "2025-02-28",
         "1",
         "Political violence",
         "Violence against civilians",
         "Attack",
         "Land Guards",
         "External/Other forces",
         "External/Other forces-Civilians",
         "Western Africa",
         "Ghana",
         "Bibiani",
         "2",
         "3 News",
         "National",
         "0",
         "2025",
         "February"
        ],
        [
         "4",
         "GHA2800",
         "2025-02-28",
         "1",
         "Political violence",
         "Riots",
         "Mob violence",
         "Rioters (Ghana)",
         "Rioters",
         "Rioters-Civilians",
         "Western Africa",
         "Ghana",
         "Accra",
         "3",
         "Ghana Web",
         "National",
         "0",
         "2025",
         "February"
        ]
       ],
       "shape": {
        "columns": 18,
        "rows": 5
       }
      },
      "text/html": [
       "<div>\n",
       "<style scoped>\n",
       "    .dataframe tbody tr th:only-of-type {\n",
       "        vertical-align: middle;\n",
       "    }\n",
       "\n",
       "    .dataframe tbody tr th {\n",
       "        vertical-align: top;\n",
       "    }\n",
       "\n",
       "    .dataframe thead th {\n",
       "        text-align: right;\n",
       "    }\n",
       "</style>\n",
       "<table border=\"1\" class=\"dataframe\">\n",
       "  <thead>\n",
       "    <tr style=\"text-align: right;\">\n",
       "      <th></th>\n",
       "      <th>event_id_cnty</th>\n",
       "      <th>event_date</th>\n",
       "      <th>time_precision</th>\n",
       "      <th>disorder_type</th>\n",
       "      <th>event_type</th>\n",
       "      <th>sub_event_type</th>\n",
       "      <th>actor1</th>\n",
       "      <th>inter1</th>\n",
       "      <th>interaction</th>\n",
       "      <th>region</th>\n",
       "      <th>country</th>\n",
       "      <th>location</th>\n",
       "      <th>geo_precision</th>\n",
       "      <th>source</th>\n",
       "      <th>source_scale</th>\n",
       "      <th>fatalities</th>\n",
       "      <th>event_Year</th>\n",
       "      <th>event_Month</th>\n",
       "    </tr>\n",
       "  </thead>\n",
       "  <tbody>\n",
       "    <tr>\n",
       "      <th>0</th>\n",
       "      <td>MLI33921</td>\n",
       "      <td>2025-02-28</td>\n",
       "      <td>1</td>\n",
       "      <td>Political violence</td>\n",
       "      <td>Explosions/Remote violence</td>\n",
       "      <td>Remote explosive/landmine/IED</td>\n",
       "      <td>JNIM: Group for Support of Islam and Muslims</td>\n",
       "      <td>Rebel group</td>\n",
       "      <td>State forces-Rebel group</td>\n",
       "      <td>Western Africa</td>\n",
       "      <td>Mali</td>\n",
       "      <td>Ibdakan</td>\n",
       "      <td>2</td>\n",
       "      <td>Al Zallaqa</td>\n",
       "      <td>New media</td>\n",
       "      <td>0</td>\n",
       "      <td>2025</td>\n",
       "      <td>February</td>\n",
       "    </tr>\n",
       "    <tr>\n",
       "      <th>1</th>\n",
       "      <td>BFO13376</td>\n",
       "      <td>2025-02-28</td>\n",
       "      <td>1</td>\n",
       "      <td>Political violence</td>\n",
       "      <td>Battles</td>\n",
       "      <td>Armed clash</td>\n",
       "      <td>JNIM: Group for Support of Islam and Muslims</td>\n",
       "      <td>Rebel group</td>\n",
       "      <td>Rebel group-Identity militia</td>\n",
       "      <td>Western Africa</td>\n",
       "      <td>Burkina Faso</td>\n",
       "      <td>Gnangdin</td>\n",
       "      <td>1</td>\n",
       "      <td>Undisclosed Source</td>\n",
       "      <td>Local partner-Other</td>\n",
       "      <td>0</td>\n",
       "      <td>2025</td>\n",
       "      <td>February</td>\n",
       "    </tr>\n",
       "    <tr>\n",
       "      <th>2</th>\n",
       "      <td>MLI33922</td>\n",
       "      <td>2025-02-28</td>\n",
       "      <td>1</td>\n",
       "      <td>Political violence</td>\n",
       "      <td>Violence against civilians</td>\n",
       "      <td>Attack</td>\n",
       "      <td>Military Forces of Mali (2021-)</td>\n",
       "      <td>State forces</td>\n",
       "      <td>State forces-Civilians</td>\n",
       "      <td>Western Africa</td>\n",
       "      <td>Mali</td>\n",
       "      <td>Eghacher-Sediden</td>\n",
       "      <td>1</td>\n",
       "      <td>Twitter</td>\n",
       "      <td>New media</td>\n",
       "      <td>0</td>\n",
       "      <td>2025</td>\n",
       "      <td>February</td>\n",
       "    </tr>\n",
       "    <tr>\n",
       "      <th>3</th>\n",
       "      <td>GHA2795</td>\n",
       "      <td>2025-02-28</td>\n",
       "      <td>1</td>\n",
       "      <td>Political violence</td>\n",
       "      <td>Violence against civilians</td>\n",
       "      <td>Attack</td>\n",
       "      <td>Land Guards</td>\n",
       "      <td>External/Other forces</td>\n",
       "      <td>External/Other forces-Civilians</td>\n",
       "      <td>Western Africa</td>\n",
       "      <td>Ghana</td>\n",
       "      <td>Bibiani</td>\n",
       "      <td>2</td>\n",
       "      <td>3 News</td>\n",
       "      <td>National</td>\n",
       "      <td>0</td>\n",
       "      <td>2025</td>\n",
       "      <td>February</td>\n",
       "    </tr>\n",
       "    <tr>\n",
       "      <th>4</th>\n",
       "      <td>GHA2800</td>\n",
       "      <td>2025-02-28</td>\n",
       "      <td>1</td>\n",
       "      <td>Political violence</td>\n",
       "      <td>Riots</td>\n",
       "      <td>Mob violence</td>\n",
       "      <td>Rioters (Ghana)</td>\n",
       "      <td>Rioters</td>\n",
       "      <td>Rioters-Civilians</td>\n",
       "      <td>Western Africa</td>\n",
       "      <td>Ghana</td>\n",
       "      <td>Accra</td>\n",
       "      <td>3</td>\n",
       "      <td>Ghana Web</td>\n",
       "      <td>National</td>\n",
       "      <td>0</td>\n",
       "      <td>2025</td>\n",
       "      <td>February</td>\n",
       "    </tr>\n",
       "  </tbody>\n",
       "</table>\n",
       "</div>"
      ],
      "text/plain": [
       "  event_id_cnty  event_date  time_precision       disorder_type  \\\n",
       "0      MLI33921  2025-02-28               1  Political violence   \n",
       "1      BFO13376  2025-02-28               1  Political violence   \n",
       "2      MLI33922  2025-02-28               1  Political violence   \n",
       "3       GHA2795  2025-02-28               1  Political violence   \n",
       "4       GHA2800  2025-02-28               1  Political violence   \n",
       "\n",
       "                   event_type                 sub_event_type  \\\n",
       "0  Explosions/Remote violence  Remote explosive/landmine/IED   \n",
       "1                     Battles                    Armed clash   \n",
       "2  Violence against civilians                         Attack   \n",
       "3  Violence against civilians                         Attack   \n",
       "4                       Riots                   Mob violence   \n",
       "\n",
       "                                         actor1                 inter1  \\\n",
       "0  JNIM: Group for Support of Islam and Muslims            Rebel group   \n",
       "1  JNIM: Group for Support of Islam and Muslims            Rebel group   \n",
       "2               Military Forces of Mali (2021-)           State forces   \n",
       "3                                   Land Guards  External/Other forces   \n",
       "4                               Rioters (Ghana)                Rioters   \n",
       "\n",
       "                       interaction          region       country  \\\n",
       "0         State forces-Rebel group  Western Africa          Mali   \n",
       "1     Rebel group-Identity militia  Western Africa  Burkina Faso   \n",
       "2           State forces-Civilians  Western Africa          Mali   \n",
       "3  External/Other forces-Civilians  Western Africa         Ghana   \n",
       "4                Rioters-Civilians  Western Africa         Ghana   \n",
       "\n",
       "           location  geo_precision              source         source_scale  \\\n",
       "0           Ibdakan              2          Al Zallaqa            New media   \n",
       "1          Gnangdin              1  Undisclosed Source  Local partner-Other   \n",
       "2  Eghacher-Sediden              1             Twitter            New media   \n",
       "3           Bibiani              2              3 News             National   \n",
       "4             Accra              3           Ghana Web             National   \n",
       "\n",
       "   fatalities  event_Year event_Month  \n",
       "0           0        2025    February  \n",
       "1           0        2025    February  \n",
       "2           0        2025    February  \n",
       "3           0        2025    February  \n",
       "4           0        2025    February  "
      ]
     },
     "execution_count": 49,
     "metadata": {},
     "output_type": "execute_result"
    }
   ],
   "source": [
    "# Now load the clean data set fro EDA\n",
    "\n",
    "conflict = pd.read_csv('cleaned_dataset_Africa_1997_2025.csv')\n",
    "conflict.head()"
   ]
  },
  {
   "cell_type": "code",
   "execution_count": 50,
   "metadata": {},
   "outputs": [
    {
     "data": {
      "text/plain": [
       "Index(['event_id_cnty', 'event_date', 'time_precision', 'disorder_type',\n",
       "       'event_type', 'sub_event_type', 'actor1', 'inter1', 'interaction',\n",
       "       'region', 'country', 'location', 'geo_precision', 'source',\n",
       "       'source_scale', 'fatalities', 'event_Year', 'event_Month'],\n",
       "      dtype='object')"
      ]
     },
     "execution_count": 50,
     "metadata": {},
     "output_type": "execute_result"
    }
   ],
   "source": [
    "conflict.columns"
   ]
  },
  {
   "cell_type": "code",
   "execution_count": 51,
   "metadata": {},
   "outputs": [
    {
     "name": "stdout",
     "output_type": "stream",
     "text": [
      "<class 'pandas.core.frame.DataFrame'>\n",
      "RangeIndex: 413947 entries, 0 to 413946\n",
      "Data columns (total 18 columns):\n",
      " #   Column          Non-Null Count   Dtype \n",
      "---  ------          --------------   ----- \n",
      " 0   event_id_cnty   413947 non-null  object\n",
      " 1   event_date      413947 non-null  object\n",
      " 2   time_precision  413947 non-null  int64 \n",
      " 3   disorder_type   413947 non-null  object\n",
      " 4   event_type      413947 non-null  object\n",
      " 5   sub_event_type  413947 non-null  object\n",
      " 6   actor1          413947 non-null  object\n",
      " 7   inter1          413947 non-null  object\n",
      " 8   interaction     413947 non-null  object\n",
      " 9   region          413947 non-null  object\n",
      " 10  country         413947 non-null  object\n",
      " 11  location        413947 non-null  object\n",
      " 12  geo_precision   413947 non-null  int64 \n",
      " 13  source          413947 non-null  object\n",
      " 14  source_scale    413947 non-null  object\n",
      " 15  fatalities      413947 non-null  int64 \n",
      " 16  event_Year      413947 non-null  int64 \n",
      " 17  event_Month     413947 non-null  object\n",
      "dtypes: int64(4), object(14)\n",
      "memory usage: 56.8+ MB\n"
     ]
    }
   ],
   "source": [
    "conflict.info()"
   ]
  },
  {
   "cell_type": "markdown",
   "metadata": {},
   "source": [
    "1. Univariate Data Analysis\n",
    "\n",
    "Univariate analysis is a statistical technique used to describe and summarize the distribution of a single variable. It is often used as a preliminary step in data analysis to identify patterns, trends, and outliers."
   ]
  },
  {
   "cell_type": "code",
   "execution_count": 56,
   "metadata": {},
   "outputs": [
    {
     "name": "stdout",
     "output_type": "stream",
     "text": [
      "Battles                       105556\n",
      "Violence against civilians    100372\n",
      "Protests                       94993\n",
      "Riots                          42737\n",
      "Strategic developments         38984\n",
      "Explosions/Remote violence     31305\n",
      "Name: event_type, dtype: int64\n"
     ]
    }
   ],
   "source": [
    "# 1. count plot - Which event type has the highest number of events?\n",
    "event_type_counts = conflict['event_type'].value_counts()\n",
    "print(event_type_counts)"
   ]
  },
  {
   "cell_type": "code",
   "execution_count": 60,
   "metadata": {},
   "outputs": [
    {
     "data": {
      "image/png": "[encoded data removed]",
      "text/plain": [
       "<Figure size 720x504 with 1 Axes>"
      ]
     },
     "metadata": {},
     "output_type": "display_data"
    }
   ],
   "source": [
    "plt.figure(figsize=(10, 7))\n",
    "conflict[\"event_type\"].value_counts().plot(kind='pie', autopct='%1.1f%%', startangle=90)\n",
    "plt.title(\"Count of Events by Event Type\")\n",
    "plt.show()"
   ]
  },
  {
   "cell_type": "code",
   "execution_count": 57,
   "metadata": {},
   "outputs": [
    {
     "name": "stdout",
     "output_type": "stream",
     "text": [
      "Political violence                    256514\n",
      "Demonstrations                        115877\n",
      "Strategic developments                 38984\n",
      "Political violence; Demonstrations      2572\n",
      "Name: disorder_type, dtype: int64\n"
     ]
    }
   ],
   "source": [
    "# 1. count plot - Which event type has the highest number of events?\n",
    "disorder_type_counts = conflict['disorder_type'].value_counts()\n",
    "print(disorder_type_counts)"
   ]
  },
  {
   "cell_type": "code",
   "execution_count": 61,
   "metadata": {},
   "outputs": [
    {
     "data": {
      "image/png": "[encoded data removed]",
      "text/plain": [
       "<Figure size 720x504 with 1 Axes>"
      ]
     },
     "metadata": {},
     "output_type": "display_data"
    }
   ],
   "source": [
    "plt.figure(figsize=(10, 7))\n",
    "conflict[\"disorder_type\"].value_counts().plot(kind='pie', autopct='%1.1f%%', startangle=90)\n",
    "plt.title(\"Count of Events by Disorder Type\")\n",
    "plt.show()"
   ]
  },
  {
   "cell_type": "code",
   "execution_count": 62,
   "metadata": {},
   "outputs": [
    {
     "name": "stdout",
     "output_type": "stream",
     "text": [
      "Eastern Africa     129294\n",
      "Northern Africa     93960\n",
      "Western Africa      92353\n",
      "Middle Africa       65031\n",
      "Southern Africa     33309\n",
      "Name: region, dtype: int64\n"
     ]
    }
   ],
   "source": [
    "# 1. count plot - Which country has the highest number of events?\n",
    "disorder_type_counts = conflict['region'].value_counts()\n",
    "print(disorder_type_counts)"
   ]
  },
  {
   "cell_type": "code",
   "execution_count": 63,
   "metadata": {},
   "outputs": [
    {
     "data": {
      "image/png": "[encoded data removed]",
      "text/plain": [
       "<Figure size 720x504 with 1 Axes>"
      ]
     },
     "metadata": {},
     "output_type": "display_data"
    }
   ],
   "source": [
    "plt.figure(figsize=(10, 7))\n",
    "conflict[\"disorder_type\"].value_counts().plot(kind='pie', autopct='%1.1f%%', startangle=90)\n",
    "plt.title(\"Count of Disorders by region\")\n",
    "plt.show()"
   ]
  },
  {
   "cell_type": "code",
   "execution_count": 55,
   "metadata": {},
   "outputs": [
    {
     "name": "stdout",
     "output_type": "stream",
     "text": [
      "Eastern Africa     129294\n",
      "Northern Africa     93960\n",
      "Western Africa      92353\n",
      "Middle Africa       65031\n",
      "Southern Africa     33309\n",
      "Name: region, dtype: int64\n"
     ]
    }
   ],
   "source": [
    "# 1. count plot - Which country has the highest number of events?\n",
    "event_type_counts = conflict['region'].value_counts()\n",
    "print(event_type_counts)"
   ]
  },
  {
   "cell_type": "code",
   "execution_count": 52,
   "metadata": {},
   "outputs": [
    {
     "name": "stdout",
     "output_type": "stream",
     "text": [
      "Somalia                                         48651\n",
      "Nigeria                                         40480\n",
      "Democratic Republic of Congo                    33961\n",
      "Sudan                                           33287\n",
      "South Africa                                    22662\n",
      "Kenya                                           16693\n",
      "Cameroon                                        16248\n",
      "Ethiopia                                        14599\n",
      "South Sudan                                     14422\n",
      "Morocco                                         13059\n",
      "Algeria                                         12712\n",
      "Mali                                            12302\n",
      "Burkina Faso                                    12079\n",
      "Libya                                           11898\n",
      "Egypt                                           11801\n",
      "Tunisia                                         11203\n",
      "Burundi                                         10868\n",
      "Uganda                                           9183\n",
      "Central African Republic                         7638\n",
      "Zimbabwe                                         6710\n",
      "Sierra Leone                                     4982\n",
      "Mozambique                                       4761\n",
      "Niger                                            4703\n",
      "Madagascar                                       4110\n",
      "Angola                                           4043\n",
      "Ivory Coast                                      3086\n",
      "Guinea                                           2988\n",
      "Ghana                                            2675\n",
      "Senegal                                          2114\n",
      "Mauritania                                       2027\n",
      "Chad                                             1980\n",
      "Liberia                                          1725\n",
      "Benin                                            1648\n",
      "Malawi                                           1588\n",
      "Zambia                                           1544\n",
      "Namibia                                          1188\n",
      "Tanzania                                         1170\n",
      "Rwanda                                            853\n",
      "eSwatini                                          805\n",
      "Reunion                                           625\n",
      "Togo                                              597\n",
      "Mauritius                                         580\n",
      "Republic of Congo                                 534\n",
      "Gabon                                             508\n",
      "Eritrea                                           408\n",
      "Guinea-Bissau                                     375\n",
      "Mayotte                                           352\n",
      "Gambia                                            299\n",
      "Cape Verde                                        273\n",
      "Lesotho                                           249\n",
      "Djibouti                                          219\n",
      "Comoros                                           193\n",
      "Botswana                                          149\n",
      "Equatorial Guinea                                  77\n",
      "Sao Tome and Principe                              42\n",
      "Seychelles                                         19\n",
      "Saint Helena, Ascension and Tristan da Cunha        2\n",
      "Name: country, dtype: int64\n"
     ]
    }
   ],
   "source": [
    "# 1. count plot - Which country has the highest number of events?\n",
    "disorder_type_counts = conflict['country'].value_counts()\n",
    "print(disorder_type_counts)"
   ]
  },
  {
   "cell_type": "code",
   "execution_count": 64,
   "metadata": {},
   "outputs": [
    {
     "data": {
      "image/png": "[encoded data removed]",
      "text/plain": [
       "<Figure size 720x504 with 1 Axes>"
      ]
     },
     "metadata": {
      "needs_background": "light"
     },
     "output_type": "display_data"
    }
   ],
   "source": [
    "# Plot\n",
    "plt.figure(figsize=(10, 7))\n",
    "conflict[\"country\"].value_counts().head(15).plot(kind='bar')\n",
    "plt.title(\"Count of Disorders by Country\")\n",
    "plt.xlabel(\"Country\")\n",
    "plt.ylabel(\"Number of Disorders\")\n",
    "plt.show()"
   ]
  },
  {
   "cell_type": "code",
   "execution_count": 53,
   "metadata": {},
   "outputs": [
    {
     "name": "stdout",
     "output_type": "stream",
     "text": [
      "Somalia                                         48651\n",
      "Nigeria                                         40480\n",
      "Democratic Republic of Congo                    33961\n",
      "Sudan                                           33287\n",
      "South Africa                                    22662\n",
      "Kenya                                           16693\n",
      "Cameroon                                        16248\n",
      "Ethiopia                                        14599\n",
      "South Sudan                                     14422\n",
      "Morocco                                         13059\n",
      "Algeria                                         12712\n",
      "Mali                                            12302\n",
      "Burkina Faso                                    12079\n",
      "Libya                                           11898\n",
      "Egypt                                           11801\n",
      "Tunisia                                         11203\n",
      "Burundi                                         10868\n",
      "Uganda                                           9183\n",
      "Central African Republic                         7638\n",
      "Zimbabwe                                         6710\n",
      "Sierra Leone                                     4982\n",
      "Mozambique                                       4761\n",
      "Niger                                            4703\n",
      "Madagascar                                       4110\n",
      "Angola                                           4043\n",
      "Ivory Coast                                      3086\n",
      "Guinea                                           2988\n",
      "Ghana                                            2675\n",
      "Senegal                                          2114\n",
      "Mauritania                                       2027\n",
      "Chad                                             1980\n",
      "Liberia                                          1725\n",
      "Benin                                            1648\n",
      "Malawi                                           1588\n",
      "Zambia                                           1544\n",
      "Namibia                                          1188\n",
      "Tanzania                                         1170\n",
      "Rwanda                                            853\n",
      "eSwatini                                          805\n",
      "Reunion                                           625\n",
      "Togo                                              597\n",
      "Mauritius                                         580\n",
      "Republic of Congo                                 534\n",
      "Gabon                                             508\n",
      "Eritrea                                           408\n",
      "Guinea-Bissau                                     375\n",
      "Mayotte                                           352\n",
      "Gambia                                            299\n",
      "Cape Verde                                        273\n",
      "Lesotho                                           249\n",
      "Djibouti                                          219\n",
      "Comoros                                           193\n",
      "Botswana                                          149\n",
      "Equatorial Guinea                                  77\n",
      "Sao Tome and Principe                              42\n",
      "Seychelles                                         19\n",
      "Saint Helena, Ascension and Tristan da Cunha        2\n",
      "Name: country, dtype: int64\n"
     ]
    }
   ],
   "source": [
    "# 1. count plot - Which country has the highest number of events?\n",
    "event_type_counts = conflict['country'].value_counts()\n",
    "print(event_type_counts)"
   ]
  },
  {
   "cell_type": "code",
   "execution_count": 66,
   "metadata": {},
   "outputs": [
    {
     "data": {
      "image/png": "[encoded data removed]",
      "text/plain": [
       "<Figure size 720x504 with 1 Axes>"
      ]
     },
     "metadata": {
      "needs_background": "light"
     },
     "output_type": "display_data"
    }
   ],
   "source": [
    "# Plot\n",
    "plt.figure(figsize=(10, 7))\n",
    "conflict[\"country\"].value_counts().head(15).plot(kind='bar')\n",
    "plt.title(\"Count of Events by Country\")\n",
    "plt.xlabel(\"Country\")\n",
    "plt.ylabel(\"Number of events\")\n",
    "plt.show()"
   ]
  },
  {
   "cell_type": "code",
   "execution_count": 69,
   "metadata": {},
   "outputs": [
    {
     "data": {
      "image/png": "[encoded data removed]",
      "text/plain": [
       "<Figure size 720x504 with 1 Axes>"
      ]
     },
     "metadata": {
      "needs_background": "light"
     },
     "output_type": "display_data"
    }
   ],
   "source": [
    "# Plot events by year\n",
    "plt.figure(figsize=(10, 7))\n",
    "conflict[\"event_Year\"].value_counts().head(15).plot(kind='bar')\n",
    "plt.title(\"Count of Events by Year\")\n",
    "plt.xlabel(\"event_Year\")\n",
    "plt.ylabel(\"Number of events\")\n",
    "plt.show()"
   ]
  },
  {
   "cell_type": "code",
   "execution_count": 90,
   "metadata": {},
   "outputs": [
    {
     "data": {
      "image/png": "[encoded data removed]",
      "text/plain": [
       "<Figure size 1800x2160 with 3 Axes>"
      ]
     },
     "metadata": {
      "needs_background": "light"
     },
     "output_type": "display_data"
    }
   ],
   "source": [
    "# Define the categorical columns to visualize\n",
    "actor_columns = ['actor1', 'inter1', 'interaction']\n",
    "# Set up the figure and axes dynamically based on the number of columns\n",
    "num_plots = len(actor_columns)\n",
    "rows = (num_plots // 2) + (num_plots % 2)  # Ensure enough rows\n",
    "fig, axes = plt.subplots(rows, 2, figsize=(25, 30))\n",
    "\n",
    "fig.suptitle('Distribution of Actors & Interactions', fontsize=16)\n",
    "# Flatten axes only if there are multiple rows\n",
    "if rows > 1:\n",
    "    axes = axes.flatten()\n",
    "else:\n",
    "    axes = [axes]  \n",
    "# Iterate through columns and plot\n",
    "for i, col in enumerate(actor_columns):\n",
    "    sns.countplot(y=conflict[col], order=conflict[col].value_counts().index[:10], ax=axes[i], palette=\"magma\")  # Top 10 categories\n",
    "    axes[i].set_title(f'Distribution of {col}')\n",
    "    axes[i].set_xlabel('Count')\n",
    "    axes[i].set_ylabel(col)\n",
    "# Remove any unused subplots\n",
    "for j in range(i + 1, len(axes)):\n",
    "    fig.delaxes(axes[j])  # Remove empty subplot\n",
    "\n",
    "plt.tight_layout(rect=[0, 0, 1, 0.96])\n",
    "plt.show()"
   ]
  },
  {
   "cell_type": "code",
   "execution_count": 91,
   "metadata": {},
   "outputs": [
    {
     "data": {
      "text/plain": [
       "Index(['event_id_cnty', 'event_date', 'time_precision', 'disorder_type',\n",
       "       'event_type', 'sub_event_type', 'actor1', 'inter1', 'interaction',\n",
       "       'region', 'country', 'location', 'geo_precision', 'source',\n",
       "       'source_scale', 'fatalities', 'event_Year', 'event_Month'],\n",
       "      dtype='object')"
      ]
     },
     "execution_count": 91,
     "metadata": {},
     "output_type": "execute_result"
    }
   ],
   "source": [
    "conflict.columns"
   ]
  },
  {
   "cell_type": "code",
   "execution_count": 92,
   "metadata": {},
   "outputs": [
    {
     "data": {
      "image/png": "[encoded data removed]",
      "text/plain": [
       "<Figure size 1008x2520 with 3 Axes>"
      ]
     },
     "metadata": {
      "needs_background": "light"
     },
     "output_type": "display_data"
    }
   ],
   "source": [
    "# Plan: (column to plot, hue, plot title)\n",
    "plot_plan = [\n",
    "    ('region', 'event_type', 'Distribution of Region by Event Type'),\n",
    "    ('country', 'event_type', 'Distribution of Country by Event Type'),\n",
    "    ('region', 'disorder_type', 'Distribution of Region by Disorder Type')\n",
    "]\n",
    "\n",
    "# Create the figure with len(plot_plan) subplots vertically\n",
    "fig, axes = plt.subplots(len(plot_plan), 1, figsize=(14, 35))\n",
    "fig.suptitle('Geographic Distribution of Events', fontsize=18)\n",
    "\n",
    "# If only one plot, ensure axes is iterable\n",
    "if len(plot_plan) == 1:\n",
    "    axes = [axes]\n",
    "\n",
    "# Loop through the plot plan\n",
    "for i, (col, hue_col, title) in enumerate(plot_plan):\n",
    "    sns.countplot(\n",
    "        y=conflict[col],\n",
    "        hue=conflict[hue_col],\n",
    "        palette=\"viridis\",\n",
    "        order=conflict[col].value_counts().index[:10],  # Optional: Top 10 for readability\n",
    "        ax=axes[i],\n",
    "        data=conflict\n",
    "    )\n",
    "    axes[i].set_title(title, fontsize=14)\n",
    "    axes[i].set_xlabel('Count')\n",
    "    axes[i].set_ylabel(col)\n",
    "\n",
    "plt.tight_layout(rect=[0, 0, 1, 0.95])\n",
    "plt.show()"
   ]
  },
  {
   "cell_type": "markdown",
   "metadata": {},
   "source": [
    "2. BIVARIATE DATA ANALAYSIS\n",
    "\n",
    "Bivariate analysis is a statistical technique used to describe the relationship between two variables. It is often used to identify patterns, trends, and correlations"
   ]
  },
  {
   "cell_type": "code",
   "execution_count": 95,
   "metadata": {},
   "outputs": [
    {
     "data": {
      "image/png": "[encoded data removed]",
      "text/plain": [
       "<Figure size 720x720 with 14 Axes>"
      ]
     },
     "metadata": {
      "needs_background": "light"
     },
     "output_type": "display_data"
    }
   ],
   "source": [
    "# Selecting numerical columns for pairplot\n",
    "num_cols = ['time_precision', 'geo_precision', 'event_Year', 'fatalities',]\n",
    "\n",
    "# Pairplot with KDE diagonal and corner=True to avoid duplicate plots\n",
    "sns.pairplot(conflict[num_cols], diag_kind='kde', corner=True)\n",
    "\n",
    "# Show the plot\n",
    "plt.show()"
   ]
  },
  {
   "cell_type": "code",
   "execution_count": 96,
   "metadata": {},
   "outputs": [
    {
     "name": "stdout",
     "output_type": "stream",
     "text": [
      "               fatalities  geo_precision  event_Year\n",
      "fatalities       1.000000       0.026786   -0.099998\n",
      "geo_precision    0.026786       1.000000   -0.029653\n",
      "event_Year      -0.099998      -0.029653    1.000000\n"
     ]
    },
    {
     "data": {
      "text/plain": [
       "<Figure size 576x432 with 0 Axes>"
      ]
     },
     "metadata": {},
     "output_type": "display_data"
    },
    {
     "data": {
      "image/png": "[encoded data removed]",
      "text/plain": [
       "<Figure size 288x288 with 2 Axes>"
      ]
     },
     "metadata": {
      "needs_background": "light"
     },
     "output_type": "display_data"
    }
   ],
   "source": [
    "# Correlation between fatalities and event_Year\n",
    "\n",
    "correlation = conflict[['fatalities', 'geo_precision', 'event_Year']].corr()\n",
    "print(correlation)\n",
    "\n",
    "# Plotting the correlation matrix\n",
    "plt.figure(figsize=(8, 6))\n",
    "plt.matshow(correlation, cmap='coolwarm')\n",
    "plt.colorbar()\n",
    "plt.xticks(range(len(correlation.columns)), correlation.columns, rotation=45)\n",
    "plt.yticks(range(len(correlation.columns)), correlation.columns)\n",
    "plt.title('Correlation Matrix of Fatalities and Event Year')\n",
    "plt.show()"
   ]
  },
  {
   "cell_type": "code",
   "execution_count": 97,
   "metadata": {},
   "outputs": [
    {
     "name": "stdout",
     "output_type": "stream",
     "text": [
      "region                      Eastern Africa  Middle Africa  Northern Africa  \\\n",
      "event_type                                                                   \n",
      "Battles                              45041          22451            16501   \n",
      "Explosions/Remote violence           12149           1469            11346   \n",
      "Protests                             16181           5705            40945   \n",
      "Riots                                11983           4244             6238   \n",
      "Strategic developments               10766           9709             6424   \n",
      "Violence against civilians           33174          21453            12506   \n",
      "\n",
      "region                      Southern Africa  Western Africa  \n",
      "event_type                                                   \n",
      "Battles                                 392           21171  \n",
      "Explosions/Remote violence              105            6236  \n",
      "Protests                              15063           17099  \n",
      "Riots                                 10585            9687  \n",
      "Strategic developments                  788           11297  \n",
      "Violence against civilians             6376           26863  \n"
     ]
    },
    {
     "data": {
      "image/png": "[encoded data removed]",
      "text/plain": [
       "<Figure size 432x288 with 1 Axes>"
      ]
     },
     "metadata": {
      "needs_background": "light"
     },
     "output_type": "display_data"
    }
   ],
   "source": [
    "# Cross-tabulation of event_type and region\n",
    "crosstab = pd.crosstab(conflict['event_type'], conflict['region'])\n",
    "print(crosstab)\n",
    "\n",
    "# Plotting the cross-tabulation\n",
    "crosstab.plot(kind='bar', stacked=True)\n",
    "plt.title('Cross-tabulation of Event Type and Region')\n",
    "plt.xlabel('Event Type')\n",
    "plt.ylabel('Frequency')\n",
    "plt.legend(title='Region')\n",
    "plt.show()"
   ]
  },
  {
   "cell_type": "code",
   "execution_count": null,
   "metadata": {},
   "outputs": [
    {
     "name": "stdout",
     "output_type": "stream",
     "text": [
      "event_type                                    Battles  \\\n",
      "country                                                 \n",
      "Algeria                                          1606   \n",
      "Angola                                           2130   \n",
      "Benin                                             217   \n",
      "Botswana                                            1   \n",
      "Burkina Faso                                     2834   \n",
      "Burundi                                          2057   \n",
      "Cameroon                                         4586   \n",
      "Cape Verde                                          2   \n",
      "Central African Republic                         2154   \n",
      "Chad                                              671   \n",
      "Comoros                                             1   \n",
      "Democratic Republic of Congo                    12695   \n",
      "Djibouti                                           33   \n",
      "Egypt                                            2063   \n",
      "Equatorial Guinea                                   9   \n",
      "Eritrea                                           184   \n",
      "Ethiopia                                         6611   \n",
      "Gabon                                              10   \n",
      "Gambia                                             25   \n",
      "Ghana                                             249   \n",
      "Guinea                                            251   \n",
      "Guinea-Bissau                                     105   \n",
      "Ivory Coast                                       617   \n",
      "Kenya                                            2063   \n",
      "Lesotho                                            27   \n",
      "Liberia                                           589   \n",
      "Libya                                            3651   \n",
      "Madagascar                                       1140   \n",
      "Malawi                                              8   \n",
      "Mali                                             3204   \n",
      "Mauritania                                         39   \n",
      "Mauritius                                           0   \n",
      "Mayotte                                             2   \n",
      "Morocco                                            33   \n",
      "Mozambique                                        856   \n",
      "Namibia                                            51   \n",
      "Niger                                             987   \n",
      "Nigeria                                         10732   \n",
      "Republic of Congo                                 195   \n",
      "Reunion                                             0   \n",
      "Rwanda                                            180   \n",
      "Saint Helena, Ascension and Tristan da Cunha        0   \n",
      "Sao Tome and Principe                               1   \n",
      "Senegal                                           262   \n",
      "Seychelles                                          0   \n",
      "Sierra Leone                                     1002   \n",
      "Somalia                                         24034   \n",
      "South Africa                                      146   \n",
      "South Sudan                                      5691   \n",
      "Sudan                                            8840   \n",
      "Tanzania                                           91   \n",
      "Togo                                               56   \n",
      "Tunisia                                           308   \n",
      "Uganda                                           2090   \n",
      "Zambia                                             39   \n",
      "Zimbabwe                                          101   \n",
      "eSwatini                                           27   \n",
      "\n",
      "event_type                                    Violence against civilians  \\\n",
      "country                                                                    \n",
      "Algeria                                                              625   \n",
      "Angola                                                               663   \n",
      "Benin                                                                543   \n",
      "Botswana                                                              18   \n",
      "Burkina Faso                                                        3221   \n",
      "Burundi                                                             5736   \n",
      "Cameroon                                                            6404   \n",
      "Cape Verde                                                             4   \n",
      "Central African Republic                                            3102   \n",
      "Chad                                                                 496   \n",
      "Comoros                                                               24   \n",
      "Democratic Republic of Congo                                       10605   \n",
      "Djibouti                                                              38   \n",
      "Egypt                                                               1153   \n",
      "Equatorial Guinea                                                     33   \n",
      "Eritrea                                                               65   \n",
      "Ethiopia                                                            3140   \n",
      "Gabon                                                                 35   \n",
      "Gambia                                                                63   \n",
      "Ghana                                                                480   \n",
      "Guinea                                                               331   \n",
      "Guinea-Bissau                                                         49   \n",
      "Ivory Coast                                                          539   \n",
      "Kenya                                                               3024   \n",
      "Lesotho                                                               77   \n",
      "Liberia                                                              275   \n",
      "Libya                                                               1640   \n",
      "Madagascar                                                           883   \n",
      "Malawi                                                               131   \n",
      "Mali                                                                3967   \n",
      "Mauritania                                                            43   \n",
      "Mauritius                                                             42   \n",
      "Mayotte                                                                3   \n",
      "Morocco                                                              152   \n",
      "Mozambique                                                          1749   \n",
      "Namibia                                                              111   \n",
      "Niger                                                               1662   \n",
      "Nigeria                                                            14184   \n",
      "Republic of Congo                                                    112   \n",
      "Reunion                                                                4   \n",
      "Rwanda                                                               461   \n",
      "Saint Helena, Ascension and Tristan da Cunha                           0   \n",
      "Sao Tome and Principe                                                  3   \n",
      "Senegal                                                              207   \n",
      "Seychelles                                                             0   \n",
      "Sierra Leone                                                        1198   \n",
      "Somalia                                                             8583   \n",
      "South Africa                                                        1536   \n",
      "South Sudan                                                         6170   \n",
      "Sudan                                                               8753   \n",
      "Tanzania                                                             399   \n",
      "Togo                                                                  97   \n",
      "Tunisia                                                              183   \n",
      "Uganda                                                              2722   \n",
      "Zambia                                                               300   \n",
      "Zimbabwe                                                            4181   \n",
      "eSwatini                                                             153   \n",
      "\n",
      "event_type                                    Protests  Riots  \\\n",
      "country                                                         \n",
      "Algeria                                           8489   1039   \n",
      "Angola                                             634    249   \n",
      "Benin                                              187    366   \n",
      "Botswana                                            71     55   \n",
      "Burkina Faso                                      1315    454   \n",
      "Burundi                                            695    657   \n",
      "Cameroon                                           600    584   \n",
      "Cape Verde                                         254      7   \n",
      "Central African Republic                           464    422   \n",
      "Chad                                               369    172   \n",
      "Comoros                                             93     45   \n",
      "Democratic Republic of Congo                      3201   2640   \n",
      "Djibouti                                            83     24   \n",
      "Egypt                                             4188   1833   \n",
      "Equatorial Guinea                                   15      4   \n",
      "Eritrea                                              9      5   \n",
      "Ethiopia                                          2573    577   \n",
      "Gabon                                              310    107   \n",
      "Gambia                                              92     77   \n",
      "Ghana                                              860    951   \n",
      "Guinea                                            1005   1233   \n",
      "Guinea-Bissau                                      131     30   \n",
      "Ivory Coast                                        781    969   \n",
      "Kenya                                             5369   4796   \n",
      "Lesotho                                             73     51   \n",
      "Liberia                                            466    332   \n",
      "Libya                                             1699    328   \n",
      "Madagascar                                         701    883   \n",
      "Malawi                                             606    798   \n",
      "Mali                                               757    327   \n",
      "Mauritania                                        1765    125   \n",
      "Mauritius                                          442     85   \n",
      "Mayotte                                            172    166   \n",
      "Morocco                                          12251    404   \n",
      "Mozambique                                         587    691   \n",
      "Namibia                                            892    102   \n",
      "Niger                                              245    167   \n",
      "Nigeria                                           7958   3625   \n",
      "Republic of Congo                                   86     57   \n",
      "Reunion                                            548     68   \n",
      "Rwanda                                              65     18   \n",
      "Saint Helena, Ascension and Tristan da Cunha         2      0   \n",
      "Sao Tome and Principe                               26      9   \n",
      "Senegal                                            874    597   \n",
      "Seychelles                                          15      1   \n",
      "Sierra Leone                                       156    300   \n",
      "Somalia                                           1988    617   \n",
      "South Africa                                     12140   8592   \n",
      "South Sudan                                        432    311   \n",
      "Sudan                                             5947    742   \n",
      "Tanzania                                           225    289   \n",
      "Togo                                               253    127   \n",
      "Tunisia                                           8371   1892   \n",
      "Uganda                                            1578   1952   \n",
      "Zambia                                             465    650   \n",
      "Zimbabwe                                          1093    912   \n",
      "eSwatini                                           327    223   \n",
      "\n",
      "event_type                                    Strategic developments  \\\n",
      "country                                                                \n",
      "Algeria                                                          336   \n",
      "Angola                                                           276   \n",
      "Benin                                                            297   \n",
      "Botswana                                                           4   \n",
      "Burkina Faso                                                    2432   \n",
      "Burundi                                                         1059   \n",
      "Cameroon                                                        3546   \n",
      "Cape Verde                                                         6   \n",
      "Central African Republic                                        1354   \n",
      "Chad                                                             182   \n",
      "Comoros                                                           28   \n",
      "Democratic Republic of Congo                                    4223   \n",
      "Djibouti                                                          27   \n",
      "Egypt                                                            701   \n",
      "Equatorial Guinea                                                 16   \n",
      "Eritrea                                                           74   \n",
      "Ethiopia                                                        1137   \n",
      "Gabon                                                             46   \n",
      "Gambia                                                            38   \n",
      "Ghana                                                            135   \n",
      "Guinea                                                           155   \n",
      "Guinea-Bissau                                                     48   \n",
      "Ivory Coast                                                      147   \n",
      "Kenya                                                           1084   \n",
      "Lesotho                                                           21   \n",
      "Liberia                                                           62   \n",
      "Libya                                                            930   \n",
      "Madagascar                                                       450   \n",
      "Malawi                                                            42   \n",
      "Mali                                                            2136   \n",
      "Mauritania                                                        46   \n",
      "Mauritius                                                         11   \n",
      "Mayotte                                                            8   \n",
      "Morocco                                                          127   \n",
      "Mozambique                                                       775   \n",
      "Namibia                                                           15   \n",
      "Niger                                                           1327   \n",
      "Nigeria                                                         1986   \n",
      "Republic of Congo                                                 63   \n",
      "Reunion                                                            5   \n",
      "Rwanda                                                            61   \n",
      "Saint Helena, Ascension and Tristan da Cunha                       0   \n",
      "Sao Tome and Principe                                              3   \n",
      "Senegal                                                          129   \n",
      "Seychelles                                                         3   \n",
      "Sierra Leone                                                    2306   \n",
      "Somalia                                                         3665   \n",
      "South Africa                                                     200   \n",
      "South Sudan                                                     1498   \n",
      "Sudan                                                           4107   \n",
      "Tanzania                                                         124   \n",
      "Togo                                                              47   \n",
      "Tunisia                                                          223   \n",
      "Uganda                                                           715   \n",
      "Zambia                                                            84   \n",
      "Zimbabwe                                                         401   \n",
      "eSwatini                                                          63   \n",
      "\n",
      "event_type                                    Explosions/Remote violence  \n",
      "country                                                                   \n",
      "Algeria                                                              617  \n",
      "Angola                                                                91  \n",
      "Benin                                                                 38  \n",
      "Botswana                                                               0  \n",
      "Burkina Faso                                                        1823  \n",
      "Burundi                                                              664  \n",
      "Cameroon                                                             528  \n",
      "Cape Verde                                                             0  \n",
      "Central African Republic                                             142  \n",
      "Chad                                                                  90  \n",
      "Comoros                                                                2  \n",
      "Democratic Republic of Congo                                         597  \n",
      "Djibouti                                                              14  \n",
      "Egypt                                                               1863  \n",
      "Equatorial Guinea                                                      0  \n",
      "Eritrea                                                               71  \n",
      "Ethiopia                                                             561  \n",
      "Gabon                                                                  0  \n",
      "Gambia                                                                 4  \n",
      "Ghana                                                                  0  \n",
      "Guinea                                                                13  \n",
      "Guinea-Bissau                                                         12  \n",
      "Ivory Coast                                                           33  \n",
      "Kenya                                                                357  \n",
      "Lesotho                                                                0  \n",
      "Liberia                                                                1  \n",
      "Libya                                                               3650  \n",
      "Madagascar                                                            53  \n",
      "Malawi                                                                 3  \n",
      "Mali                                                                1911  \n",
      "Mauritania                                                             9  \n",
      "Mauritius                                                              0  \n",
      "Mayotte                                                                1  \n",
      "Morocco                                                               92  \n",
      "Mozambique                                                           103  \n",
      "Namibia                                                               17  \n",
      "Niger                                                                315  \n",
      "Nigeria                                                             1995  \n",
      "Republic of Congo                                                     21  \n",
      "Reunion                                                                0  \n",
      "Rwanda                                                                68  \n",
      "Saint Helena, Ascension and Tristan da Cunha                           0  \n",
      "Sao Tome and Principe                                                  0  \n",
      "Senegal                                                               45  \n",
      "Seychelles                                                             0  \n",
      "Sierra Leone                                                          20  \n",
      "Somalia                                                             9764  \n",
      "South Africa                                                          48  \n",
      "South Sudan                                                          320  \n",
      "Sudan                                                               4898  \n",
      "Tanzania                                                              42  \n",
      "Togo                                                                  17  \n",
      "Tunisia                                                              226  \n",
      "Uganda                                                               126  \n",
      "Zambia                                                                 6  \n",
      "Zimbabwe                                                              22  \n",
      "eSwatini                                                              12  \n"
     ]
    },
    {
     "data": {
      "image/png": "[encoded data removed]",
      "text/plain": [
       "<Figure size 432x288 with 1 Axes>"
      ]
     },
     "metadata": {
      "needs_background": "light"
     },
     "output_type": "display_data"
    }
   ],
   "source": [
    "\n",
    "\n",
    "# Cross-tabulation of event_type and country\n",
    "crosstab = pd.crosstab(conflict['country'], conflict['event_type'])\n",
    "\n",
    "# Select the top 20 countries based on the sum of events\n",
    "top_20_countries = crosstab.sum().nlargest(10).index\n",
    "\n",
    "# Filter the cross-tabulation to include only the top 20 countries\n",
    "crosstab_top_20 = crosstab[top_20_countries]\n",
    "\n",
    "print(crosstab_top_20)\n",
    "crosstab_top_20.plot(kind='bar', stacked=True)\n",
    "plt.title('Cross-tabulation of Event Type and Top 20 Countries')\n",
    "plt.xlabel('Country')\n",
    "plt.ylabel('Frequency')\n",
    "plt.legend(title='event Type')\n",
    "plt.show()"
   ]
  },
  {
   "cell_type": "code",
   "execution_count": 77,
   "metadata": {},
   "outputs": [
    {
     "data": {
      "image/png": "[encoded data removed]",
      "text/plain": [
       "<Figure size 432x288 with 1 Axes>"
      ]
     },
     "metadata": {
      "needs_background": "light"
     },
     "output_type": "display_data"
    }
   ],
   "source": [
    "conflict.plot.scatter(x='geo_precision', y='fatalities')\n",
    "plt.title('Scatter plot of Fatalities vs Geo Precision')\n",
    "plt.show()"
   ]
  },
  {
   "cell_type": "code",
   "execution_count": 78,
   "metadata": {},
   "outputs": [
    {
     "data": {
      "image/png": "[encoded data removed]",
      "text/plain": [
       "<Figure size 432x288 with 1 Axes>"
      ]
     },
     "metadata": {
      "needs_background": "light"
     },
     "output_type": "display_data"
    }
   ],
   "source": [
    "conflict.boxplot(column='fatalities', by='event_type')\n",
    "plt.title('Box plot of Fatalities by Event Type')\n",
    "plt.suptitle('')  # Suppress the default title to avoid overlap\n",
    "plt.show()"
   ]
  },
  {
   "cell_type": "markdown",
   "metadata": {},
   "source": [
    "# **Hypothesis Testing**\n",
    "\n",
    "**a. Event Type vs. Fatalities (ANOVA)**\n",
    "\n",
    "Null Hypothesis (H₀): The average number of fatalities does not significantly differ across different event types.\n",
    "\n",
    "Alternative Hypothesis (H₁): Some event types are associated with significantly higher or lower fatalities."
   ]
  },
  {
   "cell_type": "code",
   "execution_count": 99,
   "metadata": {},
   "outputs": [
    {
     "name": "stdout",
     "output_type": "stream",
     "text": [
      "ANOVA Test Statistic: 738.4269\n",
      "P-value: 0.0000\n",
      "Reject the null hypothesis: Fatalities significantly differ across event types.\n"
     ]
    }
   ],
   "source": [
    "# Create a subset for this hypothesis test\n",
    "import scipy.stats as stats\n",
    "\n",
    "df_hypothesis1 = conflict[['event_type', 'fatalities']]\n",
    "# Perform ANOVA test\n",
    "event_groups = [group['fatalities'].values for _, group in df_hypothesis1.groupby('event_type')]\n",
    "anova_stat, p_value = stats.f_oneway(*event_groups)\n",
    "# Print the results\n",
    "print(f\"ANOVA Test Statistic: {anova_stat:.4f}\")\n",
    "print(f\"P-value: {p_value:.4f}\")\n",
    "# Interpretation\n",
    "alpha = 0.05\n",
    "if p_value < alpha:\n",
    "    print(\"Reject the null hypothesis: Fatalities significantly differ across event types.\")\n",
    "else:\n",
    "    print(\"Fail to reject the null hypothesis: No significant difference in fatalities across event types.\")"
   ]
  },
  {
   "cell_type": "markdown",
   "metadata": {},
   "source": [
    "**b. Region vs. Conflict Frequency (Chi-Square Test)**\n",
    "\n",
    "H₀: There is no significant difference in conflict frequency across regions.\n",
    "\n",
    "H₁: Certain regions experience significantly more or fewer conflicts than expected."
   ]
  },
  {
   "cell_type": "code",
   "execution_count": 100,
   "metadata": {},
   "outputs": [
    {
     "name": "stdout",
     "output_type": "stream",
     "text": [
      "Chi-Square Statistic: 92586.9160\n",
      "P-value: 0.0000\n",
      "Reject the null hypothesis: There is a significant difference in conflict frequency across regions.\n"
     ]
    }
   ],
   "source": [
    "from scipy.stats import chi2_contingency\n",
    "\n",
    "# Group by 'region' and 'event_type' to count occurrences of each event type by region\n",
    "region_event_counts = conflict.groupby(['region', 'event_type']).size().unstack(fill_value=0)\n",
    "\n",
    "# Run Chi-Square test\n",
    "chi2_stat, p_val, dof, expected = chi2_contingency(region_event_counts)\n",
    "\n",
    "# # Print results\n",
    "print(f\"Chi-Square Statistic: {chi2_stat:.4f}\")\n",
    "print(f\"P-value: {p_val:.4f}\")\n",
    "\n",
    "# Interpret results\n",
    "if p_val < 0.05:\n",
    "    print(\"Reject the null hypothesis: There is a significant difference in conflict frequency across regions.\")\n",
    "else:\n",
    "    print(\"Fail to reject the null hypothesis: Conflict occurrence is independent of the region.\")"
   ]
  },
  {
   "cell_type": "markdown",
   "metadata": {},
   "source": [
    "**c. Interaction Type vs. Fatalities (ANOVA)**\n",
    "\n",
    "H₀: The number of fatalities does not significantly vary based on the type of interactions (e.g., state vs. rebel group).\n",
    "\n",
    "H₁: Certain interaction types result in significantly higher or lower fatalities."
   ]
  },
  {
   "cell_type": "code",
   "execution_count": 101,
   "metadata": {},
   "outputs": [
    {
     "name": "stdout",
     "output_type": "stream",
     "text": [
      "ANOVA Test Statistic: 204.6136\n",
      "P-value: 0.0000\n",
      "Reject the null hypothesis: Fatalities significantly differ based on interaction type.\n"
     ]
    }
   ],
   "source": [
    "# Ensure the dataset contains only relevant columns and no missing values\n",
    "df_anova = conflict[['interaction', 'fatalities']]\n",
    "# Performing ANOVA test\n",
    "interaction_groups = [group['fatalities'].values for _, group in df_anova.groupby('interaction')]\n",
    "anova_stat, p_value = stats.f_oneway(*interaction_groups)\n",
    "# Print results\n",
    "print(f\"ANOVA Test Statistic: {anova_stat:.4f}\")\n",
    "print(f\"P-value: {p_value:.4f}\")\n",
    "# Interpretation\n",
    "if p_value < 0.05:\n",
    "    print(\"Reject the null hypothesis: Fatalities significantly differ based on interaction type.\")\n",
    "else:\n",
    "    print(\"Fail to reject the null hypothesis: No significant difference in fatalities across interaction types.\")"
   ]
  },
  {
   "cell_type": "markdown",
   "metadata": {},
   "source": [
    "# DATA PREPARATION\n",
    "\n",
    "**Feature Engineering**\n",
    "\n",
    "To develop a conflict occurrence prediction model, we needed a binary target variable indicating whether a conflict took place or not but the dataset does not have a binary target variable column, so we need to create one. We will use event type column"
   ]
  },
  {
   "cell_type": "code",
   "execution_count": 102,
   "metadata": {},
   "outputs": [
    {
     "data": {
      "text/plain": [
       "Battles                       105556\n",
       "Violence against civilians    100372\n",
       "Protests                       94993\n",
       "Riots                          42737\n",
       "Strategic developments         38984\n",
       "Explosions/Remote violence     31305\n",
       "Name: event_type, dtype: int64"
      ]
     },
     "execution_count": 102,
     "metadata": {},
     "output_type": "execute_result"
    }
   ],
   "source": [
    "\"\"\"\n",
    "We will analyze the value counts of the event_type column to determine which event types can \n",
    "be classified as conflict-related. Based on this assessment, we will create a binary target \n",
    "variable (conflict_occurred) to differentiate between conflict and non-conflict events, \n",
    "enabling us to build a predictive model\n",
    "\"\"\"\n",
    "# Check unique values in event_type\n",
    "conflict['event_type'].value_counts()"
   ]
  },
  {
   "cell_type": "code",
   "execution_count": 103,
   "metadata": {},
   "outputs": [
    {
     "data": {
      "text/plain": [
       "1    237233\n",
       "0    176714\n",
       "Name: conflict_occurred, dtype: int64"
      ]
     },
     "execution_count": 103,
     "metadata": {},
     "output_type": "execute_result"
    }
   ],
   "source": [
    "# Define conflict event types\n",
    "conflict_events = ['Battles', 'Violence against civilians', 'Explosions/Remote violence']\n",
    "# Create conflict occurrence column \n",
    "conflict['conflict_occurred'] = conflict['event_type'].isin(conflict_events).astype(int)\n",
    "# Check the distribution\n",
    "conflict['conflict_occurred'].value_counts()"
   ]
  },
  {
   "cell_type": "code",
   "execution_count": 104,
   "metadata": {},
   "outputs": [
    {
     "name": "stdout",
     "output_type": "stream",
     "text": [
      "            Variable        VIF\n",
      "3         event_Year  14.192430\n",
      "0     time_precision   9.568855\n",
      "1      geo_precision   8.258809\n",
      "4  conflict_occurred   2.445594\n",
      "2         fatalities   1.016839\n"
     ]
    }
   ],
   "source": [
    "# Select only numerical columns from df_modified\n",
    "\n",
    "from statsmodels.stats.outliers_influence import variance_inflation_factor\n",
    "num_col = conflict.select_dtypes(include=[np.number])\n",
    "\n",
    "# Ensure num_col is a DataFrame\n",
    "num_col = num_col.copy()\n",
    "\n",
    "# Calculate VIF\n",
    "vif_data = pd.DataFrame()\n",
    "vif_data[\"Variable\"] = list(num_col)\n",
    "vif_data[\"VIF\"] = [variance_inflation_factor(num_col.values, i) for i in range(num_col.shape[1])]\n",
    "vif_data = vif_data.sort_values(by='VIF', ascending=False)\n",
    "\n",
    "print(vif_data)"
   ]
  },
  {
   "cell_type": "code",
   "execution_count": 105,
   "metadata": {},
   "outputs": [
    {
     "data": {
      "text/plain": [
       "Index(['time_precision', 'geo_precision', 'fatalities', 'event_Year'], dtype='object')"
      ]
     },
     "metadata": {},
     "output_type": "display_data"
    },
    {
     "data": {
      "text/plain": [
       "Index(['event_id_cnty', 'event_date', 'disorder_type', 'event_type',\n",
       "       'sub_event_type', 'actor1', 'inter1', 'interaction', 'region',\n",
       "       'country', 'location', 'source', 'source_scale', 'event_Month'],\n",
       "      dtype='object')"
      ]
     },
     "metadata": {},
     "output_type": "display_data"
    }
   ],
   "source": [
    "# spliting data according to the data type\n",
    "## assign data types variable names \n",
    "num_col = conflict.select_dtypes(include=['int64', 'float64']).columns\n",
    "cat_col = conflict.select_dtypes(include=['object', 'bool']).columns\n",
    "# display the columns\n",
    "display(num_col)\n",
    "display(cat_col)"
   ]
  },
  {
   "cell_type": "code",
   "execution_count": 107,
   "metadata": {},
   "outputs": [
    {
     "ename": "MemoryError",
     "evalue": "Unable to allocate 160. GiB for an array with shape (413947, 413947) and data type uint8",
     "output_type": "error",
     "traceback": [
      "\u001b[1;31m---------------------------------------------------------------------------\u001b[0m",
      "\u001b[1;31mMemoryError\u001b[0m                               Traceback (most recent call last)",
      "\u001b[1;32m<ipython-input-107-66ee0875e6c5>\u001b[0m in \u001b[0;36m<module>\u001b[1;34m\u001b[0m\n\u001b[0;32m      3\u001b[0m \u001b[1;33m\u001b[0m\u001b[0m\n\u001b[0;32m      4\u001b[0m \u001b[1;31m# One-hot encode categorical variables & convert boolean to int\u001b[0m\u001b[1;33m\u001b[0m\u001b[1;33m\u001b[0m\u001b[1;33m\u001b[0m\u001b[0m\n\u001b[1;32m----> 5\u001b[1;33m \u001b[0mconflict\u001b[0m \u001b[1;33m=\u001b[0m \u001b[0mpd\u001b[0m\u001b[1;33m.\u001b[0m\u001b[0mget_dummies\u001b[0m\u001b[1;33m(\u001b[0m\u001b[0mconflict\u001b[0m\u001b[1;33m,\u001b[0m \u001b[0mcolumns\u001b[0m\u001b[1;33m=\u001b[0m\u001b[0mcat_col\u001b[0m\u001b[1;33m,\u001b[0m \u001b[0mdrop_first\u001b[0m\u001b[1;33m=\u001b[0m\u001b[1;32mTrue\u001b[0m\u001b[1;33m)\u001b[0m\u001b[1;33m.\u001b[0m\u001b[0mastype\u001b[0m\u001b[1;33m(\u001b[0m\u001b[0mint\u001b[0m\u001b[1;33m)\u001b[0m\u001b[1;33m\u001b[0m\u001b[1;33m\u001b[0m\u001b[0m\n\u001b[0m\u001b[0;32m      6\u001b[0m \u001b[1;33m\u001b[0m\u001b[0m\n\u001b[0;32m      7\u001b[0m \u001b[1;31m# Rename columns to remove duplicate \"_True\"\u001b[0m\u001b[1;33m\u001b[0m\u001b[1;33m\u001b[0m\u001b[1;33m\u001b[0m\u001b[0m\n",
      "\u001b[1;32mc:\\Users\\colleta.kiilu\\AppData\\Local\\anaconda3\\envs\\learn-env\\lib\\site-packages\\pandas\\core\\reshape\\reshape.py\u001b[0m in \u001b[0;36mget_dummies\u001b[1;34m(data, prefix, prefix_sep, dummy_na, columns, sparse, drop_first, dtype)\u001b[0m\n\u001b[0;32m    887\u001b[0m         \u001b[1;32mfor\u001b[0m \u001b[1;33m(\u001b[0m\u001b[0mcol\u001b[0m\u001b[1;33m,\u001b[0m \u001b[0mpre\u001b[0m\u001b[1;33m,\u001b[0m \u001b[0msep\u001b[0m\u001b[1;33m)\u001b[0m \u001b[1;32min\u001b[0m \u001b[0mzip\u001b[0m\u001b[1;33m(\u001b[0m\u001b[0mdata_to_encode\u001b[0m\u001b[1;33m.\u001b[0m\u001b[0mitems\u001b[0m\u001b[1;33m(\u001b[0m\u001b[1;33m)\u001b[0m\u001b[1;33m,\u001b[0m \u001b[0mprefix\u001b[0m\u001b[1;33m,\u001b[0m \u001b[0mprefix_sep\u001b[0m\u001b[1;33m)\u001b[0m\u001b[1;33m:\u001b[0m\u001b[1;33m\u001b[0m\u001b[1;33m\u001b[0m\u001b[0m\n\u001b[0;32m    888\u001b[0m             \u001b[1;31m# col is (column_name, column), use just column data here\u001b[0m\u001b[1;33m\u001b[0m\u001b[1;33m\u001b[0m\u001b[1;33m\u001b[0m\u001b[0m\n\u001b[1;32m--> 889\u001b[1;33m             dummy = _get_dummies_1d(\n\u001b[0m\u001b[0;32m    890\u001b[0m                 \u001b[0mcol\u001b[0m\u001b[1;33m[\u001b[0m\u001b[1;36m1\u001b[0m\u001b[1;33m]\u001b[0m\u001b[1;33m,\u001b[0m\u001b[1;33m\u001b[0m\u001b[1;33m\u001b[0m\u001b[0m\n\u001b[0;32m    891\u001b[0m                 \u001b[0mprefix\u001b[0m\u001b[1;33m=\u001b[0m\u001b[0mpre\u001b[0m\u001b[1;33m,\u001b[0m\u001b[1;33m\u001b[0m\u001b[1;33m\u001b[0m\u001b[0m\n",
      "\u001b[1;32mc:\\Users\\colleta.kiilu\\AppData\\Local\\anaconda3\\envs\\learn-env\\lib\\site-packages\\pandas\\core\\reshape\\reshape.py\u001b[0m in \u001b[0;36m_get_dummies_1d\u001b[1;34m(data, prefix, prefix_sep, dummy_na, sparse, drop_first, dtype)\u001b[0m\n\u001b[0;32m   1003\u001b[0m \u001b[1;33m\u001b[0m\u001b[0m\n\u001b[0;32m   1004\u001b[0m     \u001b[1;32melse\u001b[0m\u001b[1;33m:\u001b[0m\u001b[1;33m\u001b[0m\u001b[1;33m\u001b[0m\u001b[0m\n\u001b[1;32m-> 1005\u001b[1;33m         \u001b[0mdummy_mat\u001b[0m \u001b[1;33m=\u001b[0m \u001b[0mnp\u001b[0m\u001b[1;33m.\u001b[0m\u001b[0meye\u001b[0m\u001b[1;33m(\u001b[0m\u001b[0mnumber_of_cols\u001b[0m\u001b[1;33m,\u001b[0m \u001b[0mdtype\u001b[0m\u001b[1;33m=\u001b[0m\u001b[0mdtype\u001b[0m\u001b[1;33m)\u001b[0m\u001b[1;33m.\u001b[0m\u001b[0mtake\u001b[0m\u001b[1;33m(\u001b[0m\u001b[0mcodes\u001b[0m\u001b[1;33m,\u001b[0m \u001b[0maxis\u001b[0m\u001b[1;33m=\u001b[0m\u001b[1;36m0\u001b[0m\u001b[1;33m)\u001b[0m\u001b[1;33m\u001b[0m\u001b[1;33m\u001b[0m\u001b[0m\n\u001b[0m\u001b[0;32m   1006\u001b[0m \u001b[1;33m\u001b[0m\u001b[0m\n\u001b[0;32m   1007\u001b[0m         \u001b[1;32mif\u001b[0m \u001b[1;32mnot\u001b[0m \u001b[0mdummy_na\u001b[0m\u001b[1;33m:\u001b[0m\u001b[1;33m\u001b[0m\u001b[1;33m\u001b[0m\u001b[0m\n",
      "\u001b[1;32mc:\\Users\\colleta.kiilu\\AppData\\Local\\anaconda3\\envs\\learn-env\\lib\\site-packages\\numpy\\lib\\twodim_base.py\u001b[0m in \u001b[0;36meye\u001b[1;34m(N, M, k, dtype, order)\u001b[0m\n\u001b[0;32m    199\u001b[0m     \u001b[1;32mif\u001b[0m \u001b[0mM\u001b[0m \u001b[1;32mis\u001b[0m \u001b[1;32mNone\u001b[0m\u001b[1;33m:\u001b[0m\u001b[1;33m\u001b[0m\u001b[1;33m\u001b[0m\u001b[0m\n\u001b[0;32m    200\u001b[0m         \u001b[0mM\u001b[0m \u001b[1;33m=\u001b[0m \u001b[0mN\u001b[0m\u001b[1;33m\u001b[0m\u001b[1;33m\u001b[0m\u001b[0m\n\u001b[1;32m--> 201\u001b[1;33m     \u001b[0mm\u001b[0m \u001b[1;33m=\u001b[0m \u001b[0mzeros\u001b[0m\u001b[1;33m(\u001b[0m\u001b[1;33m(\u001b[0m\u001b[0mN\u001b[0m\u001b[1;33m,\u001b[0m \u001b[0mM\u001b[0m\u001b[1;33m)\u001b[0m\u001b[1;33m,\u001b[0m \u001b[0mdtype\u001b[0m\u001b[1;33m=\u001b[0m\u001b[0mdtype\u001b[0m\u001b[1;33m,\u001b[0m \u001b[0morder\u001b[0m\u001b[1;33m=\u001b[0m\u001b[0morder\u001b[0m\u001b[1;33m)\u001b[0m\u001b[1;33m\u001b[0m\u001b[1;33m\u001b[0m\u001b[0m\n\u001b[0m\u001b[0;32m    202\u001b[0m     \u001b[1;32mif\u001b[0m \u001b[0mk\u001b[0m \u001b[1;33m>=\u001b[0m \u001b[0mM\u001b[0m\u001b[1;33m:\u001b[0m\u001b[1;33m\u001b[0m\u001b[1;33m\u001b[0m\u001b[0m\n\u001b[0;32m    203\u001b[0m         \u001b[1;32mreturn\u001b[0m \u001b[0mm\u001b[0m\u001b[1;33m\u001b[0m\u001b[1;33m\u001b[0m\u001b[0m\n",
      "\u001b[1;31mMemoryError\u001b[0m: Unable to allocate 160. GiB for an array with shape (413947, 413947) and data type uint8"
     ]
    }
   ],
   "source": [
    "# Select categorical columns\n",
    "cat_col = conflict.select_dtypes(include=[\"object\", \"bool\"]).columns\n",
    "\n",
    "# One-hot encode categorical variables & convert boolean to int\n",
    "conflict = pd.get_dummies(conflict, columns=cat_col, drop_first=True).astype(int)\n",
    "\n",
    "# Rename columns to remove duplicate \"_True\"\n",
    "conflict.columns = conflict.columns.str.replace(r'_True_True$', '_True', regex=True)\n",
    "\n",
    "# Preview the cleaned dataframe\n",
    "conflict.head()"
   ]
  }
 ],
 "metadata": {
  "kernelspec": {
   "display_name": "learn-env",
   "language": "python",
   "name": "python3"
  },
  "language_info": {
   "codemirror_mode": {
    "name": "ipython",
    "version": 3
   },
   "file_extension": ".py",
   "mimetype": "text/x-python",
   "name": "python",
   "nbconvert_exporter": "python",
   "pygments_lexer": "ipython3",
   "version": "3.8.5"
  }
 },
 "nbformat": 4,
 "nbformat_minor": 2
}
