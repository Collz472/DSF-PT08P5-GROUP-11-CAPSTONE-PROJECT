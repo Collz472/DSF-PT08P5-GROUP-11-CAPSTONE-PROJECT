{
 "cells": [
  {
   "cell_type": "markdown",
   "metadata": {},
   "source": [
    "**2. DATA UNDERSTANDING**"
   ]
  },
  {
   "cell_type": "markdown",
   "metadata": {},
   "source": [
    "**a) Imported Relevant Modules**"
   ]
  },
  {
   "cell_type": "code",
   "execution_count": 60,
   "metadata": {},
   "outputs": [],
   "source": [
    "import pandas as pd\n",
    "import numpy as np\n",
    "import math\n",
    "import seaborn as sns\n",
    "import matplotlib.pyplot as plt\n",
    "%matplotlib inline\n",
    "\n",
    "from sklearn.preprocessing import LabelEncoder\n"
   ]
  },
  {
   "cell_type": "markdown",
   "metadata": {},
   "source": [
    "**b) Loading Dataset**"
   ]
  },
  {
   "cell_type": "code",
   "execution_count": 61,
   "metadata": {},
   "outputs": [
    {
     "data": {
      "text/html": [
       "<div>\n",
       "<style scoped>\n",
       "    .dataframe tbody tr th:only-of-type {\n",
       "        vertical-align: middle;\n",
       "    }\n",
       "\n",
       "    .dataframe tbody tr th {\n",
       "        vertical-align: top;\n",
       "    }\n",
       "\n",
       "    .dataframe thead th {\n",
       "        text-align: right;\n",
       "    }\n",
       "</style>\n",
       "<table border=\"1\" class=\"dataframe\">\n",
       "  <thead>\n",
       "    <tr style=\"text-align: right;\">\n",
       "      <th></th>\n",
       "      <th>event_id_cnty</th>\n",
       "      <th>event_date</th>\n",
       "      <th>year</th>\n",
       "      <th>time_precision</th>\n",
       "      <th>disorder_type</th>\n",
       "      <th>event_type</th>\n",
       "      <th>sub_event_type</th>\n",
       "      <th>actor1</th>\n",
       "      <th>assoc_actor_1</th>\n",
       "      <th>inter1</th>\n",
       "      <th>...</th>\n",
       "      <th>location</th>\n",
       "      <th>latitude</th>\n",
       "      <th>longitude</th>\n",
       "      <th>geo_precision</th>\n",
       "      <th>source</th>\n",
       "      <th>source_scale</th>\n",
       "      <th>notes</th>\n",
       "      <th>fatalities</th>\n",
       "      <th>tags</th>\n",
       "      <th>timestamp</th>\n",
       "    </tr>\n",
       "  </thead>\n",
       "  <tbody>\n",
       "    <tr>\n",
       "      <th>0</th>\n",
       "      <td>MLI33921</td>\n",
       "      <td>28/02/2025</td>\n",
       "      <td>2025</td>\n",
       "      <td>1</td>\n",
       "      <td>Political violence</td>\n",
       "      <td>Explosions/Remote violence</td>\n",
       "      <td>Remote explosive/landmine/IED</td>\n",
       "      <td>JNIM: Group for Support of Islam and Muslims</td>\n",
       "      <td>NaN</td>\n",
       "      <td>Rebel group</td>\n",
       "      <td>...</td>\n",
       "      <td>Ibdakan</td>\n",
       "      <td>18.9689</td>\n",
       "      <td>2.0041</td>\n",
       "      <td>2</td>\n",
       "      <td>Al Zallaqa</td>\n",
       "      <td>New media</td>\n",
       "      <td>On 28 February 2025, JNIM claimed to have targ...</td>\n",
       "      <td>0</td>\n",
       "      <td>NaN</td>\n",
       "      <td>1741039795</td>\n",
       "    </tr>\n",
       "    <tr>\n",
       "      <th>1</th>\n",
       "      <td>BFO13376</td>\n",
       "      <td>28/02/2025</td>\n",
       "      <td>2025</td>\n",
       "      <td>1</td>\n",
       "      <td>Political violence</td>\n",
       "      <td>Battles</td>\n",
       "      <td>Armed clash</td>\n",
       "      <td>JNIM: Group for Support of Islam and Muslims</td>\n",
       "      <td>NaN</td>\n",
       "      <td>Rebel group</td>\n",
       "      <td>...</td>\n",
       "      <td>Gnangdin</td>\n",
       "      <td>11.3693</td>\n",
       "      <td>-0.3600</td>\n",
       "      <td>1</td>\n",
       "      <td>Undisclosed Source</td>\n",
       "      <td>Local partner-Other</td>\n",
       "      <td>On 28 February 2025, an armed group (likely JN...</td>\n",
       "      <td>0</td>\n",
       "      <td>NaN</td>\n",
       "      <td>1741039795</td>\n",
       "    </tr>\n",
       "    <tr>\n",
       "      <th>2</th>\n",
       "      <td>MLI33922</td>\n",
       "      <td>28/02/2025</td>\n",
       "      <td>2025</td>\n",
       "      <td>1</td>\n",
       "      <td>Political violence</td>\n",
       "      <td>Violence against civilians</td>\n",
       "      <td>Attack</td>\n",
       "      <td>Military Forces of Mali (2021-)</td>\n",
       "      <td>Wagner Group</td>\n",
       "      <td>State forces</td>\n",
       "      <td>...</td>\n",
       "      <td>Eghacher-Sediden</td>\n",
       "      <td>18.5558</td>\n",
       "      <td>1.1113</td>\n",
       "      <td>1</td>\n",
       "      <td>Twitter</td>\n",
       "      <td>New media</td>\n",
       "      <td>On 28 February 2025, a FAMa and Wagner patrol ...</td>\n",
       "      <td>0</td>\n",
       "      <td>NaN</td>\n",
       "      <td>1741039795</td>\n",
       "    </tr>\n",
       "    <tr>\n",
       "      <th>3</th>\n",
       "      <td>GHA2795</td>\n",
       "      <td>28/02/2025</td>\n",
       "      <td>2025</td>\n",
       "      <td>1</td>\n",
       "      <td>Political violence</td>\n",
       "      <td>Violence against civilians</td>\n",
       "      <td>Attack</td>\n",
       "      <td>Land Guards</td>\n",
       "      <td>NaN</td>\n",
       "      <td>External/Other forces</td>\n",
       "      <td>...</td>\n",
       "      <td>Bibiani</td>\n",
       "      <td>6.4667</td>\n",
       "      <td>-2.3333</td>\n",
       "      <td>2</td>\n",
       "      <td>3 News</td>\n",
       "      <td>National</td>\n",
       "      <td>On 28 February 2025, a land guard shot a farme...</td>\n",
       "      <td>0</td>\n",
       "      <td>NaN</td>\n",
       "      <td>1741039795</td>\n",
       "    </tr>\n",
       "    <tr>\n",
       "      <th>4</th>\n",
       "      <td>GHA2800</td>\n",
       "      <td>28/02/2025</td>\n",
       "      <td>2025</td>\n",
       "      <td>1</td>\n",
       "      <td>Political violence</td>\n",
       "      <td>Riots</td>\n",
       "      <td>Mob violence</td>\n",
       "      <td>Rioters (Ghana)</td>\n",
       "      <td>NaN</td>\n",
       "      <td>Rioters</td>\n",
       "      <td>...</td>\n",
       "      <td>Accra</td>\n",
       "      <td>5.5560</td>\n",
       "      <td>-0.1969</td>\n",
       "      <td>3</td>\n",
       "      <td>Ghana Web</td>\n",
       "      <td>National</td>\n",
       "      <td>On 28 February 2025, citizens threw stones at ...</td>\n",
       "      <td>0</td>\n",
       "      <td>crowd size=no report</td>\n",
       "      <td>1741039795</td>\n",
       "    </tr>\n",
       "  </tbody>\n",
       "</table>\n",
       "<p>5 rows × 31 columns</p>\n",
       "</div>"
      ],
      "text/plain": [
       "  event_id_cnty  event_date  year  time_precision       disorder_type  \\\n",
       "0      MLI33921  28/02/2025  2025               1  Political violence   \n",
       "1      BFO13376  28/02/2025  2025               1  Political violence   \n",
       "2      MLI33922  28/02/2025  2025               1  Political violence   \n",
       "3       GHA2795  28/02/2025  2025               1  Political violence   \n",
       "4       GHA2800  28/02/2025  2025               1  Political violence   \n",
       "\n",
       "                   event_type                 sub_event_type  \\\n",
       "0  Explosions/Remote violence  Remote explosive/landmine/IED   \n",
       "1                     Battles                    Armed clash   \n",
       "2  Violence against civilians                         Attack   \n",
       "3  Violence against civilians                         Attack   \n",
       "4                       Riots                   Mob violence   \n",
       "\n",
       "                                         actor1 assoc_actor_1  \\\n",
       "0  JNIM: Group for Support of Islam and Muslims           NaN   \n",
       "1  JNIM: Group for Support of Islam and Muslims           NaN   \n",
       "2               Military Forces of Mali (2021-)  Wagner Group   \n",
       "3                                   Land Guards           NaN   \n",
       "4                               Rioters (Ghana)           NaN   \n",
       "\n",
       "                  inter1  ...          location latitude longitude  \\\n",
       "0            Rebel group  ...           Ibdakan  18.9689    2.0041   \n",
       "1            Rebel group  ...          Gnangdin  11.3693   -0.3600   \n",
       "2           State forces  ...  Eghacher-Sediden  18.5558    1.1113   \n",
       "3  External/Other forces  ...           Bibiani   6.4667   -2.3333   \n",
       "4                Rioters  ...             Accra   5.5560   -0.1969   \n",
       "\n",
       "  geo_precision              source         source_scale  \\\n",
       "0             2          Al Zallaqa            New media   \n",
       "1             1  Undisclosed Source  Local partner-Other   \n",
       "2             1             Twitter            New media   \n",
       "3             2              3 News             National   \n",
       "4             3           Ghana Web             National   \n",
       "\n",
       "                                               notes fatalities  \\\n",
       "0  On 28 February 2025, JNIM claimed to have targ...          0   \n",
       "1  On 28 February 2025, an armed group (likely JN...          0   \n",
       "2  On 28 February 2025, a FAMa and Wagner patrol ...          0   \n",
       "3  On 28 February 2025, a land guard shot a farme...          0   \n",
       "4  On 28 February 2025, citizens threw stones at ...          0   \n",
       "\n",
       "                   tags   timestamp  \n",
       "0                   NaN  1741039795  \n",
       "1                   NaN  1741039795  \n",
       "2                   NaN  1741039795  \n",
       "3                   NaN  1741039795  \n",
       "4  crowd size=no report  1741039795  \n",
       "\n",
       "[5 rows x 31 columns]"
      ]
     },
     "execution_count": 61,
     "metadata": {},
     "output_type": "execute_result"
    }
   ],
   "source": [
    "# Load the dataset\n",
    "data = pd.read_csv('../../AfricaConflictDataset.csv')\n",
    "\n",
    "# Display the first few rows of the dataset\n",
    "data.head()"
   ]
  },
  {
   "cell_type": "markdown",
   "metadata": {},
   "source": [
    "**C) Data Shape**"
   ]
  },
  {
   "cell_type": "code",
   "execution_count": 62,
   "metadata": {},
   "outputs": [
    {
     "name": "stdout",
     "output_type": "stream",
     "text": [
      "Our data has 413947 rows and 31 columns\n"
     ]
    }
   ],
   "source": [
    "print('Our data has {} rows and {} columns'.format(data.shape[0], data.shape[1]))"
   ]
  },
  {
   "cell_type": "markdown",
   "metadata": {},
   "source": [
    "**d) Data Description**\n"
   ]
  },
  {
   "cell_type": "code",
   "execution_count": 63,
   "metadata": {},
   "outputs": [
    {
     "data": {
      "text/html": [
       "<div>\n",
       "<style scoped>\n",
       "    .dataframe tbody tr th:only-of-type {\n",
       "        vertical-align: middle;\n",
       "    }\n",
       "\n",
       "    .dataframe tbody tr th {\n",
       "        vertical-align: top;\n",
       "    }\n",
       "\n",
       "    .dataframe thead th {\n",
       "        text-align: right;\n",
       "    }\n",
       "</style>\n",
       "<table border=\"1\" class=\"dataframe\">\n",
       "  <thead>\n",
       "    <tr style=\"text-align: right;\">\n",
       "      <th></th>\n",
       "      <th>year</th>\n",
       "      <th>time_precision</th>\n",
       "      <th>iso</th>\n",
       "      <th>latitude</th>\n",
       "      <th>longitude</th>\n",
       "      <th>geo_precision</th>\n",
       "      <th>fatalities</th>\n",
       "      <th>timestamp</th>\n",
       "    </tr>\n",
       "  </thead>\n",
       "  <tbody>\n",
       "    <tr>\n",
       "      <th>count</th>\n",
       "      <td>413947.000000</td>\n",
       "      <td>413947.000000</td>\n",
       "      <td>413947.000000</td>\n",
       "      <td>413947.000000</td>\n",
       "      <td>413947.000000</td>\n",
       "      <td>413947.000000</td>\n",
       "      <td>413947.000000</td>\n",
       "      <td>4.139470e+05</td>\n",
       "    </tr>\n",
       "    <tr>\n",
       "      <th>mean</th>\n",
       "      <td>2017.527964</td>\n",
       "      <td>1.130737</td>\n",
       "      <td>510.399988</td>\n",
       "      <td>6.922263</td>\n",
       "      <td>21.886800</td>\n",
       "      <td>1.279074</td>\n",
       "      <td>2.439153</td>\n",
       "      <td>1.676141e+09</td>\n",
       "    </tr>\n",
       "    <tr>\n",
       "      <th>std</th>\n",
       "      <td>6.608510</td>\n",
       "      <td>0.393477</td>\n",
       "      <td>250.075057</td>\n",
       "      <td>15.495063</td>\n",
       "      <td>16.776814</td>\n",
       "      <td>0.494604</td>\n",
       "      <td>24.320917</td>\n",
       "      <td>5.263689e+07</td>\n",
       "    </tr>\n",
       "    <tr>\n",
       "      <th>min</th>\n",
       "      <td>1997.000000</td>\n",
       "      <td>1.000000</td>\n",
       "      <td>12.000000</td>\n",
       "      <td>-34.706800</td>\n",
       "      <td>-25.163100</td>\n",
       "      <td>1.000000</td>\n",
       "      <td>0.000000</td>\n",
       "      <td>1.552576e+09</td>\n",
       "    </tr>\n",
       "    <tr>\n",
       "      <th>25%</th>\n",
       "      <td>2015.000000</td>\n",
       "      <td>1.000000</td>\n",
       "      <td>231.000000</td>\n",
       "      <td>0.315600</td>\n",
       "      <td>8.155500</td>\n",
       "      <td>1.000000</td>\n",
       "      <td>0.000000</td>\n",
       "      <td>1.622068e+09</td>\n",
       "    </tr>\n",
       "    <tr>\n",
       "      <th>50%</th>\n",
       "      <td>2020.000000</td>\n",
       "      <td>1.000000</td>\n",
       "      <td>566.000000</td>\n",
       "      <td>6.693600</td>\n",
       "      <td>28.043600</td>\n",
       "      <td>1.000000</td>\n",
       "      <td>0.000000</td>\n",
       "      <td>1.689711e+09</td>\n",
       "    </tr>\n",
       "    <tr>\n",
       "      <th>75%</th>\n",
       "      <td>2022.000000</td>\n",
       "      <td>1.000000</td>\n",
       "      <td>710.000000</td>\n",
       "      <td>13.515700</td>\n",
       "      <td>33.483300</td>\n",
       "      <td>2.000000</td>\n",
       "      <td>1.000000</td>\n",
       "      <td>1.724714e+09</td>\n",
       "    </tr>\n",
       "    <tr>\n",
       "      <th>max</th>\n",
       "      <td>2025.000000</td>\n",
       "      <td>3.000000</td>\n",
       "      <td>894.000000</td>\n",
       "      <td>37.281500</td>\n",
       "      <td>64.683200</td>\n",
       "      <td>3.000000</td>\n",
       "      <td>1350.000000</td>\n",
       "      <td>1.741072e+09</td>\n",
       "    </tr>\n",
       "  </tbody>\n",
       "</table>\n",
       "</div>"
      ],
      "text/plain": [
       "                year  time_precision            iso       latitude  \\\n",
       "count  413947.000000   413947.000000  413947.000000  413947.000000   \n",
       "mean     2017.527964        1.130737     510.399988       6.922263   \n",
       "std         6.608510        0.393477     250.075057      15.495063   \n",
       "min      1997.000000        1.000000      12.000000     -34.706800   \n",
       "25%      2015.000000        1.000000     231.000000       0.315600   \n",
       "50%      2020.000000        1.000000     566.000000       6.693600   \n",
       "75%      2022.000000        1.000000     710.000000      13.515700   \n",
       "max      2025.000000        3.000000     894.000000      37.281500   \n",
       "\n",
       "           longitude  geo_precision     fatalities     timestamp  \n",
       "count  413947.000000  413947.000000  413947.000000  4.139470e+05  \n",
       "mean       21.886800       1.279074       2.439153  1.676141e+09  \n",
       "std        16.776814       0.494604      24.320917  5.263689e+07  \n",
       "min       -25.163100       1.000000       0.000000  1.552576e+09  \n",
       "25%         8.155500       1.000000       0.000000  1.622068e+09  \n",
       "50%        28.043600       1.000000       0.000000  1.689711e+09  \n",
       "75%        33.483300       2.000000       1.000000  1.724714e+09  \n",
       "max        64.683200       3.000000    1350.000000  1.741072e+09  "
      ]
     },
     "execution_count": 63,
     "metadata": {},
     "output_type": "execute_result"
    }
   ],
   "source": [
    "data.describe()"
   ]
  },
  {
   "cell_type": "markdown",
   "metadata": {},
   "source": [
    "Our data includes events surrounding a armed conflict as well as the conflict outcome.\n",
    "\n",
    "\n",
    "The Column Include: \n",
    "\n",
    "event_id_cnty:\n",
    "A unique alphanumeric identifier combining a numeric ID with a country code (e.g., ETH9766).\n",
    "\n",
    "event_date\n",
    "The date on which the event occurred, recorded in YYYY-MM-DD format.\n",
    "\n",
    "year:\n",
    "The year during which the event took place.\n",
    "\n",
    "time_precision:\n",
    "A numeric code (1–3) indicating the precision of the event date, with 1 being the most precise.\n",
    "\n",
    "disorder_type:\n",
    "The overarching category of the event, such as Political violence, Demonstrations, or Strategic developments.\n",
    "\n",
    "event_type:\n",
    "The general classification of the event (e.g., Battles, Protests, Explosions/Remote violence).\n",
    "\n",
    "sub_event_type:\n",
    "A more specific classification within the event type (e.g., Armed clash, Peaceful protest).\n",
    "\n",
    "actor1:\n",
    "The primary actor involved in the event.\n",
    "\n",
    "assoc_actor_1:\n",
    "Additional or supporting actor(s) associated with actor1.\n",
    "\n",
    "inter1:\n",
    "A categorical code describing actor1’s type (e.g., Rebel group, State forces).\n",
    "\n",
    "actor2:\n",
    "The secondary actor involved in the event (which may represent a target or another involved party).\n",
    "\n",
    "assoc_actor_2:\n",
    "Additional or supporting actor(s) associated with actor2.\n",
    "\n",
    "inter2:\n",
    "A categorical code describing actor2’s type.\n",
    "\n",
    "interaction:\n",
    "A combined description derived from inter1 and inter2, indicating the nature of the interaction between the actors.\n",
    "\n",
    "civilian_targeting:\n",
    "An indicator specifying whether civilians were the primary target (e.g., “Civilians targeted”).\n",
    "\n",
    "iso:\n",
    "A three-digit ISO numeric code representing the country where the event occurred.\n",
    "\n",
    "region:\n",
    "The geographic region in which the event took place (e.g., Eastern Africa).\n",
    "\n",
    "country:\n",
    "The country in which the event occurred.\n",
    "\n",
    "admin1:\n",
    "The primary sub-national administrative region (e.g., state or province).\n",
    "\n",
    "admin2:\n",
    "The secondary sub-national administrative region (if applicable).\n",
    "\n",
    "admin3:\n",
    "The tertiary sub-national administrative region (if available).\n",
    "\n",
    "location:\n",
    "The specific name of the place where the event occurred.\n",
    "\n",
    "latitude:\n",
    "The latitude coordinate of the event location in decimal degrees.\n",
    "\n",
    "longitude:\n",
    "The longitude coordinate of the event location in decimal degrees.\n",
    "\n",
    "geo_precision:\n",
    "A numeric code (1–3) indicating the precision of the geographic data, with 1 being the most precise.\n",
    "\n",
    "source:\n",
    "The source(s) used to report the event, which may include multiple sources separated by semicolons.\n",
    "\n",
    "source_scale:\n",
    "Indicates the geographic closeness of the source to the event (e.g., Local partner, National).\n",
    "\n",
    "notes:\n",
    "Additional descriptive information about the event.\n",
    "\n",
    "fatalities:\n",
    "The number of reported fatalities resulting from the event (0 if none are reported).\n",
    "\n",
    "tags:\n",
    "Keywords or structured tags that provide additional context to the event (e.g., “women targeted: politicians”).\n",
    "\n",
    "timestamp:\n",
    "A Unix timestamp representing when the event was uploaded to the ACLED API, capturing the exact date and time of data entry.\n",
    "\n",
    "\n"
   ]
  },
  {
   "cell_type": "markdown",
   "metadata": {},
   "source": [
    "**e) Datatypes**\n"
   ]
  },
  {
   "cell_type": "code",
   "execution_count": 64,
   "metadata": {},
   "outputs": [
    {
     "name": "stdout",
     "output_type": "stream",
     "text": [
      "<class 'pandas.core.frame.DataFrame'>\n",
      "RangeIndex: 413947 entries, 0 to 413946\n",
      "Data columns (total 31 columns):\n",
      " #   Column              Non-Null Count   Dtype  \n",
      "---  ------              --------------   -----  \n",
      " 0   event_id_cnty       413947 non-null  object \n",
      " 1   event_date          413947 non-null  object \n",
      " 2   year                413947 non-null  int64  \n",
      " 3   time_precision      413947 non-null  int64  \n",
      " 4   disorder_type       413947 non-null  object \n",
      " 5   event_type          413947 non-null  object \n",
      " 6   sub_event_type      413947 non-null  object \n",
      " 7   actor1              413947 non-null  object \n",
      " 8   assoc_actor_1       114747 non-null  object \n",
      " 9   inter1              413947 non-null  object \n",
      " 10  actor2              301956 non-null  object \n",
      " 11  assoc_actor_2       85527 non-null   object \n",
      " 12  inter2              301956 non-null  object \n",
      " 13  interaction         413947 non-null  object \n",
      " 14  civilian_targeting  123147 non-null  object \n",
      " 15  iso                 413947 non-null  int64  \n",
      " 16  region              413947 non-null  object \n",
      " 17  country             413947 non-null  object \n",
      " 18  admin1              413930 non-null  object \n",
      " 19  admin2              410127 non-null  object \n",
      " 20  admin3              209892 non-null  object \n",
      " 21  location            413947 non-null  object \n",
      " 22  latitude            413947 non-null  float64\n",
      " 23  longitude           413947 non-null  float64\n",
      " 24  geo_precision       413947 non-null  int64  \n",
      " 25  source              413947 non-null  object \n",
      " 26  source_scale        413947 non-null  object \n",
      " 27  notes               413947 non-null  object \n",
      " 28  fatalities          413947 non-null  int64  \n",
      " 29  tags                94466 non-null   object \n",
      " 30  timestamp           413947 non-null  int64  \n",
      "dtypes: float64(2), int64(6), object(23)\n",
      "memory usage: 97.9+ MB\n"
     ]
    }
   ],
   "source": [
    "data.info()"
   ]
  },
  {
   "cell_type": "markdown",
   "metadata": {},
   "source": [
    "**f) Duplicates**\n"
   ]
  },
  {
   "cell_type": "code",
   "execution_count": 65,
   "metadata": {},
   "outputs": [
    {
     "data": {
      "text/plain": [
       "0"
      ]
     },
     "execution_count": 65,
     "metadata": {},
     "output_type": "execute_result"
    }
   ],
   "source": [
    "data.duplicated().sum()\n"
   ]
  },
  {
   "cell_type": "markdown",
   "metadata": {},
   "source": [
    "relevant_data.isna().sum()/data.shape[0]*100"
   ]
  },
  {
   "cell_type": "markdown",
   "metadata": {},
   "source": [
    "**g) Missing Values**\n",
    "\n",
    "Next, we will look at missing data by column percentage."
   ]
  },
  {
   "cell_type": "code",
   "execution_count": 66,
   "metadata": {},
   "outputs": [
    {
     "data": {
      "text/plain": [
       "event_id_cnty          0.000000\n",
       "event_date             0.000000\n",
       "year                   0.000000\n",
       "time_precision         0.000000\n",
       "disorder_type          0.000000\n",
       "event_type             0.000000\n",
       "sub_event_type         0.000000\n",
       "actor1                 0.000000\n",
       "assoc_actor_1         72.279785\n",
       "inter1                 0.000000\n",
       "actor2                27.054430\n",
       "assoc_actor_2         79.338659\n",
       "inter2                27.054430\n",
       "interaction            0.000000\n",
       "civilian_targeting    70.250539\n",
       "iso                    0.000000\n",
       "region                 0.000000\n",
       "country                0.000000\n",
       "admin1                 0.004107\n",
       "admin2                 0.922823\n",
       "admin3                49.294958\n",
       "location               0.000000\n",
       "latitude               0.000000\n",
       "longitude              0.000000\n",
       "geo_precision          0.000000\n",
       "source                 0.000000\n",
       "source_scale           0.000000\n",
       "notes                  0.000000\n",
       "fatalities             0.000000\n",
       "tags                  77.179204\n",
       "timestamp              0.000000\n",
       "dtype: float64"
      ]
     },
     "execution_count": 66,
     "metadata": {},
     "output_type": "execute_result"
    }
   ],
   "source": [
    "data.isna().sum()/data.shape[0]*100\n"
   ]
  },
  {
   "cell_type": "markdown",
   "metadata": {},
   "source": [
    "We will start by inspecting and handling columns with a large amount of missing data"
   ]
  },
  {
   "cell_type": "code",
   "execution_count": 67,
   "metadata": {},
   "outputs": [
    {
     "name": "stdout",
     "output_type": "stream",
     "text": [
      "assoc_actor_1\n",
      " Missing value percent 72.28\n",
      " Unique values [nan 'Wagner Group'\n",
      " 'Al Adl Wa Al Ihssane; Labor Group (Morocco); LMDDH: Moroccan League for the Defense of Human Rights'\n",
      " ... 'San Ethnic Group (Namibia)'\n",
      " 'Military Forces of Ethiopia (1991-2018); NDA: National Democratic Alliance (Sudan)'\n",
      " 'Military Forces of the Central African Republic (1993-2003) Yakoma Faction']\n",
      "assoc_actor_2\n",
      " Missing value percent 79.34\n",
      " Unique values ['Wagner Group' nan 'Farmers (Ghana)' ...\n",
      " 'Aid Workers (Spain); Women (Spain); Aid Workers (United States)'\n",
      " 'NADECO: National Democratic Coalition Militia'\n",
      " 'Government of the United States (1993-2001)']\n",
      "civilian_targeting\n",
      " Missing value percent 70.25\n",
      " Unique values [nan 'Civilian targeting']\n",
      "tags\n",
      " Missing value percent 77.18\n",
      " Unique values [nan 'crowd size=no report' 'crowd size=scores' ...\n",
      " 'crowd size=at least 35; sexual violence'\n",
      " 'crowd size=3; women targeted: candidates for office'\n",
      " 'crowd size=no report; sexual violence; women targeted: protesters']\n"
     ]
    }
   ],
   "source": [
    "for col in data.columns:\n",
    "    if data[col].isna().sum()/data.shape[0]*100 > 50:\n",
    "        print(f'{col}\\n Missing value percent {data[col].isna().sum()/data.shape[0]*100:.2f}\\n Unique values {data[col].unique()}')"
   ]
  },
  {
   "cell_type": "markdown",
   "metadata": {},
   "source": [
    "We can drop these columns as they contain a large amount of missing data and imputing them based on mean, mode or median will change their distributions"
   ]
  },
  {
   "cell_type": "code",
   "execution_count": 68,
   "metadata": {},
   "outputs": [
    {
     "name": "stdout",
     "output_type": "stream",
     "text": [
      "event_id_cnty          0\n",
      "event_date             0\n",
      "year                   0\n",
      "time_precision         0\n",
      "disorder_type          0\n",
      "event_type             0\n",
      "sub_event_type         0\n",
      "actor1                 0\n",
      "inter1                 0\n",
      "actor2            111991\n",
      "inter2            111991\n",
      "interaction            0\n",
      "iso                    0\n",
      "region                 0\n",
      "country                0\n",
      "admin1                17\n",
      "admin2              3820\n",
      "admin3            204055\n",
      "location               0\n",
      "latitude               0\n",
      "longitude              0\n",
      "geo_precision          0\n",
      "source                 0\n",
      "source_scale           0\n",
      "notes                  0\n",
      "fatalities             0\n",
      "timestamp              0\n",
      "dtype: int64\n"
     ]
    }
   ],
   "source": [
    "columns_to_drop = [col for col in data.columns if data[col].isna().sum()/data.shape[0]*100 > 50]\n",
    "data = data.drop(columns = columns_to_drop, axis=1)\n",
    "\n",
    "print(data.isna().sum())"
   ]
  },
  {
   "cell_type": "code",
   "execution_count": 69,
   "metadata": {},
   "outputs": [],
   "source": [
    "# dropping less relevant columns\n",
    "data = data.drop(columns=['actor2', 'inter2', 'admin1', 'admin2','admin3','source_scale', 'notes'])\n",
    "data = data.dropna()"
   ]
  },
  {
   "cell_type": "markdown",
   "metadata": {},
   "source": [
    "**h) Variable Types**\n"
   ]
  },
  {
   "cell_type": "code",
   "execution_count": 70,
   "metadata": {},
   "outputs": [
    {
     "name": "stdout",
     "output_type": "stream",
     "text": [
      "We have 12 categorical columns and 8 continuous columns\n"
     ]
    }
   ],
   "source": [
    "# Separate categorical columns\n",
    "categorical_columns = data.select_dtypes(include=['object']).columns.tolist()\n",
    "\n",
    "# Separate continuous (numerical) columns\n",
    "continuous_columns = data.select_dtypes(include=['float64', 'int64']).columns.tolist()\n",
    "\n",
    "# Display the separated columns\n",
    "print(f\"We have {len(categorical_columns)} categorical columns and {len(continuous_columns)} continuous columns\")"
   ]
  },
  {
   "cell_type": "markdown",
   "metadata": {},
   "source": [
    "**3. EDA & D DATA PREPARATION**\n",
    "\n",
    "In the EDA section, we explored the various features in the data, clean and tranform some of the features.\n",
    "\n"
   ]
  },
  {
   "cell_type": "markdown",
   "metadata": {},
   "source": [
    "***a) Basic Descriptive Statistics***\n",
    "\n",
    "Continuous Columns: We will get an overview of the distribution, central tendency, and spread\n"
   ]
  },
  {
   "cell_type": "code",
   "execution_count": 71,
   "metadata": {},
   "outputs": [
    {
     "data": {
      "text/html": [
       "<div>\n",
       "<style scoped>\n",
       "    .dataframe tbody tr th:only-of-type {\n",
       "        vertical-align: middle;\n",
       "    }\n",
       "\n",
       "    .dataframe tbody tr th {\n",
       "        vertical-align: top;\n",
       "    }\n",
       "\n",
       "    .dataframe thead th {\n",
       "        text-align: right;\n",
       "    }\n",
       "</style>\n",
       "<table border=\"1\" class=\"dataframe\">\n",
       "  <thead>\n",
       "    <tr style=\"text-align: right;\">\n",
       "      <th></th>\n",
       "      <th>year</th>\n",
       "      <th>time_precision</th>\n",
       "      <th>iso</th>\n",
       "      <th>latitude</th>\n",
       "      <th>longitude</th>\n",
       "      <th>geo_precision</th>\n",
       "      <th>fatalities</th>\n",
       "      <th>timestamp</th>\n",
       "    </tr>\n",
       "  </thead>\n",
       "  <tbody>\n",
       "    <tr>\n",
       "      <th>count</th>\n",
       "      <td>413947.000000</td>\n",
       "      <td>413947.000000</td>\n",
       "      <td>413947.000000</td>\n",
       "      <td>413947.000000</td>\n",
       "      <td>413947.000000</td>\n",
       "      <td>413947.000000</td>\n",
       "      <td>413947.000000</td>\n",
       "      <td>4.139470e+05</td>\n",
       "    </tr>\n",
       "    <tr>\n",
       "      <th>mean</th>\n",
       "      <td>2017.527964</td>\n",
       "      <td>1.130737</td>\n",
       "      <td>510.399988</td>\n",
       "      <td>6.922263</td>\n",
       "      <td>21.886800</td>\n",
       "      <td>1.279074</td>\n",
       "      <td>2.439153</td>\n",
       "      <td>1.676141e+09</td>\n",
       "    </tr>\n",
       "    <tr>\n",
       "      <th>std</th>\n",
       "      <td>6.608510</td>\n",
       "      <td>0.393477</td>\n",
       "      <td>250.075057</td>\n",
       "      <td>15.495063</td>\n",
       "      <td>16.776814</td>\n",
       "      <td>0.494604</td>\n",
       "      <td>24.320917</td>\n",
       "      <td>5.263689e+07</td>\n",
       "    </tr>\n",
       "    <tr>\n",
       "      <th>min</th>\n",
       "      <td>1997.000000</td>\n",
       "      <td>1.000000</td>\n",
       "      <td>12.000000</td>\n",
       "      <td>-34.706800</td>\n",
       "      <td>-25.163100</td>\n",
       "      <td>1.000000</td>\n",
       "      <td>0.000000</td>\n",
       "      <td>1.552576e+09</td>\n",
       "    </tr>\n",
       "    <tr>\n",
       "      <th>25%</th>\n",
       "      <td>2015.000000</td>\n",
       "      <td>1.000000</td>\n",
       "      <td>231.000000</td>\n",
       "      <td>0.315600</td>\n",
       "      <td>8.155500</td>\n",
       "      <td>1.000000</td>\n",
       "      <td>0.000000</td>\n",
       "      <td>1.622068e+09</td>\n",
       "    </tr>\n",
       "    <tr>\n",
       "      <th>50%</th>\n",
       "      <td>2020.000000</td>\n",
       "      <td>1.000000</td>\n",
       "      <td>566.000000</td>\n",
       "      <td>6.693600</td>\n",
       "      <td>28.043600</td>\n",
       "      <td>1.000000</td>\n",
       "      <td>0.000000</td>\n",
       "      <td>1.689711e+09</td>\n",
       "    </tr>\n",
       "    <tr>\n",
       "      <th>75%</th>\n",
       "      <td>2022.000000</td>\n",
       "      <td>1.000000</td>\n",
       "      <td>710.000000</td>\n",
       "      <td>13.515700</td>\n",
       "      <td>33.483300</td>\n",
       "      <td>2.000000</td>\n",
       "      <td>1.000000</td>\n",
       "      <td>1.724714e+09</td>\n",
       "    </tr>\n",
       "    <tr>\n",
       "      <th>max</th>\n",
       "      <td>2025.000000</td>\n",
       "      <td>3.000000</td>\n",
       "      <td>894.000000</td>\n",
       "      <td>37.281500</td>\n",
       "      <td>64.683200</td>\n",
       "      <td>3.000000</td>\n",
       "      <td>1350.000000</td>\n",
       "      <td>1.741072e+09</td>\n",
       "    </tr>\n",
       "  </tbody>\n",
       "</table>\n",
       "</div>"
      ],
      "text/plain": [
       "                year  time_precision            iso       latitude  \\\n",
       "count  413947.000000   413947.000000  413947.000000  413947.000000   \n",
       "mean     2017.527964        1.130737     510.399988       6.922263   \n",
       "std         6.608510        0.393477     250.075057      15.495063   \n",
       "min      1997.000000        1.000000      12.000000     -34.706800   \n",
       "25%      2015.000000        1.000000     231.000000       0.315600   \n",
       "50%      2020.000000        1.000000     566.000000       6.693600   \n",
       "75%      2022.000000        1.000000     710.000000      13.515700   \n",
       "max      2025.000000        3.000000     894.000000      37.281500   \n",
       "\n",
       "           longitude  geo_precision     fatalities     timestamp  \n",
       "count  413947.000000  413947.000000  413947.000000  4.139470e+05  \n",
       "mean       21.886800       1.279074       2.439153  1.676141e+09  \n",
       "std        16.776814       0.494604      24.320917  5.263689e+07  \n",
       "min       -25.163100       1.000000       0.000000  1.552576e+09  \n",
       "25%         8.155500       1.000000       0.000000  1.622068e+09  \n",
       "50%        28.043600       1.000000       0.000000  1.689711e+09  \n",
       "75%        33.483300       2.000000       1.000000  1.724714e+09  \n",
       "max        64.683200       3.000000    1350.000000  1.741072e+09  "
      ]
     },
     "execution_count": 71,
     "metadata": {},
     "output_type": "execute_result"
    }
   ],
   "source": [
    "data[continuous_columns].describe()"
   ]
  },
  {
   "cell_type": "markdown",
   "metadata": {},
   "source": [
    "Our continuous data seems to have different scales across different features. Hence we may need to scale it\n",
    "\n",
    "Categorical Columns: We will get an overview of the distribution in each categorical column\n",
    "\n",
    "\n"
   ]
  },
  {
   "cell_type": "code",
   "execution_count": 72,
   "metadata": {},
   "outputs": [
    {
     "data": {
      "text/html": [
       "<div>\n",
       "<style scoped>\n",
       "    .dataframe tbody tr th:only-of-type {\n",
       "        vertical-align: middle;\n",
       "    }\n",
       "\n",
       "    .dataframe tbody tr th {\n",
       "        vertical-align: top;\n",
       "    }\n",
       "\n",
       "    .dataframe thead th {\n",
       "        text-align: right;\n",
       "    }\n",
       "</style>\n",
       "<table border=\"1\" class=\"dataframe\">\n",
       "  <thead>\n",
       "    <tr style=\"text-align: right;\">\n",
       "      <th></th>\n",
       "      <th>event_id_cnty</th>\n",
       "      <th>event_date</th>\n",
       "      <th>disorder_type</th>\n",
       "      <th>event_type</th>\n",
       "      <th>sub_event_type</th>\n",
       "      <th>actor1</th>\n",
       "      <th>inter1</th>\n",
       "      <th>interaction</th>\n",
       "      <th>region</th>\n",
       "      <th>country</th>\n",
       "      <th>location</th>\n",
       "      <th>source</th>\n",
       "    </tr>\n",
       "  </thead>\n",
       "  <tbody>\n",
       "    <tr>\n",
       "      <th>count</th>\n",
       "      <td>413947</td>\n",
       "      <td>413947</td>\n",
       "      <td>413947</td>\n",
       "      <td>413947</td>\n",
       "      <td>413947</td>\n",
       "      <td>413947</td>\n",
       "      <td>413947</td>\n",
       "      <td>413947</td>\n",
       "      <td>413947</td>\n",
       "      <td>413947</td>\n",
       "      <td>413947</td>\n",
       "      <td>413947</td>\n",
       "    </tr>\n",
       "    <tr>\n",
       "      <th>unique</th>\n",
       "      <td>413947</td>\n",
       "      <td>10275</td>\n",
       "      <td>4</td>\n",
       "      <td>6</td>\n",
       "      <td>25</td>\n",
       "      <td>6154</td>\n",
       "      <td>8</td>\n",
       "      <td>43</td>\n",
       "      <td>5</td>\n",
       "      <td>57</td>\n",
       "      <td>41526</td>\n",
       "      <td>29537</td>\n",
       "    </tr>\n",
       "    <tr>\n",
       "      <th>top</th>\n",
       "      <td>MLI33921</td>\n",
       "      <td>18/10/2023</td>\n",
       "      <td>Political violence</td>\n",
       "      <td>Battles</td>\n",
       "      <td>Armed clash</td>\n",
       "      <td>Al Shabaab</td>\n",
       "      <td>Protesters</td>\n",
       "      <td>Protesters only</td>\n",
       "      <td>Eastern Africa</td>\n",
       "      <td>Somalia</td>\n",
       "      <td>Khartoum</td>\n",
       "      <td>Undisclosed Source</td>\n",
       "    </tr>\n",
       "    <tr>\n",
       "      <th>freq</th>\n",
       "      <td>1</td>\n",
       "      <td>254</td>\n",
       "      <td>256514</td>\n",
       "      <td>105556</td>\n",
       "      <td>98598</td>\n",
       "      <td>17778</td>\n",
       "      <td>93991</td>\n",
       "      <td>83860</td>\n",
       "      <td>129294</td>\n",
       "      <td>48651</td>\n",
       "      <td>1946</td>\n",
       "      <td>46674</td>\n",
       "    </tr>\n",
       "  </tbody>\n",
       "</table>\n",
       "</div>"
      ],
      "text/plain": [
       "       event_id_cnty  event_date       disorder_type event_type  \\\n",
       "count         413947      413947              413947     413947   \n",
       "unique        413947       10275                   4          6   \n",
       "top         MLI33921  18/10/2023  Political violence    Battles   \n",
       "freq               1         254              256514     105556   \n",
       "\n",
       "       sub_event_type      actor1      inter1      interaction  \\\n",
       "count          413947      413947      413947           413947   \n",
       "unique             25        6154           8               43   \n",
       "top       Armed clash  Al Shabaab  Protesters  Protesters only   \n",
       "freq            98598       17778       93991            83860   \n",
       "\n",
       "                region  country  location              source  \n",
       "count           413947   413947    413947              413947  \n",
       "unique               5       57     41526               29537  \n",
       "top     Eastern Africa  Somalia  Khartoum  Undisclosed Source  \n",
       "freq            129294    48651      1946               46674  "
      ]
     },
     "execution_count": 72,
     "metadata": {},
     "output_type": "execute_result"
    }
   ],
   "source": [
    "data[categorical_columns].describe()"
   ]
  },
  {
   "cell_type": "markdown",
   "metadata": {},
   "source": [
    "**Splitting Categorical from Numerical**\n"
   ]
  },
  {
   "cell_type": "code",
   "execution_count": 73,
   "metadata": {},
   "outputs": [],
   "source": [
    "\n",
    "# Selecting categorical variables\n",
    "categorical = data.select_dtypes(include=['object'])\n",
    "#Selecting numerical variables\n",
    "numerical = data.select_dtypes(include=['number'])"
   ]
  },
  {
   "cell_type": "markdown",
   "metadata": {},
   "source": [
    "**Number of labels: cardinality**\n"
   ]
  },
  {
   "cell_type": "code",
   "execution_count": 74,
   "metadata": {},
   "outputs": [
    {
     "name": "stdout",
     "output_type": "stream",
     "text": [
      "event_id_cnty  contains  413947  labels\n",
      "event_date  contains  10275  labels\n",
      "disorder_type  contains  4  labels\n",
      "event_type  contains  6  labels\n",
      "sub_event_type  contains  25  labels\n",
      "actor1  contains  6154  labels\n",
      "inter1  contains  8  labels\n",
      "interaction  contains  43  labels\n",
      "region  contains  5  labels\n",
      "country  contains  57  labels\n",
      "location  contains  41526  labels\n",
      "source  contains  29537  labels\n"
     ]
    }
   ],
   "source": [
    "# check for cardinality in categorical variables\n",
    "\n",
    "for var in categorical:\n",
    "    \n",
    "    print(var, ' contains ', len(data[var].unique()), ' labels')"
   ]
  },
  {
   "cell_type": "markdown",
   "metadata": {},
   "source": [
    "Some of our categorical features have a lot of categories. Hence we may need to use target encoding to deal with high cardinality.\n",
    "\n",
    "Target encoding replaces each category with the mean of the target variable for that category. This reduces the dimensionality by not increasing the number of features, which can help in preventing overfitting. Example: If a category is frequently associated with fatalities, the encoding will reflect that association. Target encoding should not alter the shape of our data."
   ]
  },
  {
   "cell_type": "markdown",
   "metadata": {},
   "source": [
    "**b) Feature Engineering**"
   ]
  },
  {
   "cell_type": "code",
   "execution_count": 75,
   "metadata": {},
   "outputs": [],
   "source": [
    "# Feature Engineering of fatalities into severity levels\n",
    "def categorize_fatalities(fatalities):\n",
    "    if fatalities == 0:\n",
    "        return 'Low'\n",
    "    elif fatalities <= 10:\n",
    "        return 'Medium'\n",
    "    else:\n",
    "        return 'High'"
   ]
  },
  {
   "cell_type": "code",
   "execution_count": 76,
   "metadata": {},
   "outputs": [],
   "source": [
    "data['conflict_severity'] = data['fatalities'].apply(categorize_fatalities)\n",
    "data['conflict_severity_coded'] = LabelEncoder().fit_transform(data['conflict_severity'])"
   ]
  },
  {
   "cell_type": "markdown",
   "metadata": {},
   "source": [
    "**Visualization**"
   ]
  },
  {
   "cell_type": "code",
   "execution_count": 77,
   "metadata": {},
   "outputs": [
    {
     "data": {
      "image/png": "[encoded data removed]",
      "text/plain": [
       "<Figure size 864x432 with 1 Axes>"
      ]
     },
     "metadata": {
      "needs_background": "light"
     },
     "output_type": "display_data"
    }
   ],
   "source": [
    "plt.figure(figsize=(12, 6))\n",
    "sns.boxplot(x=data['conflict_severity'], y=data['fatalities'])\n",
    "plt.title('Boxplot of Fatalities by Conflict Severity')\n",
    "plt.xlabel('Conflict Severity')\n",
    "plt.ylabel('Fatalities')\n",
    "plt.show()"
   ]
  },
  {
   "cell_type": "markdown",
   "metadata": {},
   "source": [
    "This boxplot effectively communicates several critical insights about conflict patterns:\n",
    "\n",
    "Severity-Fatality Relationship: There is a clear relationship between conflict severity classification and actual fatality counts, with high severity conflicts resulting in significantly more fatalities\n",
    "\n",
    "Extreme Variation in High Severity Conflicts: The high severity category shows not only higher median fatalities but also much greater variability, with some extremely deadly outlier events\n",
    "\n",
    "Right-Skewed Distribution: Even within high severity conflicts, most events result in relatively lower fatality counts, with fewer catastrophic events causing extremely high casualties\n",
    "\n",
    "Outlier Identification: The visualization highlights exceptional cases that warrant further investigation, particularly in the high severity category\n",
    "This boxplot serves as an effective tool for comparing the three conflict severity groups, providing immediate visual evidence of their different fatality distributions and identifying potential areas for focused analysis of extreme events."
   ]
  },
  {
   "cell_type": "code",
   "execution_count": 78,
   "metadata": {},
   "outputs": [
    {
     "data": {
      "image/png": "[encoded data removed]",
      "text/plain": [
       "<Figure size 576x360 with 1 Axes>"
      ]
     },
     "metadata": {
      "needs_background": "light"
     },
     "output_type": "display_data"
    }
   ],
   "source": [
    "plt.figure(figsize=(8, 5))\n",
    "sns.countplot(x=data['conflict_severity'])\n",
    "plt.title('Conflict Severity Distribution')\n",
    "plt.xlabel('Severity Level')\n",
    "plt.ylabel('Count')\n",
    "plt.show()"
   ]
  },
  {
   "cell_type": "markdown",
   "metadata": {},
   "source": [
    "The bar chart provides crucial context about the relative frequency of each conflict type:\n",
    "\n",
    "Low Severity: Approximately 280,000 events (roughly 68% of the dataset)\n",
    "\n",
    "Medium Severity: Approximately 110,000 events (roughly 27% of the dataset)\n",
    "\n",
    "High Severity: Approximately 20,000 events (roughly 5% of the dataset)\n",
    "\n",
    "Inverse Relationship Between Frequency and Impact: Low severity conflicts dominate numerically but have minimal individual impact on fatalities. High severity conflicts, while relatively rare, account for the overwhelming majority of conflict-related deaths.\n",
    "\n",
    "Concentrated Lethality: Though representing only about 5% of total conflict events, high severity conflicts produce casualties that are orders of magnitude higher than other categories, suggesting concentrated episodes of extreme violence.\n",
    "\n",
    "Statistical Challenges: The extreme right-skew in the distribution of fatalities, particularly in high severity conflicts, means that mean values would be heavily influenced by outliers. Median values provide more representative measures of typical fatality rates."
   ]
  },
  {
   "cell_type": "code",
   "execution_count": 79,
   "metadata": {},
   "outputs": [
    {
     "ename": "SyntaxError",
     "evalue": "EOL while scanning string literal (<ipython-input-79-38ad70a0e075>, line 5)",
     "output_type": "error",
     "traceback": [
      "\u001b[0;36m  File \u001b[0;32m\"<ipython-input-79-38ad70a0e075>\"\u001b[0;36m, line \u001b[0;32m5\u001b[0m\n\u001b[0;31m    plt.ylabel('Co\u001b[0m\n\u001b[0m                  ^\u001b[0m\n\u001b[0;31mSyntaxError\u001b[0m\u001b[0;31m:\u001b[0m EOL while scanning string literal\n"
     ]
    }
   ],
   "source": [
    "plt.figure(figsize=(10, 5))\n",
    "sns.histplot(data['fatalities'], bins=30, kde=True)\n",
    "plt.title('Distribution of Fatalities in Conflicts')\n",
    "plt.xlabel('Fatalities')\n",
    "plt.ylabel('Co\n",
    "plt.show()unt')"
   ]
  },
  {
   "cell_type": "code",
   "execution_count": null,
   "metadata": {},
   "outputs": [
    {
     "data": {
      "image/png": "[encoded data removed]",
      "text/plain": [
       "<Figure size 720x720 with 9 Axes>"
      ]
     },
     "metadata": {
      "needs_background": "light"
     },
     "output_type": "display_data"
    }
   ],
   "source": [
    "data[continuous_columns].hist(figsize=(10, 10), bins=10) #plot histograms\n",
    "plt.show()"
   ]
  },
  {
   "cell_type": "markdown",
   "metadata": {},
   "source": [
    "**Specific Observations for Data Understanding and Preparation:**\n"
   ]
  },
  {
   "cell_type": "markdown",
   "metadata": {},
   "source": [
    "**Correlation Analysis**\n"
   ]
  },
  {
   "cell_type": "code",
   "execution_count": null,
   "metadata": {},
   "outputs": [
    {
     "data": {
      "image/png": "[encoded data removed]",
      "text/plain": [
       "<Figure size 1440x1080 with 2 Axes>"
      ]
     },
     "metadata": {
      "needs_background": "light"
     },
     "output_type": "display_data"
    }
   ],
   "source": [
    "plt.subplots(figsize=(20,15))\n",
    "sns.heatmap(data[continuous_columns].corr(),cmap=\"coolwarm\",annot=True);"
   ]
  }
 ],
 "metadata": {
  "kernelspec": {
   "display_name": "Python (learn-env)",
   "language": "python",
   "name": "learn-env"
  },
  "language_info": {
   "codemirror_mode": {
    "name": "ipython",
    "version": 3
   },
   "file_extension": ".py",
   "mimetype": "text/x-python",
   "name": "python",
   "nbconvert_exporter": "python",
   "pygments_lexer": "ipython3",
   "version": "3.8.5"
  }
 },
 "nbformat": 4,
 "nbformat_minor": 2
}
